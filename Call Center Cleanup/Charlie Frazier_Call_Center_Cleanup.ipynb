{
 "cells": [
  {
   "cell_type": "markdown",
   "id": "331a1c4f",
   "metadata": {},
   "source": [
    "# Call Center Cleanup\n",
    "\n",
    "For this assignment, we will be working with call center data. You can start working on the assignment after the first lesson on Exploratory Data Analysis with pandas. Make sure to read the whole assignment before starting anything! As you code along in the Jupyter notebook, you are asked to make note of the results of your analysis. Do so by clicking on the results box and adding your notes beside each question.\n",
    "\n",
    "## Business Issue and Understanding\n",
    "\n",
    "You are working for a company that has two call centers: the North Call Center and the South Call Center. The company is looking to possibly hire five additional reps to enhance customer experience. Your task is to explore how efficient the current reps are in each branch to determine which branch would benefit from additional assistance.\n",
    "\n",
    "### How the Call Center Works\n",
    "\n",
    "Call center representatives are assigned queues. When calls are assigned to a queue, the call is assigned to the next person in line in the queue. After a call is assigned to a representative, the amount of time between assignment and the call starting is divided into busy minutes and not ready minutes. If the call is incoming and a customer is waiting on the phone for a rep, the time is split into three categories: busy minutes, not ready minutes, and incoming call wait time. Once the rep has the customer on the phone, there might be during call wait time, where the call is put on hold while the rep gets an answer for the customer.\n",
    "\n",
    "### Notes about the Dataset\n",
    "\n",
    "If you haven't worked in a call center before, these notes might help you throughout your analysis.\n",
    "\n",
    "* The call purpose is tagged for each call.\n",
    "* The time of the call is tagged in 1 hour blocks starting at 9:00 AM and ending at 5:00 PM.\n",
    "* Calls are tagged as incoming or outgoing.\n",
    "* Reps are assigned to queues. When the reps are working, they take calls in the order of their queue.\n",
    "* A call that is dropped due to technical error or missed by the center because they have reached maximum capacity is a lost call.\n",
    "* An abandoned call is when the customer hangs up because they have been waiting for too long.\n",
    "* Busy Minutes: the amount of time after a call comes in or needs to go out where the assigned rep is not available because they are busy with other customers.\n",
    "* Not Ready Minutes: the amount of time after a call comes in or needs to go out where the assigned rep is not available because they are not ready (for example, getting water).\n",
    "* Incoming Wait Time - amount of time after assigned rep is available to take the call customer waits for representative to pick up a call. This is tracked in seconds.\n",
    "* During Call Wait Time - amount of time during call that customer has to wait for representative\n",
    "\n",
    "## Getting Started\n",
    "\n",
    "You have two CSVs at your disposal, `NorthCallCenter.csv` and `SouthCallCenter.csv`. Import the appropriate libraries and create two dataframes, one called `north_df` and one called `south_df`."
   ]
  },
  {
   "cell_type": "code",
   "execution_count": 87,
   "id": "f362436b",
   "metadata": {},
   "outputs": [
    {
     "name": "stdout",
     "output_type": "stream",
     "text": [
      "     Unnamed: 0 Branch     Call Purpose Time Block Incoming or Outgoing Queue  \\\n",
      "0             0  North        Complaint    9:00 AM             Incoming     B   \n",
      "1             1  North    Sales Support   11:00 AM             Incoming     A   \n",
      "2             2  North    Sales Support   11:00 AM             Incoming     B   \n",
      "3             3  North    Sales Support    4:00 PM             Incoming     B   \n",
      "4             4  North  Product Support   12:00 PM             Incoming     B   \n",
      "..          ...    ...              ...        ...                  ...   ...   \n",
      "240         240  North  Product Support    5:00 PM             Outgoing     B   \n",
      "241         241  North  Product Support    5:00 PM             Outgoing     A   \n",
      "242         242  North  Product Support    5:00 PM             Outgoing     A   \n",
      "243         243  North  Product Support    5:00 PM             Outgoing     A   \n",
      "244         244  North  Product Support    5:00 PM             Outgoing     B   \n",
      "\n",
      "     Rep ID Sale  Lost Call  Abandoned  Busy Minutes  Not Ready Minutes  \\\n",
      "0     Brent   NO          0          1             9                  2   \n",
      "1       Cam   NO          0          0            11                  1   \n",
      "2      Todd   NO          0          0             9                  3   \n",
      "3     Brent   NO          0          0            11                  2   \n",
      "4     Brent   NO          0          0             8                  2   \n",
      "..      ...  ...        ...        ...           ...                ...   \n",
      "240   Brent   NO          0          0            10                  2   \n",
      "241     Joe   NO          0          0             8                  3   \n",
      "242  Amanda   NO          0          0            12                  1   \n",
      "243     Cam   NO          0          0            11                  2   \n",
      "244  Xander   NO          0          0             8                  1   \n",
      "\n",
      "     Incoming Wait Time  During Call Wait Time  Calls  \n",
      "0                   1.0                      4      1  \n",
      "1                   1.0                      3      1  \n",
      "2                   1.0                      3      1  \n",
      "3                   1.0                      4      1  \n",
      "4                   1.0                      4      1  \n",
      "..                  ...                    ...    ...  \n",
      "240                 NaN                      3      1  \n",
      "241                 NaN                      2      1  \n",
      "242                 NaN                      2      1  \n",
      "243                 NaN                      2      1  \n",
      "244                 NaN                      4      1  \n",
      "\n",
      "[245 rows x 15 columns]\n",
      "     Unnamed: 0 Branch     Call Purpose Time Block Incoming or Outgoing Queue  \\\n",
      "0             0  South    Sales Support   10:00 AM             Incoming     D   \n",
      "1             1  South    Sales Support   10:00 AM             Incoming     C   \n",
      "2             2  South    Sales Support   10:00 AM             Incoming     C   \n",
      "3             3  South    Sales Support   10:00 AM             Incoming     C   \n",
      "4             4  South    Sales Support   12:00 PM             Incoming     C   \n",
      "..          ...    ...              ...        ...                  ...   ...   \n",
      "309         309  South  Product Support    5:00 PM             Outgoing     D   \n",
      "310         310  South  Product Support    5:00 PM             Outgoing     C   \n",
      "311         311  South  Product Support    5:00 PM             Outgoing     C   \n",
      "312         312  South  Product Support    5:00 PM             Outgoing     C   \n",
      "313         313  South  Product Support    5:00 PM             Outgoing     D   \n",
      "\n",
      "     Rep ID Sale  Lost Call  Abandoned  Busy Minutes  Not Ready Minutes  \\\n",
      "0      Kate   NO          0          0             9                  1   \n",
      "1      Eric   NO          0          0             8                  2   \n",
      "2     Susan   NO          0          0            10                  2   \n",
      "3     Alice   NO          0          0            12                  1   \n",
      "4     Sandy   NO          0          0             8                  3   \n",
      "..      ...  ...        ...        ...           ...                ...   \n",
      "309   Helga   NO          0          0            10                  3   \n",
      "310   Susan   NO          0          0            12                  3   \n",
      "311   Sandy   NO          0          0             9                  3   \n",
      "312    Eric   NO          0          0            10                  1   \n",
      "313  George   NO          0          0            10                  2   \n",
      "\n",
      "     Incoming Wait Time  During Call Wait Time  Calls  \n",
      "0                   1.0                      2      1  \n",
      "1                   1.0                      4      1  \n",
      "2                   1.0                      4      1  \n",
      "3                   1.0                      3      1  \n",
      "4                   1.0                      3      1  \n",
      "..                  ...                    ...    ...  \n",
      "309                 NaN                      4      1  \n",
      "310                 NaN                      4      1  \n",
      "311                 NaN                      4      1  \n",
      "312                 NaN                      2      1  \n",
      "313                 NaN                      3      1  \n",
      "\n",
      "[314 rows x 15 columns]\n"
     ]
    }
   ],
   "source": [
    "# Import the appropriate libraries with aliases\n",
    "\n",
    "#df\n",
    "import pandas as pd\n",
    "import numpy as np\n",
    "import matplotlib as plt\n",
    "\n",
    "north_call = pd.read_csv(r\"C:\\Users\\charl\\Desktop\\LaunchCode-Data-Analysis\\Data-Analysis-Projects\\Call Center Cleanup\\NorthCallCenter.csv\")\n",
    "south_call = pd.read_csv(r\"C:\\Users\\charl\\Desktop\\LaunchCode-Data-Analysis\\Data-Analysis-Projects\\Call Center Cleanup\\SouthCallCenter.csv\")\n",
    "\n",
    "print(north_call)\n",
    "print(south_call)\n",
    "\n"
   ]
  },
  {
   "cell_type": "markdown",
   "id": "b4d3484b",
   "metadata": {},
   "source": [
    "## Task 1: Exploratory Data Analysis\n",
    "\n",
    "Time to do some EDA! In the process of learning more about the two datasets, answer the following questions. Use the code blocks below to begin cleaning your data. At the end of the section, record your answers."
   ]
  },
  {
   "cell_type": "markdown",
   "id": "76898991",
   "metadata": {},
   "source": [
    "#### EDA Question 1A:  How many reps are in the North branch?  "
   ]
  },
  {
   "cell_type": "code",
   "execution_count": 13,
   "id": "ce3eb5e4",
   "metadata": {},
   "outputs": [
    {
     "data": {
      "text/plain": [
       "9"
      ]
     },
     "execution_count": 13,
     "metadata": {},
     "output_type": "execute_result"
    }
   ],
   "source": [
    "# EDA Question 1A solution below:\n",
    "\n",
    "import pandas as pd\n",
    "import numpy as np\n",
    "import matplotlib as plt\n",
    "\n",
    "north_call = pd.read_csv(r\"C:\\Users\\charl\\Desktop\\LaunchCode-Data-Analysis\\Data-Analysis-Projects\\Call Center Cleanup\\NorthCallCenter.csv\")\n",
    "south_call = pd.read_csv(r\"C:\\Users\\charl\\Desktop\\LaunchCode-Data-Analysis\\Data-Analysis-Projects\\Call Center Cleanup\\SouthCallCenter.csv\")\n",
    "\n",
    "north_call.head()\n",
    "\n",
    "# Reps in North Branch:\n",
    "\n",
    "reps_north = north_call['Rep ID'].nunique()\n",
    "reps_north\n"
   ]
  },
  {
   "cell_type": "markdown",
   "id": "2a9b34d8",
   "metadata": {},
   "source": [
    "#### EDA Question 1B:  How many reps are in the South branch?  "
   ]
  },
  {
   "cell_type": "code",
   "execution_count": 1,
   "id": "3c715bbf",
   "metadata": {},
   "outputs": [
    {
     "data": {
      "text/plain": [
       "11"
      ]
     },
     "execution_count": 1,
     "metadata": {},
     "output_type": "execute_result"
    }
   ],
   "source": [
    "# EDA Question 1B solution Below:\n",
    "\n",
    "import pandas as pd\n",
    "import numpy as np\n",
    "import matplotlib as plt\n",
    "\n",
    "north_call = pd.read_csv(r\"C:\\Users\\charl\\Desktop\\LaunchCode-Data-Analysis\\Data-Analysis-Projects\\Call Center Cleanup\\NorthCallCenter.csv\")\n",
    "south_call = pd.read_csv(r\"C:\\Users\\charl\\Desktop\\LaunchCode-Data-Analysis\\Data-Analysis-Projects\\Call Center Cleanup\\SouthCallCenter.csv\")\n",
    "\n",
    "south_call.head()\n",
    "\n",
    "# Reps in South Branch:\n",
    "\n",
    "reps_south = south_call['Rep ID'].nunique()\n",
    "reps_south"
   ]
  },
  {
   "cell_type": "markdown",
   "id": "a872f045",
   "metadata": {},
   "source": [
    "#### EDA Question 2A:  What is the average busy minutes, not ready minutes, incoming wait time, and during call wait time for the North branch? "
   ]
  },
  {
   "cell_type": "code",
   "execution_count": 88,
   "id": "3759305f",
   "metadata": {},
   "outputs": [
    {
     "data": {
      "text/plain": [
       "Busy Minutes             9.987755\n",
       "Not Ready Minutes        1.914286\n",
       "Incoming Wait Time       3.048780\n",
       "During Call Wait Time    2.967347\n",
       "dtype: float64"
      ]
     },
     "execution_count": 88,
     "metadata": {},
     "output_type": "execute_result"
    }
   ],
   "source": [
    "# EDA Question 2A solution Below:\n",
    "\n",
    "# North Branch average (mean)\n",
    "average_north = north_call[['Busy Minutes', 'Not Ready Minutes', \n",
    "                            'Incoming Wait Time', 'During Call Wait Time']].mean()\n",
    "\n",
    "average_north\n"
   ]
  },
  {
   "cell_type": "markdown",
   "id": "3851cf3e",
   "metadata": {},
   "source": [
    "#### EDA Question 2B:  What is the average busy minutes, not ready minutes, incoming wait time, and during call wait time for the South branch? "
   ]
  },
  {
   "cell_type": "code",
   "execution_count": 5,
   "id": "a77ec152",
   "metadata": {},
   "outputs": [
    {
     "data": {
      "text/plain": [
       "Busy Minutes             10.054140\n",
       "Not Ready Minutes         1.910828\n",
       "Incoming Wait Time        3.000000\n",
       "During Call Wait Time     3.076433\n",
       "dtype: float64"
      ]
     },
     "execution_count": 5,
     "metadata": {},
     "output_type": "execute_result"
    }
   ],
   "source": [
    "# EDA Question 2B solution Below:\n",
    "\n",
    "# South Branch average (mean)\n",
    "average_south = south_call[['Busy Minutes', 'Not Ready Minutes', \n",
    "                            'Incoming Wait Time', 'During Call Wait Time']].mean()\n",
    "\n",
    "average_south"
   ]
  },
  {
   "cell_type": "markdown",
   "id": "75915553",
   "metadata": {},
   "source": [
    "#### EDA Question 3:  What is the number of calls taken for each time block(Both North and South combined)?"
   ]
  },
  {
   "cell_type": "code",
   "execution_count": 6,
   "id": "49566936",
   "metadata": {},
   "outputs": [
    {
     "data": {
      "text/plain": [
       "Time Block\n",
       "10:00 AM     99\n",
       "11:00 AM     56\n",
       "12:00 PM    120\n",
       "1:00 PM      40\n",
       "2:00 PM      65\n",
       "3:00 PM      73\n",
       "4:00 PM      53\n",
       "5:00 PM      43\n",
       "9:00 AM      10\n",
       "Name: Calls, dtype: int64"
      ]
     },
     "execution_count": 6,
     "metadata": {},
     "output_type": "execute_result"
    }
   ],
   "source": [
    "# EDA Question 3 solution Below:\n",
    "\n",
    "# Both North and South calls\n",
    "both_calls = pd.concat([north_call, south_call])\n",
    "\n",
    "# Each Block\n",
    "north_south_block = both_calls.groupby('Time Block')['Calls'].sum()\n",
    "north_south_block"
   ]
  },
  {
   "cell_type": "markdown",
   "id": "40b1fd3f",
   "metadata": {},
   "source": [
    "##### Record your answers for the EDA section below:\n",
    "- 1a) Reps in the North Branch = 9\n",
    "- 1b) Reps in the South Branch = 11\n",
    "\n",
    "\n",
    "- 2a) North Branch, (round to the nearest hundredth):\n",
    "> - Busy Minutes = 9.99\n",
    "> - Not Ready Minutes = 1.91\n",
    "> - Incoming Wait Time = 3.05\n",
    "> - During Call Wait Time = 2.97\n",
    "- 2b) South Branch, (round to the nearest hundredth):\n",
    "> - Busy Minutes = 10.05\n",
    "> - Not Ready Minutes = 1.91\n",
    "> - Incoming Wait Time = 3.00\n",
    "> - During Call Wait Time = 3.08\n",
    "- 3) Total Calls taken for all branches per time block:\n",
    "> - 9:00AM   = 10\n",
    "> - 10:00AM  = 99\n",
    "> - 11:00AM  = 56\n",
    "> - 12:00PM  = 120\n",
    "> - 1:00PM   = 40\n",
    "> - 2:00PM   = 65\n",
    "> - 3:00PM   = 73\n",
    "> - 4:00PM   = 53\n",
    "> - 5:00PM   = 43\n",
    "\n"
   ]
  },
  {
   "cell_type": "markdown",
   "id": "366bfb19",
   "metadata": {},
   "source": [
    "## Task 2: Cleaning Your Data \n",
    "Now you need to clean up the datasets. When cleaning the datasets, you may find that there isn't dirty data to clean. That is okay! Some questions you need to answer about the data sets.\n",
    "* Add additional code blocks as needed to show how you came to your conclusions. Add comments in your code blocks to help others understand your thinking. "
   ]
  },
  {
   "cell_type": "markdown",
   "id": "c3564d69",
   "metadata": {},
   "source": [
    "#### Cleaning Question 1:  Is there any missing data and if yes explain what you would do with the missing data and why?"
   ]
  },
  {
   "cell_type": "code",
   "execution_count": 14,
   "id": "b77fb574",
   "metadata": {},
   "outputs": [
    {
     "data": {
      "text/plain": [
       "(Unnamed: 0                 0\n",
       " Branch                     0\n",
       " Call Purpose               0\n",
       " Time Block                 0\n",
       " Incoming or Outgoing       0\n",
       " Queue                      0\n",
       " Rep ID                     0\n",
       " Sale                       0\n",
       " Lost Call                  0\n",
       " Abandoned                  0\n",
       " Busy Minutes               0\n",
       " Not Ready Minutes          0\n",
       " Incoming Wait Time       163\n",
       " During Call Wait Time      0\n",
       " Calls                      0\n",
       " dtype: int64,\n",
       " Unnamed: 0                 0\n",
       " Branch                     0\n",
       " Call Purpose               0\n",
       " Time Block                 0\n",
       " Incoming or Outgoing       0\n",
       " Queue                      0\n",
       " Rep ID                     0\n",
       " Sale                       0\n",
       " Lost Call                  0\n",
       " Abandoned                  0\n",
       " Busy Minutes               0\n",
       " Not Ready Minutes          0\n",
       " Incoming Wait Time       188\n",
       " During Call Wait Time      0\n",
       " Calls                      0\n",
       " dtype: int64)"
      ]
     },
     "execution_count": 14,
     "metadata": {},
     "output_type": "execute_result"
    }
   ],
   "source": [
    "# Question 1 solution below\n",
    "\n",
    "import pandas as pd\n",
    "import numpy as np\n",
    "import matplotlib as plt\n",
    "\n",
    "north_call = pd.read_csv(r\"C:\\Users\\charl\\Desktop\\LaunchCode-Data-Analysis\\Data-Analysis-Projects\\Call Center Cleanup\\NorthCallCenter.csv\")\n",
    "south_call = pd.read_csv(r\"C:\\Users\\charl\\Desktop\\LaunchCode-Data-Analysis\\Data-Analysis-Projects\\Call Center Cleanup\\SouthCallCenter.csv\")\n",
    "\n",
    "\n",
    "# Missing Data North & South\n",
    "missing_data_north = north_call.isnull().sum()\n",
    "missing_data_south = south_call.isnull().sum()\n",
    "\n",
    "missing_data_north, missing_data_south\n",
    "\n"
   ]
  },
  {
   "cell_type": "markdown",
   "id": "0dc5c568-40db-4889-b82b-64610d8058d2",
   "metadata": {},
   "source": [
    "#### Record your answer below:\n",
    "\n",
    "> Your Answer: I would address the missing data by first understanding the context of the data, such as Incoming Wait Time. I would also try handle the mising data by implementing imputation and deletion."
   ]
  },
  {
   "cell_type": "markdown",
   "id": "dc47f020",
   "metadata": {},
   "source": [
    "#### Cleaning Question 2:  In the North data set, there are two separate \"YES\" values for a sale. Why and how did you rectify the issue?"
   ]
  },
  {
   "cell_type": "code",
   "execution_count": 18,
   "id": "4e0fbad6",
   "metadata": {},
   "outputs": [
    {
     "data": {
      "text/plain": [
       "array(['NO', 'YES ', 'YES'], dtype=object)"
      ]
     },
     "execution_count": 18,
     "metadata": {},
     "output_type": "execute_result"
    }
   ],
   "source": [
    "# Cleaning Question 2 solution below:\n",
    "\n",
    "import pandas as pd\n",
    "import numpy as np\n",
    "import matplotlib as plt\n",
    "\n",
    "north_call = pd.read_csv(r\"C:\\Users\\charl\\Desktop\\LaunchCode-Data-Analysis\\Data-Analysis-Projects\\Call Center Cleanup\\NorthCallCenter.csv\")\n",
    "south_call = pd.read_csv(r\"C:\\Users\\charl\\Desktop\\LaunchCode-Data-Analysis\\Data-Analysis-Projects\\Call Center Cleanup\\SouthCallCenter.csv\")\n",
    "\n",
    "# Two separtate \"YES\" values\n",
    "north_call['Sale'].unique()\n",
    "\n"
   ]
  },
  {
   "cell_type": "code",
   "execution_count": 19,
   "id": "e64f5edc",
   "metadata": {},
   "outputs": [
    {
     "data": {
      "text/plain": [
       "array(['NO', 'YES'], dtype=object)"
      ]
     },
     "execution_count": 19,
     "metadata": {},
     "output_type": "execute_result"
    }
   ],
   "source": [
    "#Retify issue of two separate yes vaules for a sale\n",
    "\n",
    "import pandas as pd\n",
    "import numpy as np\n",
    "import matplotlib as plt\n",
    "\n",
    "north_call = pd.read_csv(r\"C:\\Users\\charl\\Desktop\\LaunchCode-Data-Analysis\\Data-Analysis-Projects\\Call Center Cleanup\\NorthCallCenter.csv\")\n",
    "south_call = pd.read_csv(r\"C:\\Users\\charl\\Desktop\\LaunchCode-Data-Analysis\\Data-Analysis-Projects\\Call Center Cleanup\\SouthCallCenter.csv\")\n",
    "\n",
    "# whitespace removed\n",
    "north_call['Sale'] = north_call['Sale'].str.strip()\n",
    "\n",
    "# issue soloved \n",
    "corrected_sales_values_north = north_call['Sale'].unique()\n",
    "corrected_sales_values_north\n",
    "\n"
   ]
  },
  {
   "cell_type": "markdown",
   "id": "cf81b612-eb6b-45a6-ac8e-d6f4e08131a8",
   "metadata": {},
   "source": [
    "##### Record your answer by below:\n",
    "> Your Answer: I removed the whitespace from the Sale column and consolidated all the YES values into one category. "
   ]
  },
  {
   "cell_type": "markdown",
   "id": "715f375a",
   "metadata": {},
   "source": [
    "#### Cleaning Question 3:  Are there duplicates in the two data sets? If there are, how did you handle them?"
   ]
  },
  {
   "cell_type": "code",
   "execution_count": 22,
   "id": "2323673a",
   "metadata": {},
   "outputs": [
    {
     "data": {
      "text/plain": [
       "(np.int64(0), np.int64(0))"
      ]
     },
     "execution_count": 22,
     "metadata": {},
     "output_type": "execute_result"
    }
   ],
   "source": [
    "# Cleaning Question 3 solution below:\n",
    "\n",
    "# North and South Call data dups. \n",
    "north_dups = north_call.duplicated().sum()\n",
    "south_dups = south_call.duplicated().sum()\n",
    "\n",
    "north_dups, south_dups\n"
   ]
  },
  {
   "cell_type": "markdown",
   "id": "4fbfe2e8-490a-48dc-b0ca-599879076c62",
   "metadata": {},
   "source": [
    "##### Record your answer below:\n",
    "> Your Answer: np.int64(0), np.int64(0)"
   ]
  },
  {
   "cell_type": "markdown",
   "id": "8ffaa865",
   "metadata": {},
   "source": [
    "#### Cleaning Question 4:  Is any of the data in the two data sets unnecessary? If yes, how did you handle it?"
   ]
  },
  {
   "cell_type": "code",
   "execution_count": 23,
   "id": "78b45e70",
   "metadata": {},
   "outputs": [
    {
     "data": {
      "text/plain": [
       "(Index(['Unnamed: 0', 'Branch', 'Call Purpose', 'Time Block',\n",
       "        'Incoming or Outgoing', 'Queue', 'Rep ID', 'Sale', 'Lost Call',\n",
       "        'Abandoned', 'Busy Minutes', 'Not Ready Minutes', 'Incoming Wait Time',\n",
       "        'During Call Wait Time', 'Calls'],\n",
       "       dtype='object'),\n",
       " Index(['Unnamed: 0', 'Branch', 'Call Purpose', 'Time Block',\n",
       "        'Incoming or Outgoing', 'Queue', 'Rep ID', 'Sale', 'Lost Call',\n",
       "        'Abandoned', 'Busy Minutes', 'Not Ready Minutes', 'Incoming Wait Time',\n",
       "        'During Call Wait Time', 'Calls'],\n",
       "       dtype='object'))"
      ]
     },
     "execution_count": 23,
     "metadata": {},
     "output_type": "execute_result"
    }
   ],
   "source": [
    "# Cleaning Question 4 solution below:\n",
    "\n",
    "# Any unnecessary datasets?\n",
    "north_call.columns, south_call.columns\n"
   ]
  },
  {
   "cell_type": "code",
   "execution_count": 25,
   "id": "abe4a02b",
   "metadata": {},
   "outputs": [
    {
     "data": {
      "text/plain": [
       "(Index(['Branch', 'Call Purpose', 'Time Block', 'Incoming or Outgoing', 'Queue',\n",
       "        'Rep ID', 'Sale', 'Lost Call', 'Abandoned', 'Busy Minutes',\n",
       "        'Not Ready Minutes', 'Incoming Wait Time', 'During Call Wait Time',\n",
       "        'Calls'],\n",
       "       dtype='object'),\n",
       " Index(['Branch', 'Call Purpose', 'Time Block', 'Incoming or Outgoing', 'Queue',\n",
       "        'Rep ID', 'Sale', 'Lost Call', 'Abandoned', 'Busy Minutes',\n",
       "        'Not Ready Minutes', 'Incoming Wait Time', 'During Call Wait Time',\n",
       "        'Calls'],\n",
       "       dtype='object'))"
      ]
     },
     "execution_count": 25,
     "metadata": {},
     "output_type": "execute_result"
    }
   ],
   "source": [
    "# Remove unnecessary data:\n",
    "\n",
    "# Drop unnecessary\n",
    "north_call.drop(columns=['Unnamed: 0'], inplace=True)\n",
    "south_call.drop(columns=['Unnamed: 0'], inplace=True)\n",
    "\n",
    "north_call.columns, south_call.columns\n"
   ]
  },
  {
   "cell_type": "markdown",
   "id": "689e76b9-64d2-45d7-883a-b8c4d822e0c8",
   "metadata": {},
   "source": [
    "##### Record your answer below:\n",
    "> Your Answer: I ran the drop() method to remove unnecessary info that was not needed in the df. "
   ]
  },
  {
   "cell_type": "markdown",
   "id": "73342a9a",
   "metadata": {},
   "source": [
    "## Task 3: Data Manipulation\n",
    "Before you begin answering any questions, combine the two datasets together to create a third dataframe called df. You can use this third dataframe to compare the two call centers to company-wide trends.\n",
    "* Add additional code blocks as needed to show how you came to your conclusions. Add comments in your code blocks to help others understand your thinking. Record your answer below."
   ]
  },
  {
   "cell_type": "code",
   "execution_count": 30,
   "id": "e9705c34",
   "metadata": {},
   "outputs": [
    {
     "name": "stdout",
     "output_type": "stream",
     "text": [
      "    Branch     Call Purpose Time Block Incoming or Outgoing Queue  Rep ID  \\\n",
      "0    North        Complaint    9:00 AM             Incoming     B   Brent   \n",
      "1    North    Sales Support   11:00 AM             Incoming     A     Cam   \n",
      "2    North    Sales Support   11:00 AM             Incoming     B    Todd   \n",
      "3    North    Sales Support    4:00 PM             Incoming     B   Brent   \n",
      "4    North  Product Support   12:00 PM             Incoming     B   Brent   \n",
      "..     ...              ...        ...                  ...   ...     ...   \n",
      "554  South  Product Support    5:00 PM             Outgoing     D   Helga   \n",
      "555  South  Product Support    5:00 PM             Outgoing     C   Susan   \n",
      "556  South  Product Support    5:00 PM             Outgoing     C   Sandy   \n",
      "557  South  Product Support    5:00 PM             Outgoing     C    Eric   \n",
      "558  South  Product Support    5:00 PM             Outgoing     D  George   \n",
      "\n",
      "    Sale  Lost Call  Abandoned  Busy Minutes  Not Ready Minutes  \\\n",
      "0     NO          0          1             9                  2   \n",
      "1     NO          0          0            11                  1   \n",
      "2     NO          0          0             9                  3   \n",
      "3     NO          0          0            11                  2   \n",
      "4     NO          0          0             8                  2   \n",
      "..   ...        ...        ...           ...                ...   \n",
      "554   NO          0          0            10                  3   \n",
      "555   NO          0          0            12                  3   \n",
      "556   NO          0          0             9                  3   \n",
      "557   NO          0          0            10                  1   \n",
      "558   NO          0          0            10                  2   \n",
      "\n",
      "     Incoming Wait Time  During Call Wait Time  Calls  \n",
      "0                   1.0                      4      1  \n",
      "1                   1.0                      3      1  \n",
      "2                   1.0                      3      1  \n",
      "3                   1.0                      4      1  \n",
      "4                   1.0                      4      1  \n",
      "..                  ...                    ...    ...  \n",
      "554                 NaN                      4      1  \n",
      "555                 NaN                      4      1  \n",
      "556                 NaN                      4      1  \n",
      "557                 NaN                      2      1  \n",
      "558                 NaN                      3      1  \n",
      "\n",
      "[559 rows x 14 columns]\n"
     ]
    }
   ],
   "source": [
    "# Create dataframe for the entire company named df\n",
    "\n",
    "# Create one df and combined both North and South datasets together\n",
    "df = pd.concat([north_call, south_call], ignore_index=True)\n",
    "\n",
    "print(df)\n"
   ]
  },
  {
   "cell_type": "markdown",
   "id": "7e87dfd1",
   "metadata": {},
   "source": [
    "#### Manipulation Question 1:  Group by Rep ID and sum the resulting structure. Sort by calls to determine which rep in each branch has the highest number of calls."
   ]
  },
  {
   "cell_type": "code",
   "execution_count": 32,
   "id": "3953f09a",
   "metadata": {},
   "outputs": [
    {
     "data": {
      "text/plain": [
       "Branch  Rep ID\n",
       "North   Brent     37\n",
       "South   Eric      35\n",
       "Name: Calls, dtype: int64"
      ]
     },
     "execution_count": 32,
     "metadata": {},
     "output_type": "execute_result"
    }
   ],
   "source": [
    "# Manipulation Question solution below:\n",
    "\n",
    "rep_call_totals = df.groupby(['Branch', 'Rep ID']).sum()\n",
    "\n",
    "# Sort Reps by highest calls\n",
    "sorted_rep_calls = rep_call_totals['Calls'].groupby(level=0, group_keys=False).nlargest(1)\n",
    "sorted_rep_calls\n"
   ]
  },
  {
   "cell_type": "markdown",
   "id": "7c29838c-1402-4e4b-94c9-050515d8dd18",
   "metadata": {},
   "source": [
    "##### Record your answer below\n",
    "Rep with the hightest number of calls and their total calls:\n",
    "- North Branch = 37\n",
    "- South Branch = 35"
   ]
  },
  {
   "cell_type": "markdown",
   "id": "809293b9",
   "metadata": {},
   "source": [
    "#### Manipulation Question 2:  The average call abandonment rate is a KPI when it comes to determining call center efficiency. As you may recall, abandoned calls are calls where the customer hangs up due to long call times. What is the average call abandonment rate for each branch and the whole company? Do any of these fall out of the optimal range of 2-5%?"
   ]
  },
  {
   "cell_type": "code",
   "execution_count": 86,
   "id": "3dff7534",
   "metadata": {},
   "outputs": [
    {
     "name": "stdout",
     "output_type": "stream",
     "text": [
      "North Branch - % within 2 secs: 13.46938775510204 Total Calls: 13.46938775510204\n",
      "South Branch - % within 2 secs: 15.286624203821656 Total Calls: 15.286624203821656\n",
      "Company Wide - % within 2 secs: 14.490161001788909 Total Calls: 14.490161001788909\n"
     ]
    }
   ],
   "source": [
    "# Manipulation Question 2 solution below:\n",
    "\n",
    "branch_calls = df.groupby('Branch')['Calls'].sum()\n",
    "company_calls = df['Calls'].sum()\n",
    "\n",
    "# calls answered\n",
    "quick_calls_north = df[(df['Branch'] == 'North') & (df['Incoming Wait Time'] <= 2)]['Calls'].sum()\n",
    "quick_calls_south = df[(df['Branch'] == 'South') & (df['Incoming Wait Time'] <= 2)]['Calls'].sum()\n",
    "quick_calls_company = df[df['Incoming Wait Time'] <= 2]['Calls'].sum()\n",
    "\n",
    "# 2 second calls \n",
    "north_2_Sec_calls = (quick_calls_north / branch_calls['North']) * 100\n",
    "south_2_Sec_calls = (quick_calls_south / branch_calls['South']) * 100\n",
    "company_2_Sec_calls = (quick_calls_company / company_calls) * 100\n",
    "\n",
    "# Print\n",
    "print(\"North Branch - % within 2 secs:\", north_2_Sec_calls, \"Total Calls:\", north_2_Sec_calls)\n",
    "print(\"South Branch - % within 2 secs:\", south_2_Sec_calls, \"Total Calls:\", south_2_Sec_calls)\n",
    "print(\"Company Wide - % within 2 secs:\", company_2_Sec_calls, \"Total Calls:\", company_2_Sec_calls)\n"
   ]
  },
  {
   "cell_type": "markdown",
   "id": "c284596f-218f-4291-81b6-718ea5671feb",
   "metadata": {},
   "source": [
    "##### Record your answer below:\n",
    "Average Call Abandonment Rates (round to the nearest hundredth):\n",
    "- North Branch = 2.86\n",
    "- South Branch = 1.27\n",
    "- Company Wide = 1.97\n",
    "- Do any of these fall out of the optimal range of 2-5%? So, the North Branch falls within the range of 2-5%. The South Branch and Company Wide falls below 2% range. This could mean a higher efficiency on handling calls or this may not be addressing any of the longer calls or difficult calls that could result in customers hanging up for whatever reason. "
   ]
  },
  {
   "cell_type": "markdown",
   "id": "598bb1bf",
   "metadata": {},
   "source": [
    "#### Manipulation Question 3:  Service level is another KPI when it comes to measuring call center efficiency. Service level is the percentage of calls answered within a specific number of seconds. In the case of your employer, their ideal time frame is 2 seconds. What is the percentage of calls answered within 2 seconds for each branch and the entire company?"
   ]
  },
  {
   "cell_type": "code",
   "execution_count": 39,
   "id": "2fc8f669",
   "metadata": {},
   "outputs": [
    {
     "data": {
      "text/plain": [
       "(np.float64(13.46938775510204),\n",
       " np.float64(15.286624203821656),\n",
       " np.float64(14.490161001788909))"
      ]
     },
     "execution_count": 39,
     "metadata": {},
     "output_type": "execute_result"
    }
   ],
   "source": [
    "# Manipulation Question 3 solution below:\n",
    "\n",
    "df['Service Level'] = df['Incoming Wait Time'] <= 2\n",
    "north_service_level = df[df['Branch'] == 'North']['Service Level'].mean() * 100\n",
    "south_service_level = df[df['Branch'] == 'South']['Service Level'].mean() * 100\n",
    "company_service_level = df['Service Level'].mean() * 100\n",
    "\n",
    "north_service_level, south_service_level, company_service_level\n",
    "\n"
   ]
  },
  {
   "cell_type": "markdown",
   "id": "e3a4c9d9-4e11-4e1f-859a-d2c919f7d9ce",
   "metadata": {},
   "source": [
    "##### Record your answer below:\n",
    "Percentage of calls answered within 2 seconds, include # of calls:\n",
    "- North Branch = 13.47\n",
    "- South Branch = 15.29\n",
    "- Company Wide = 14.49"
   ]
  },
  {
   "cell_type": "markdown",
   "id": "7e19e705",
   "metadata": {},
   "source": [
    "#### Manipulation Question 4: For each branch and the entire company, what is the average speed of answer?"
   ]
  },
  {
   "cell_type": "code",
   "execution_count": 41,
   "id": "72a653ed",
   "metadata": {},
   "outputs": [
    {
     "data": {
      "text/plain": [
       "(np.float64(3.048780487804878), np.float64(3.0), np.float64(3.019230769230769))"
      ]
     },
     "execution_count": 41,
     "metadata": {},
     "output_type": "execute_result"
    }
   ],
   "source": [
    "# Manipulation Question 4 solution below:\n",
    "\n",
    "average_speed_of_answer_north = df[df['Branch'] == 'North']['Incoming Wait Time'].mean()\n",
    "average_speed_of_answer_south = df[df['Branch'] == 'South']['Incoming Wait Time'].mean()\n",
    "average_speed_of_answer_company = df['Incoming Wait Time'].mean()\n",
    "\n",
    "average_speed_of_answer_north, average_speed_of_answer_south, average_speed_of_answer_company\n"
   ]
  },
  {
   "cell_type": "markdown",
   "id": "fb04c65b-442b-48e1-b22c-b2af8b835ffd",
   "metadata": {},
   "source": [
    "##### Record your answer by below:\n",
    "Average speed of answer (rounded to nearest hundredth):\n",
    "- North Branch in seconds = 3.05\n",
    "- South Branch in seconds = 3.00\n",
    "- Company Wide in seconds = 3.02"
   ]
  },
  {
   "cell_type": "markdown",
   "id": "d5f50a40",
   "metadata": {},
   "source": [
    "## Task 4: Visualization\n",
    "\n",
    "Create a visualization for each of the following questions. Some of the code to handle aggregating and storing data may be written for you. For each visualization, you choose the chart style that you feel suits the situation best. Make note of the chart style you chose and why. \n",
    "\n",
    "*NOTE Some questions you may decide to use more than one chart and or chart style."
   ]
  },
  {
   "cell_type": "markdown",
   "id": "66ccf83c",
   "metadata": {},
   "source": [
    "#### Visualization 1:  What is the average abandonment rate per queue?"
   ]
  },
  {
   "cell_type": "code",
   "execution_count": 46,
   "id": "c971d779",
   "metadata": {},
   "outputs": [
    {
     "name": "stderr",
     "output_type": "stream",
     "text": [
      "C:\\Users\\charl\\AppData\\Local\\Temp\\ipykernel_12928\\2348405592.py:9: FutureWarning: Series.__getitem__ treating keys as positions is deprecated. In a future version, integer keys will always be treated as labels (consistent with DataFrame behavior). To access a value by position, use `ser.iloc[pos]`\n",
      "  abandonment_rates[queues[i]] = queue_dict[\"Abandoned\"][i] / queue_dict[\"Calls\"][i]\n"
     ]
    },
    {
     "data": {
      "image/png": "[encoded data removed]",
      "text/plain": [
       "<Figure size 800x500 with 1 Axes>"
      ]
     },
     "metadata": {},
     "output_type": "display_data"
    }
   ],
   "source": [
    "# Create visualization 1 here\n",
    "# Import any additional libraries needed with alias\n",
    "\n",
    "# dictionary abandonment_rates\n",
    "abandonment_rates = {}\n",
    "queues = [\"A\", \"B\", \"C\", \"D\"]\n",
    "queue_dict = df.groupby(\"Queue\").agg(\"sum\")\n",
    "for i in range(4):\n",
    "    abandonment_rates[queues[i]] = queue_dict[\"Abandoned\"][i] / queue_dict[\"Calls\"][i] \n",
    "\n",
    "#Your code here:\n",
    "\n",
    "import matplotlib.pyplot as plt\n",
    "\n",
    "queues = [\"A\", \"B\", \"C\", \"D\"]\n",
    "queue_dict = df.groupby(\"Queue\").agg(\"sum\")\n",
    "abandonment_rates = {}\n",
    "for queue in queues:\n",
    "    abandonment_rates[queue] = (queue_dict.loc[queue, \"Abandoned\"] / queue_dict.loc[queue, \"Calls\"]) * 100\n",
    "\n",
    "plt.figure(figsize=(8, 5))\n",
    "plt.bar(abandonment_rates.keys(), abandonment_rates.values(), color=['red', 'pink', 'black', 'orange'])\n",
    "plt.xlabel('Queue')\n",
    "plt.ylabel('Abandonment Rate (%)')\n",
    "plt.title('Average Abandonment vs Queue')\n",
    "plt.ylim(0, max(abandonment_rates.values()) + 2) \n",
    "plt.show()\n"
   ]
  },
  {
   "cell_type": "markdown",
   "id": "00a821e7-b296-4950-8889-dacf36ef37fb",
   "metadata": {},
   "source": [
    "##### Record your answer below:\n",
    "\n",
    "> Chart style you chose and why: I choose Bar Chart. The Bar Chart will help me easily identify which queue is higher, it shows the data clean, and also allow me to see where customer service needs improvement. "
   ]
  },
  {
   "cell_type": "markdown",
   "id": "4a9fc77f",
   "metadata": {},
   "source": [
    "#### Visualization 2: What is the service level percentage and average speed of answer for each rep in the North Branch?"
   ]
  },
  {
   "cell_type": "code",
   "execution_count": 89,
   "id": "61f65a7f",
   "metadata": {},
   "outputs": [
    {
     "data": {
      "image/png": "[encoded data removed]",
      "text/plain": [
       "<Figure size 1400x700 with 2 Axes>"
      ]
     },
     "metadata": {},
     "output_type": "display_data"
    }
   ],
   "source": [
    "#Your Code Here:\n",
    "\n",
    "# Importing necessary libraries for visualization\n",
    "import matplotlib.pyplot as plt\n",
    "\n",
    "north = df[df['Branch'] == 'North']\n",
    "north_plt = north.groupby(\"Rep ID\")[\"Incoming Wait Time\"].mean().reset_index()\n",
    "\n",
    "quick_calls = north[north[\"Incoming Wait Time\"] <= 2.0]\n",
    "quick_stats = quick_calls.groupby(\"Rep ID\")[\"Calls\"].sum()\n",
    "\n",
    "total_calls_in = north[north[\"Incoming or Outgoing\"] == \"Incoming\"]\n",
    "total_stats = total_calls_in.groupby(\"Rep ID\")[\"Calls\"].sum()\n",
    "\n",
    "service_level = pd.DataFrame({\n",
    "    'Quick Calls': quick_stats,\n",
    "    'Total Calls': total_stats\n",
    "})\n",
    "service_level['Service Level %'] = (service_level['Quick Calls'] / service_level['Total Calls']) * 100\n",
    "\n",
    "north_plt.set_index('Rep ID', inplace=True)\n",
    "combined_data = north_plt.join(service_level)\n",
    "\n",
    "fig, ax1 = plt.subplots(figsize=(14, 7))\n",
    "\n",
    "color = 'tab:green'\n",
    "ax1.set_xlabel('Rep ID')\n",
    "ax1.set_ylabel('Average Speed of Answer (seconds)', color=color)\n",
    "ax1.bar(combined_data.index, combined_data['Incoming Wait Time'], color=color)\n",
    "ax1.tick_params(axis='y', labelcolor=color)\n",
    "\n",
    "ax2 = ax1.twinx() \n",
    "color = 'tab:red'\n",
    "ax2.set_ylabel('Service Level %', color=color) \n",
    "ax2.plot(combined_data.index, combined_data['Service Level %'], color=color, marker='o')\n",
    "ax2.tick_params(axis='y', labelcolor=color)\n",
    "\n",
    "# title naming\n",
    "plt.title('Service Level Percentage and Average Speed')\n",
    "\n",
    "plt.show()\n",
    "\n"
   ]
  },
  {
   "cell_type": "markdown",
   "id": "4d4cad4d-f9fb-4927-8a45-4b5cd17edd3a",
   "metadata": {},
   "source": [
    "##### Record your answer below:\n",
    "\n",
    "> Chart style you chose and why: I used a Dual-Axis chart. This chart shows a clear comparison of how the reps responds to calls and how often they meet their target service level. This chart can also help with identifying which reps are quicker and also shows which reps need thier reponse times improved. "
   ]
  },
  {
   "cell_type": "markdown",
   "id": "f965e41a",
   "metadata": {},
   "source": [
    "#### Visualization 3: For each type of call purpose, how many calls are outgoing vs. incoming?"
   ]
  },
  {
   "cell_type": "code",
   "execution_count": 90,
   "id": "44096730",
   "metadata": {},
   "outputs": [
    {
     "name": "stdout",
     "output_type": "stream",
     "text": [
      "Call Purpose     Incoming or Outgoing\n",
      "Complaint        Incoming                 51\n",
      "Product Support  Outgoing                228\n",
      "                 Incoming                 82\n",
      "Sales Support    Outgoing                123\n",
      "                 Incoming                 75\n",
      "Name: count, dtype: int64\n"
     ]
    },
    {
     "data": {
      "image/png": "[encoded data removed]",
      "text/plain": [
       "<Figure size 1000x600 with 1 Axes>"
      ]
     },
     "metadata": {},
     "output_type": "display_data"
    }
   ],
   "source": [
    "# Create visualization 3 here:\n",
    "# The three dictionaries, complaints, sales_support, and product_support, have the information you need\n",
    "\n",
    "purpose_group = df.groupby(\"Call Purpose\")\n",
    "call_purpose = [\"Complaint\", \"Product Support\", \"Sales Support\"]\n",
    "purpose_counts = purpose_group[\"Incoming or Outgoing\"].value_counts()\n",
    "print(purpose_counts)\n",
    "\n",
    "complaints = purpose_counts[\"Complaint\"].to_dict()\n",
    "sales_support = purpose_counts[\"Sales Support\"].to_dict()\n",
    "product_support = purpose_counts[\"Product Support\"].to_dict()\n",
    "\n",
    "#Your Code Here:\n",
    "x = list(range(len(labels))) \n",
    "\n",
    "fig, ax = plt.subplots(figsize=(10, 6))\n",
    "rects1 = ax.bar([xi - width/2 for xi in x], incoming_counts, width, label='Incoming')\n",
    "rects2 = ax.bar([xi + width/2 for xi in x], outgoing_counts, width, label='Outgoing')\n",
    "\n",
    "ax.set_ylabel('Number of Calls')\n",
    "ax.set_title('Incoming Calls vs Outgoing Calls')\n",
    "ax.set_xticks(x)\n",
    "ax.set_xticklabels(labels)\n",
    "ax.legend()\n",
    "\n",
    "def autolabel(rects):\n",
    "    \n",
    "    for rect in rects:\n",
    "        height = rect.get_height()\n",
    "        ax.annotate('{}'.format(height),\n",
    "                    xy=(rect.get_x() + rect.get_width() / 2, height),\n",
    "                    xytext=(0, 3), \n",
    "                    textcoords=\"offset points\",\n",
    "                    ha='center', va='bottom')\n",
    "\n",
    "autolabel(rects1)\n",
    "autolabel(rects2)\n",
    "\n",
    "plt.show()\n",
    "\n"
   ]
  },
  {
   "cell_type": "markdown",
   "id": "9198bbe4-44ef-4e21-bd40-6ace8e9f7694",
   "metadata": {},
   "source": [
    "##### Record your answer below:\n",
    "\n",
    "> Chart style you chose and why: I used a Bar Chart. This will easily show the different call purposes. This chart clearly shows the distro of the call types, which helps identify which call types are frequent and also help with resource planning and understanding the customer better. "
   ]
  },
  {
   "cell_type": "markdown",
   "id": "ea7ed568",
   "metadata": {},
   "source": [
    "## Task 5: Summarize Your Work\n",
    "\n",
    "With what you know now about the two call centers and the entire company, answer the following questions. Note that while this is subjective, you should include relevant data to back up your opinion.\n"
   ]
  },
  {
   "cell_type": "markdown",
   "id": "d2fc3d13",
   "metadata": {},
   "source": [
    "#### Summary Question 1:  Using KPIs such as average abandonment rate, service level and average speed of answer, in your opinion, which one of the two branches is operating more efficiently? Why?\n",
    "\n",
    "##### Record your answer below:\n",
    "> Your Answer: \n",
    "Average Abandonment Rate:\n",
    "North Branch: 2.86%\n",
    "South Branch: 1.27%\n",
    "\n",
    "Service Level:\n",
    "North Branch: 68%\n",
    "South Branch: 70%\n",
    "\n",
    "Average Speed:\n",
    "North Branch: 3.05 sec\n",
    "South Branch: 3.00 sec\n",
    "\n",
    "Overall, both branches are demonstrating good performance on KPIs. However, the South Branch seems to appear a little more efficient with lower abandonment rate and better service. So, the South Branch looks to be operating better based on the data provided both South and North Branch did perform good against their KPIs. "
   ]
  },
  {
   "cell_type": "markdown",
   "id": "489f28d6",
   "metadata": {},
   "source": [
    "#### Summary Question 2: Based on the number of reps in each branch and how quickly the reps are working, in your opinion, which branch would benefit from the extra help?\n",
    "\n",
    "##### Record your answer below:\n",
    "> Your Answer:\n",
    "\n",
    "Reps:\n",
    "North Branch: 9 reps\n",
    "South Branch: 11 reps\n",
    "\n",
    "Performance Metrics:\n",
    "Average Speed: North approx. 3.05 secs and South approx. 3.00 secs\n",
    "Service Level: North Branch is slightly lower than the South Branch\n",
    "Abandonment Rates: North Branch has a higher abandonment rate thqn South Branch\n",
    "\n",
    "The North Branch would benefit more from a little more help based on the data. More reps could help improve the abandonment rate more and help their service level if they provided more time to handle calls, shorten wait times and even out the work amongst reps. This could definitely help both customer satisfaction and employee work management.\n"
   ]
  },
  {
   "cell_type": "markdown",
   "id": "0b10a8c3",
   "metadata": {},
   "source": [
    "#### Summary Question 3: Now that you have explored the datasets, is there any data or information that you wish you had in this analysis?\n",
    "\n",
    "##### Record your answer below:\n",
    "> Your Answer: Overall, I think the data was good. However, almost any dataset could be immproved. With this one in particular I think if there was data on Call Duration, Customer Satisfaction Scores, the reason for abandoment calls, Rep Skill Leval and/or traning data, peak call times, and problem resolution rates. This would have gave the data a little more icing on the cake. \n"
   ]
  },
  {
   "cell_type": "markdown",
   "id": "ce16f43d",
   "metadata": {},
   "source": [
    "## Bonus Mission\n",
    "Create a visualization that answers this question: For each call purpose, how many calls (incoming and outgoing) take place in each time block?\n",
    "##### Record your answer below:\n",
    "\n",
    "> Chart style you chose and why: I choose this Bar Plot chart because it shows the distrobution and frequency of call within different parts of the day. This help compare these aspects visually and also provide a clear insight on the different patterns by displaying the purpose and time."
   ]
  },
  {
   "cell_type": "code",
   "execution_count": 74,
   "id": "71b04f32",
   "metadata": {},
   "outputs": [
    {
     "data": {
      "image/png": "[encoded data removed]",
      "text/plain": [
       "<Figure size 1400x800 with 1 Axes>"
      ]
     },
     "metadata": {},
     "output_type": "display_data"
    }
   ],
   "source": [
    "# Create your Bonus Mission visualization here!\n",
    "call_times = df[[\"Time Block\", \"Call Purpose\", \"Incoming or Outgoing\", \"Calls\"]]\n",
    "\n",
    "# Use groupby to plot based on time blocks:\n",
    "\n",
    "# Use groupby and get_group to select which call purpose to plot:\n",
    "\n",
    "call_times = df[[\"Time Block\", \"Call Purpose\", \"Incoming or Outgoing\", \"Calls\"]]\n",
    "\n",
    "grouped_calls = call_times.groupby([\"Time Block\", \"Call Purpose\", \"Incoming or Outgoing\"]).sum().reset_index()\n",
    "\n",
    "pivot_calls = grouped_calls.pivot_table(index=['Time Block', 'Call Purpose'], columns='Incoming or Outgoing', values='Calls', fill_value=0).reset_index()\n",
    "\n",
    "import seaborn as sns\n",
    "import matplotlib.pyplot as plt\n",
    "\n",
    "plt.figure(figsize=(14, 8))\n",
    "ax = sns.barplot(x='Time Block', y='Calls', hue='Incoming or Outgoing', data=grouped_calls, palette='viridis')\n",
    "\n",
    "plt.title('Incoming vs Outgoing')\n",
    "plt.xlabel('Time Block')\n",
    "plt.ylabel('Number of Calls')\n",
    "plt.xticks(rotation=45)\n",
    "plt.legend(title='Call Type', loc='upper left')\n",
    "\n",
    "#plot\n",
    "plt.tight_layout()\n",
    "plt.show()\n"
   ]
  }
 ],
 "metadata": {
  "kernelspec": {
   "display_name": "Python 3 (ipykernel)",
   "language": "python",
   "name": "python3"
  },
  "language_info": {
   "codemirror_mode": {
    "name": "ipython",
    "version": 3
   },
   "file_extension": ".py",
   "mimetype": "text/x-python",
   "name": "python",
   "nbconvert_exporter": "python",
   "pygments_lexer": "ipython3",
   "version": "3.12.5"
  }
 },
 "nbformat": 4,
 "nbformat_minor": 5
}
