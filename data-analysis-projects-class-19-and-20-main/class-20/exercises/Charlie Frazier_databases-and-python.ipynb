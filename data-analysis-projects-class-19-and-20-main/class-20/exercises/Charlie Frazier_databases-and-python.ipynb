{
    "cells": [
        {
            "attachments": {},
            "cell_type": "markdown",
            "metadata": {
                "azdata_cell_guid": "d7b89799-a102-479f-87b7-f2759ff1962e"
            },
            "source": [
                "# Exercises: Working with Databases in Python\n",
                "\n",
                "We have based these exercises around this [article](https://towardsdatascience.com/do-you-know-python-has-a-built-in-database-d553989c87bd). \n",
                "\n",
                "Feel free to reference it as you complete the exercises below. To view it, you will need to create a FREE-tier Medium account. \n",
                "\n",
                "You DO NOT need a payed account to view this article."
            ]
        },
        {
            "attachments": {},
            "cell_type": "markdown",
            "metadata": {
                "azdata_cell_guid": "89a0b6d9-821d-44f5-9795-9519809b9108"
            },
            "source": [
                "## Import Libraries\n",
                "\n",
                "We will need `pandas` and `sqlite3`. \n",
                "\n",
                "SQLite is a small, self-contained database engine that comes with Python, so you will not have to do any additional installations for this lesson. \n",
                "\n",
                "In the future, if you want to connect to a different database engine, such as SQL server, you may need additional libraries such as `sqlalchemy` or `pyodbc` and a tool called a 'driver' which helps to connect a database to an application. But, we won't worry about that for now.\n"
            ]
        },
        {
            "cell_type": "code",
            "execution_count": 10,
            "metadata": {
                "azdata_cell_guid": "865655b0-22e9-47f4-a5df-4bfe97dda4a3",
                "tags": []
            },
            "outputs": [
                {
                    "name": "stdout",
                    "output_type": "stream",
                    "text": [
                        "DataFrame:\n",
                        "    product_id product_name   price\n",
                        "0            1    Product A   12.99\n",
                        "1            2    Product B   23.50\n",
                        "2            3    Product C   50.00\n",
                        "3            1    Product A   12.99\n",
                        "4            2    Product B   23.50\n",
                        "5            3    Product C   50.00\n",
                        "6            1    Product A   12.99\n",
                        "7            2    Product B  223.50\n",
                        "8            3    Product C  530.00\n",
                        "9            1    Product A   12.99\n",
                        "10           2    Product B  223.50\n",
                        "11           3    Product C  530.00\n",
                        "12           1    Product A  110.99\n",
                        "13           2    Product B  223.50\n",
                        "14           3    Product C  530.00\n",
                        "Updated DataFrame:\n",
                        "    product_id product_name   price\n",
                        "0            1    Product A  192.99\n",
                        "1            2    Product B   23.50\n",
                        "2            3    Product C   50.00\n",
                        "3            1    Product A  192.99\n",
                        "4            2    Product B   23.50\n",
                        "5            3    Product C   50.00\n",
                        "6            1    Product A  192.99\n",
                        "7            2    Product B  223.50\n",
                        "8            3    Product C  530.00\n",
                        "9            1    Product A  192.99\n",
                        "10           2    Product B  223.50\n",
                        "11           3    Product C  530.00\n",
                        "12           1    Product A  192.99\n",
                        "13           2    Product B  223.50\n",
                        "14           3    Product C  530.00\n"
                    ]
                }
            ],
            "source": [
                "# Import sqlite3 and pandas.\n",
                "import sqlite3\n",
                "import pandas as pd\n",
                "\n",
                "conn = sqlite3.connect('frazier.db')\n",
                "c = conn.cursor()\n",
                "\n",
                "c.execute('''\n",
                "          CREATE TABLE IF NOT EXISTS products\n",
                "          ([product_id] INTEGER PRIMARY KEY, [product_name] TEXT, [price] REAL)\n",
                "          ''')\n",
                "\n",
                "# Insert data into the table\n",
                "c.execute('''\n",
                "          INSERT INTO products (product_id, product_name, price)\n",
                "          VALUES\n",
                "          (1,'Product A', 110.99),\n",
                "          (2,'Product B', 223.50),\n",
                "          (3,'Product C', 530.00)\n",
                "          ''')\n",
                "\n",
                "conn.commit()\n",
                "\n",
                "df = pd.read_sql_query(\"SELECT * FROM products\", conn)\n",
                "\n",
                "print(\"DataFrame:\")\n",
                "print(df)\n",
                "\n",
                "df.loc[df['product_name'] == 'Product A', 'price'] = 192.99\n",
                "\n",
                "df.to_sql('products', conn, if_exists='replace', index=False)\n",
                "\n",
                "df_updated = pd.read_sql_query(\"SELECT * FROM products\", conn)\n",
                "print(\"Updated DataFrame:\")\n",
                "print(df_updated)\n",
                "\n",
                "# Close\n",
                "conn.close()\n",
                "\n"
            ]
        },
        {
            "cell_type": "markdown",
            "metadata": {
                "azdata_cell_guid": "be8436e2-68be-47f8-9fc9-06c235a6a128"
            },
            "source": [
                "## Create a Database\n",
                "\n",
                "Let's say we want to create a database to store information related to books.\n",
                "\n",
                "Use sqlite3's `connect` method to create a new database called `books.db`.\n",
                "\n",
                "Make sure to store this connection in a variable named `con` (short for 'connection')."
            ]
        },
        {
            "cell_type": "code",
            "execution_count": 12,
            "metadata": {
                "azdata_cell_guid": "707abc33-c6ee-416e-9358-c799f1fcbb12"
            },
            "outputs": [
                {
                    "name": "stdout",
                    "output_type": "stream",
                    "text": [
                        "New db 'books.db' \n"
                    ]
                }
            ],
            "source": [
                "# Create the new database below\n",
                "# con = sqlite3\n",
                "\n",
                "import sqlite3\n",
                "\n",
                "con = sqlite3.connect('books.db')\n",
                "\n",
                "print(\"New db 'books.db' \")\n"
            ]
        },
        {
            "attachments": {},
            "cell_type": "markdown",
            "metadata": {
                "azdata_cell_guid": "dc9df060-ddc9-4573-bd74-3c97323f85a7"
            },
            "source": [
                "## Create a Table\n",
                "\n",
                "We've created the overall `books.db`, but now we want to store some relevant information inside of it. Creating a table to track our favorite books would be a good idea!\n",
                "\n",
                "Refer to the `python-db-walkthrough` file. There is a section where we created a table named `movies` using the sqlite3 method `executescript`.\n",
                "\n",
                "Using this information as a reference, we want you to create a new table called `favorite_books`. \n",
                "\n",
                "The table should have these fields and datatypes:\n",
                "1. id -> `INTEGER NOT NULL PRIMARY KEY AUTOINCREMENT`\n",
                "2. title -> a `TEXT` field\n",
                "3. author -> a `TEXT` field\n",
                "4. description -> a `TEXT` field \n",
                "\n",
                "Don't forget those `BEGIN` and `COMMIT` statements! "
            ]
        },
        {
            "cell_type": "code",
            "execution_count": 18,
            "metadata": {
                "azdata_cell_guid": "3cc6b80e-3fa2-4d2e-b2a9-1ea5d68ba01e"
            },
            "outputs": [
                {
                    "name": "stdout",
                    "output_type": "stream",
                    "text": [
                        "Connected to database 'books.db'.\n",
                        "Table 'favorite_books' \n",
                        "Database closed.\n"
                    ]
                }
            ],
            "source": [
                "# Create a new table in your database.\n",
                "\n",
                "import sqlite3\n",
                "\n",
                "con = sqlite3.connect('books.db')\n",
                "print(\"Connected to database 'books.db'.\")\n",
                "\n",
                "cur = con.cursor()\n",
                "\n",
                "cur.executescript(\"\"\"\n",
                "BEGIN;\n",
                "CREATE TABLE IF NOT EXISTS favorite_books (\n",
                "    id INTEGER NOT NULL PRIMARY KEY AUTOINCREMENT,\n",
                "    title TEXT,\n",
                "    author TEXT,\n",
                "    description TEXT\n",
                ");\n",
                "COMMIT;\n",
                "\"\"\")\n",
                "\n",
                "print(\"Table 'favorite_books' \")\n",
                "\n",
                "# Close the connection\n",
                "con.close()\n",
                "print(\"Database closed.\")\n"
            ]
        },
        {
            "cell_type": "markdown",
            "metadata": {
                "azdata_cell_guid": "e9acec60-1485-45c8-9f12-997f959d44cc"
            },
            "source": [
                "## Insert Records\n",
                "\n",
                "Now, add 3 entries to your new table for your top 3 favorite books.\n",
                "\n",
                "We can use the sqlite3 `executemany` method to run a sql statement for each element within a list.\n",
                "\n",
                "\n",
                "Update the `data` list below to include 3 `tuples` of data, like the commented example. \n",
                "Then run the code.\n"
            ]
        },
        {
            "cell_type": "code",
            "execution_count": 1,
            "metadata": {
                "azdata_cell_guid": "c7b8e386-f3f4-42ad-aa91-a2da2e7904a5"
            },
            "outputs": [
                {
                    "name": "stdout",
                    "output_type": "stream",
                    "text": [
                        "Connected'books.db'.\n",
                        "Insert Records\n",
                        "ID: 1, Title: 1984, Author: George Orwell, Description: A dystopian social science fiction novel and cautionary tale.\n",
                        "ID: 2, Title: The Great Gatsby, Author: F. Scott Fitzgerald, Description: A novel about the themes of resistance to change and social upheaval.\n",
                        "ID: 3, Title: To Kill a Mockingbird, Author: Harper Lee, Description: A novel of racial injustice and the destruction of innocence.\n",
                        "ID: 4, Title: 1984, Author: George Orwell, Description: A dystopian social science fiction novel and cautionary tale.\n",
                        "ID: 5, Title: The Great Gatsby, Author: F. Scott Fitzgerald, Description: A novel about the themes of resistance to change and social upheaval.\n",
                        "ID: 6, Title: To Kill a Mockingbird, Author: Harper Lee, Description: A novel of racial injustice and the destruction of innocence.\n",
                        "ID: 7, Title: 1984, Author: George Orwell, Description: A dystopian social science fiction novel and cautionary tale.\n",
                        "ID: 8, Title: The Great Gatsby, Author: F. Scott Fitzgerald, Description: A novel about the themes of resistance to change and social upheaval.\n",
                        "ID: 9, Title: To Kill a Mockingbird, Author: Harper Lee, Description: A novel of racial injustice and the destruction of innocence.\n",
                        "ID: 10, Title: 1984, Author: George Orwell, Description: A dystopian social science fiction novel and cautionary tale.\n",
                        "ID: 11, Title: The Great Gatsby, Author: F. Scott Fitzgerald, Description: A novel about the themes of resistance to change and social upheaval.\n",
                        "ID: 12, Title: To Kill a Mockingbird, Author: Harper Lee, Description: A novel of racial injustice and the destruction of innocence.\n",
                        "ID: 13, Title: 1984, Author: George Orwell, Description: A dystopian social science fiction novel and cautionary tale.\n",
                        "ID: 14, Title: The Great Gatsby, Author: F. Scott Fitzgerald, Description: A novel about the themes of resistance to change and social upheaval.\n",
                        "ID: 15, Title: To Kill a Mockingbird, Author: Harper Lee, Description: A novel of racial injustice and the destruction of innocence.\n",
                        "ID: 16, Title: 1984, Author: George Orwell, Description: A dystopian social science fiction novel and cautionary tale.\n",
                        "ID: 17, Title: The Great Gatsby, Author: F. Scott Fitzgerald, Description: A novel about the themes of resistance to change and social upheaval.\n",
                        "ID: 18, Title: To Kill a Mockingbird, Author: Harper Lee, Description: A novel of racial injustice and the destruction of innocence.\n",
                        "ID: 19, Title: 1984, Author: George Orwell, Description: A dystopian social science fiction novel and cautionary tale.\n",
                        "ID: 20, Title: The Great Gatsby, Author: F. Scott Fitzgerald, Description: A novel about the themes of resistance to change and social upheaval.\n",
                        "ID: 21, Title: To Kill a Mockingbird, Author: Harper Lee, Description: A novel of racial injustice and the destruction of innocence.\n",
                        "ID: 22, Title: 1984, Author: George Orwell, Description: A dystopian social science fiction novel and cautionary tale.\n",
                        "ID: 23, Title: The Great Gatsby, Author: F. Scott Fitzgerald, Description: A novel about the themes of resistance to change and social upheaval.\n",
                        "ID: 24, Title: To Kill a Mockingbird, Author: Harper Lee, Description: A novel of racial injustice and the destruction of innocence.\n",
                        "ID: 25, Title: 1984, Author: George Orwell, Description: A dystopian social science fiction novel and cautionary tale.\n",
                        "ID: 26, Title: The Great Gatsby, Author: F. Scott Fitzgerald, Description: A novel about the themes of resistance to change and social upheaval.\n",
                        "ID: 27, Title: To Kill a Mockingbird, Author: Harper Lee, Description: A novel of racial injustice and the destruction of innocence.\n",
                        "ID: 28, Title: 1984, Author: George Orwell, Description: A dystopian social science fiction novel and cautionary tale.\n",
                        "ID: 29, Title: The Great Gatsby, Author: F. Scott Fitzgerald, Description: A novel about the themes of resistance to change and social upheaval.\n",
                        "ID: 30, Title: To Kill a Mockingbird, Author: Harper Lee, Description: A novel of racial injustice and the destruction of innocence.\n",
                        "ID: 31, Title: 1984, Author: George Orwell, Description: A dystopian social science fiction novel and cautionary tale.\n",
                        "ID: 32, Title: The Great Gatsby, Author: F. Scott Fitzgerald, Description: A novel about the themes of resistance to change and social upheaval.\n",
                        "ID: 33, Title: To Kill a Mockingbird, Author: Harper Lee, Description: A novel of racial injustice and the destruction of innocence.\n",
                        "ID: 34, Title: 1984, Author: George Orwell, Description: A dystopian social science fiction novel and cautionary tale.\n",
                        "ID: 35, Title: The Great Gatsby, Author: F. Scott Fitzgerald, Description: A novel about the themes of resistance to change and social upheaval.\n",
                        "ID: 36, Title: To Kill a Mockingbird, Author: Harper Lee, Description: A novel of racial injustice and the destruction of innocence.\n",
                        "ID: 37, Title: 1984, Author: George Orwell, Description: A dystopian social science fiction novel and cautionary tale.\n",
                        "ID: 38, Title: The Great Gatsby, Author: F. Scott Fitzgerald, Description: A novel about the themes of resistance to change and social upheaval.\n",
                        "ID: 39, Title: To Kill a Mockingbird, Author: Harper Lee, Description: A novel of racial injustice and the destruction of innocence.\n",
                        "ID: 40, Title: 1984, Author: George Orwell, Description: A dystopian social science fiction novel and cautionary tale.\n",
                        "ID: 41, Title: The Great Gatsby, Author: F. Scott Fitzgerald, Description: A novel about the themes of resistance to change and social upheaval.\n",
                        "ID: 42, Title: To Kill a Mockingbird, Author: Harper Lee, Description: A novel of racial injustice and the destruction of innocence.\n",
                        "ID: 43, Title: 1984, Author: George Orwell, Description: A dystopian social science fiction novel and cautionary tale.\n",
                        "ID: 44, Title: The Great Gatsby, Author: F. Scott Fitzgerald, Description: A novel about the themes of resistance to change and social upheaval.\n",
                        "ID: 45, Title: To Kill a Mockingbird, Author: Harper Lee, Description: A novel of racial injustice and the destruction of innocence.\n",
                        "ID: 46, Title: 1984, Author: George Orwell, Description: A dystopian social science fiction novel and cautionary tale.\n",
                        "ID: 47, Title: The Great Gatsby, Author: F. Scott Fitzgerald, Description: A novel about the themes of resistance to change and social upheaval.\n",
                        "ID: 48, Title: To Kill a Mockingbird, Author: Harper Lee, Description: A novel of racial injustice and the destruction of innocence.\n",
                        "ID: 49, Title: 1984, Author: George Orwell, Description: A dystopian social science fiction novel and cautionary tale.\n",
                        "ID: 50, Title: The Great Gatsby, Author: F. Scott Fitzgerald, Description: A novel about the themes of resistance to change and social upheaval.\n",
                        "ID: 51, Title: To Kill a Mockingbird, Author: Harper Lee, Description: A novel of racial injustice and the destruction of innocence.\n",
                        "Database Closed.\n"
                    ]
                }
            ],
            "source": [
                "# Add your 3 favorite books to your table.\n",
                "\n",
                "\n",
                "import sqlite3\n",
                "\n",
                "con = sqlite3.connect('books.db')\n",
                "print(\"Connected'books.db'.\")\n",
                "\n",
                "sql = 'INSERT INTO favorite_books (title, author, description) VALUES (?, ?, ?)'\n",
                "\n",
                "\n",
                "data = [\n",
                "    ('1984', 'George Orwell', 'A dystopian social science fiction novel and cautionary tale.'),\n",
                "    ('The Great Gatsby', 'F. Scott Fitzgerald', 'A novel about the themes of resistance to change and social upheaval.'),\n",
                "    ('To Kill a Mockingbird', 'Harper Lee', 'A novel of racial injustice and the destruction of innocence.')\n",
                "]\n",
                "\n",
                "with con:\n",
                "    con.executemany(sql, data)\n",
                "    con.commit() \n",
                "\n",
                "print(\"Insert Records\")\n",
                "\n",
                "cur = con.cursor()\n",
                "cur.execute(\"SELECT * FROM favorite_books\")\n",
                "rows = cur.fetchall()\n",
                "\n",
                "for row in rows:\n",
                "    print(f\"ID: {row[0]}, Title: {row[1]}, Author: {row[2]}, Description: {row[3]}\")\n",
                "\n",
                "# Close\n",
                "con.close()\n",
                "print(\"Database Closed.\")\n"
            ]
        },
        {
            "attachments": {},
            "cell_type": "markdown",
            "metadata": {
                "azdata_cell_guid": "b2e48ba7-b418-4418-bb16-598fb82b964c"
            },
            "source": [
                "## Query Your Table\n",
                "\n",
                "Now, write a `SELECT` query using the sqlite3 `execute` method to return all the records from the `favorite_books` table.\n",
                "\n",
                "\n",
                "Iterate over this result and print each row out to the console.\n"
            ]
        },
        {
            "cell_type": "code",
            "execution_count": 38,
            "metadata": {
                "azdata_cell_guid": "c341e7e2-d635-4c26-b744-237c762f7f41",
                "tags": []
            },
            "outputs": [
                {
                    "name": "stdout",
                    "output_type": "stream",
                    "text": [
                        "Connected to database 'books.db'.\n",
                        "ID: 1, Title: 1984, Author: George Orwell, Description: A dystopian social science fiction novel and cautionary tale.\n",
                        "ID: 2, Title: The Great Gatsby, Author: F. Scott Fitzgerald, Description: A novel about the themes of resistance to change and social upheaval.\n",
                        "ID: 3, Title: To Kill a Mockingbird, Author: Harper Lee, Description: A novel of racial injustice and the destruction of innocence.\n",
                        "ID: 4, Title: 1984, Author: George Orwell, Description: A dystopian social science fiction novel and cautionary tale.\n",
                        "ID: 5, Title: The Great Gatsby, Author: F. Scott Fitzgerald, Description: A novel about the themes of resistance to change and social upheaval.\n",
                        "ID: 6, Title: To Kill a Mockingbird, Author: Harper Lee, Description: A novel of racial injustice and the destruction of innocence.\n",
                        "ID: 7, Title: 1984, Author: George Orwell, Description: A dystopian social science fiction novel and cautionary tale.\n",
                        "ID: 8, Title: The Great Gatsby, Author: F. Scott Fitzgerald, Description: A novel about the themes of resistance to change and social upheaval.\n",
                        "ID: 9, Title: To Kill a Mockingbird, Author: Harper Lee, Description: A novel of racial injustice and the destruction of innocence.\n",
                        "ID: 10, Title: 1984, Author: George Orwell, Description: A dystopian social science fiction novel and cautionary tale.\n",
                        "ID: 11, Title: The Great Gatsby, Author: F. Scott Fitzgerald, Description: A novel about the themes of resistance to change and social upheaval.\n",
                        "ID: 12, Title: To Kill a Mockingbird, Author: Harper Lee, Description: A novel of racial injustice and the destruction of innocence.\n",
                        "ID: 13, Title: 1984, Author: George Orwell, Description: A dystopian social science fiction novel and cautionary tale.\n",
                        "ID: 14, Title: The Great Gatsby, Author: F. Scott Fitzgerald, Description: A novel about the themes of resistance to change and social upheaval.\n",
                        "ID: 15, Title: To Kill a Mockingbird, Author: Harper Lee, Description: A novel of racial injustice and the destruction of innocence.\n",
                        "ID: 16, Title: 1984, Author: George Orwell, Description: A dystopian social science fiction novel and cautionary tale.\n",
                        "ID: 17, Title: The Great Gatsby, Author: F. Scott Fitzgerald, Description: A novel about the themes of resistance to change and social upheaval.\n",
                        "ID: 18, Title: To Kill a Mockingbird, Author: Harper Lee, Description: A novel of racial injustice and the destruction of innocence.\n",
                        "ID: 19, Title: 1984, Author: George Orwell, Description: A dystopian social science fiction novel and cautionary tale.\n",
                        "ID: 20, Title: The Great Gatsby, Author: F. Scott Fitzgerald, Description: A novel about the themes of resistance to change and social upheaval.\n",
                        "ID: 21, Title: To Kill a Mockingbird, Author: Harper Lee, Description: A novel of racial injustice and the destruction of innocence.\n",
                        "ID: 22, Title: 1984, Author: George Orwell, Description: A dystopian social science fiction novel and cautionary tale.\n",
                        "ID: 23, Title: The Great Gatsby, Author: F. Scott Fitzgerald, Description: A novel about the themes of resistance to change and social upheaval.\n",
                        "ID: 24, Title: To Kill a Mockingbird, Author: Harper Lee, Description: A novel of racial injustice and the destruction of innocence.\n",
                        "ID: 25, Title: 1984, Author: George Orwell, Description: A dystopian social science fiction novel and cautionary tale.\n",
                        "ID: 26, Title: The Great Gatsby, Author: F. Scott Fitzgerald, Description: A novel about the themes of resistance to change and social upheaval.\n",
                        "ID: 27, Title: To Kill a Mockingbird, Author: Harper Lee, Description: A novel of racial injustice and the destruction of innocence.\n",
                        "ID: 28, Title: 1984, Author: George Orwell, Description: A dystopian social science fiction novel and cautionary tale.\n",
                        "ID: 29, Title: The Great Gatsby, Author: F. Scott Fitzgerald, Description: A novel about the themes of resistance to change and social upheaval.\n",
                        "ID: 30, Title: To Kill a Mockingbird, Author: Harper Lee, Description: A novel of racial injustice and the destruction of innocence.\n",
                        "ID: 31, Title: 1984, Author: George Orwell, Description: A dystopian social science fiction novel and cautionary tale.\n",
                        "ID: 32, Title: The Great Gatsby, Author: F. Scott Fitzgerald, Description: A novel about the themes of resistance to change and social upheaval.\n",
                        "ID: 33, Title: To Kill a Mockingbird, Author: Harper Lee, Description: A novel of racial injustice and the destruction of innocence.\n",
                        "ID: 34, Title: 1984, Author: George Orwell, Description: A dystopian social science fiction novel and cautionary tale.\n",
                        "ID: 35, Title: The Great Gatsby, Author: F. Scott Fitzgerald, Description: A novel about the themes of resistance to change and social upheaval.\n",
                        "ID: 36, Title: To Kill a Mockingbird, Author: Harper Lee, Description: A novel of racial injustice and the destruction of innocence.\n",
                        "ID: 37, Title: 1984, Author: George Orwell, Description: A dystopian social science fiction novel and cautionary tale.\n",
                        "ID: 38, Title: The Great Gatsby, Author: F. Scott Fitzgerald, Description: A novel about the themes of resistance to change and social upheaval.\n",
                        "ID: 39, Title: To Kill a Mockingbird, Author: Harper Lee, Description: A novel of racial injustice and the destruction of innocence.\n",
                        "ID: 40, Title: 1984, Author: George Orwell, Description: A dystopian social science fiction novel and cautionary tale.\n",
                        "ID: 41, Title: The Great Gatsby, Author: F. Scott Fitzgerald, Description: A novel about the themes of resistance to change and social upheaval.\n",
                        "ID: 42, Title: To Kill a Mockingbird, Author: Harper Lee, Description: A novel of racial injustice and the destruction of innocence.\n",
                        "ID: 43, Title: 1984, Author: George Orwell, Description: A dystopian social science fiction novel and cautionary tale.\n",
                        "ID: 44, Title: The Great Gatsby, Author: F. Scott Fitzgerald, Description: A novel about the themes of resistance to change and social upheaval.\n",
                        "ID: 45, Title: To Kill a Mockingbird, Author: Harper Lee, Description: A novel of racial injustice and the destruction of innocence.\n",
                        "ID: 46, Title: 1984, Author: George Orwell, Description: A dystopian social science fiction novel and cautionary tale.\n",
                        "ID: 47, Title: The Great Gatsby, Author: F. Scott Fitzgerald, Description: A novel about the themes of resistance to change and social upheaval.\n",
                        "ID: 48, Title: To Kill a Mockingbird, Author: Harper Lee, Description: A novel of racial injustice and the destruction of innocence.\n",
                        "Database Closed.\n"
                    ]
                }
            ],
            "source": [
                "import sqlite3\n",
                "\n",
                "con = sqlite3.connect('books.db')\n",
                "print(\"Connected to database 'books.db'.\")\n",
                "\n",
                "with con:\n",
                "    cur = con.cursor()\n",
                "    cur.execute(\"SELECT * FROM favorite_books\")\n",
                "    rows = cur.fetchall()\n",
                "\n",
                "    for row in rows:\n",
                "        print(f\"ID: {row[0]}, Title: {row[1]}, Author: {row[2]}, Description: {row[3]}\")\n",
                "\n",
                "# Close\n",
                "con.close()\n",
                "print(\"Database Closed.\")\n"
            ]
        },
        {
            "cell_type": "markdown",
            "metadata": {
                "azdata_cell_guid": "2127737d-71cd-4f0d-a84e-b1db8ad54af7"
            },
            "source": [
                "## Create a New Table with Pandas\n",
                "\n",
                "Books are cool, but you don't have to read movies! \n",
                "\n",
                "Let's create a new table to store our favorite movies based on books.\n",
                "\n",
                "This time we're going to use a `pandas` DataFrame to create the data.\n",
                "\n",
                "Update the `title` list below to include your 3 favorite movies based on books.\n",
                "\n",
                "Then, using pandas `to_sql` method (an example can be found in `pandas-db-walkthrough`), create a new table named `favorite_book_movies` using this Data Frame.\n",
                "\n",
                "Finally, just like we did in the last secion, print all results of this new table to the console."
            ]
        },
        {
            "cell_type": "code",
            "execution_count": 2,
            "metadata": {
                "azdata_cell_guid": "b4b6dd20-ccc0-42e7-b1e7-79d8596b3f9c"
            },
            "outputs": [
                {
                    "name": "stdout",
                    "output_type": "stream",
                    "text": [
                        "Table 'favorite_book_movies'\n",
                        "   id                     title  \\\n",
                        "0   1  The Shawshank Redemption   \n",
                        "1   2             The Godfather   \n",
                        "2   3              Forrest Gump   \n",
                        "\n",
                        "                                            based_on  \n",
                        "0  Rita Hayworth and Shawshank Redemption by Step...  \n",
                        "1                        The Godfather by Mario Puzo  \n",
                        "2                      Forrest Gump by Winston Groom  \n"
                    ]
                }
            ],
            "source": [
                "# # Use Pandas to make a new table in your database.\n",
                "import sqlite3\n",
                "import pandas as pd\n",
                "\n",
                "df_movies = pd.DataFrame({\n",
                "    'id': [1, 2, 3],\n",
                "    'title': ['The Shawshank Redemption', 'The Godfather', 'Forrest Gump'],\n",
                "    'based_on': ['Rita Hayworth and Shawshank Redemption by Stephen King',\n",
                "                 'The Godfather by Mario Puzo',\n",
                "                 'Forrest Gump by Winston Groom']\n",
                "})\n",
                "\n",
                "con = sqlite3.connect('books.db')\n",
                "\n",
                "df_movies.to_sql('favorite_book_movies', con, if_exists='replace', index=False)\n",
                "\n",
                "print(\"Table 'favorite_book_movies'\")\n",
                "\n",
                "read_back_df = pd.read_sql_query(\"SELECT * FROM favorite_book_movies\", con)\n",
                "print(read_back_df)\n",
                "\n",
                "# Close\n",
                "con.close()\n",
                "\n"
            ]
        },
        {
            "cell_type": "markdown",
            "metadata": {},
            "source": [
                "## What's up with `with con`?\n",
                "\n",
                "You may have noticed in the `python-db-walkthrough` file that we had to include a section at the end to `close()` our sqlite3 connection. \n",
                "\n",
                "If we didn't include this code, we would end up with a hanging open connection, which could lead to database locking and/or record corruption. Both of these are very bad things!\n",
                "\n",
                "But, it would be hard to remember to always directly close the connection when we need to.\n",
                "\n",
                "That's why we have the `with` keyword! You can read about this Python language feature [here](https://www.geeksforgeeks.org/with-statement-in-python/).\n",
                "\n",
                "In this context, `with con` will open up a connection to the database and then close it once the Python code inside the indented block finishes. \n",
                "\n",
                "This way, we don't have to manually close our db connections in our code and we have a nice visual block of code to help manage each operation performed against the database."
            ]
        }
    ],
    "metadata": {
        "kernelspec": {
            "display_name": "Python 3",
            "language": "python",
            "name": "python3"
        },
        "language_info": {
            "codemirror_mode": {
                "name": "ipython",
                "version": 3
            },
            "file_extension": ".py",
            "mimetype": "text/x-python",
            "name": "python",
            "nbconvert_exporter": "python",
            "pygments_lexer": "ipython3",
            "version": "3.12.5"
        }
    },
    "nbformat": 4,
    "nbformat_minor": 2
}
