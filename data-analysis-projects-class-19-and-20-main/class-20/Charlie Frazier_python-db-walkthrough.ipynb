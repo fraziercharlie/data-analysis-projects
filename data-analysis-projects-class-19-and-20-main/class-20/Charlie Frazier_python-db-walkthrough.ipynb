{
 "cells": [
  {
   "cell_type": "code",
   "execution_count": 48,
   "id": "880e27fd-018c-4277-97d0-19074e40f34f",
   "metadata": {},
   "outputs": [],
   "source": [
    "# Imports \n",
    "import sqlite3"
   ]
  },
  {
   "cell_type": "code",
   "execution_count": 59,
   "id": "f5ed26b2-ecbe-4362-8d9a-6491a59318ac",
   "metadata": {},
   "outputs": [
    {
     "name": "stdout",
     "output_type": "stream",
     "text": [
      "<sqlite3.Connection object at 0x0000020B8795DA80>\n"
     ]
    }
   ],
   "source": [
    "# Working with and creating new database below for MOVIES\n",
    "movies_db = sqlite3.connect('Movies.db')\n",
    "\n",
    "print(movies_db)"
   ]
  },
  {
   "cell_type": "code",
   "execution_count": 6,
   "id": "3a7b06ab-d11c-4529-8964-4e4e13e82d09",
   "metadata": {
    "scrolled": true
   },
   "outputs": [
    {
     "name": "stdout",
     "output_type": "stream",
     "text": [
      "Title: Interstellar, Genre: Science Fiction, Release: 2014, RT Score: 73\n",
      "Title: Pride and Prejudice, Genre: Novel, Release: 2005, RT Score: 87\n",
      "Title: Inception, Genre: Science Fiction, Release: 2010, RT Score: 87\n",
      "Title: Barbie, Genre: Comedy, Release: 2023, RT Score: 88\n",
      "Title: Good Will Hunting, Genre: Drama, Release: 1996, RT Score: 97\n"
     ]
    }
   ],
   "source": [
    "# Creating cursor object, using cursor object to create new tables and add table data\n",
    "import sqlite3\n",
    "\n",
    "movies_db = sqlite3.connect('Movies.db')\n",
    "\n",
    "cur = movies_db.cursor()\n",
    "\n",
    "cur.execute(\"DROP TABLE IF EXISTS movies\")\n",
    "\n",
    "# # Script to populate table\n",
    "cur.executescript(\"\"\"\n",
    "    BEGIN;\n",
    "    CREATE TABLE movies (title TEXT, genre TEXT, release INTEGER, rt_score INTEGER);\n",
    "    INSERT INTO movies VALUES ('Interstellar', 'Science Fiction', 2014, 73);\n",
    "    INSERT INTO movies VALUES ('Pride and Prejudice', 'Novel', 2005, 87);\n",
    "    INSERT INTO movies VALUES ('Inception', 'Science Fiction', 2010, 87);\n",
    "    INSERT INTO movies VALUES ('Barbie', 'Comedy', 2023, 88);\n",
    "    INSERT INTO movies VALUES ('Good Will Hunting', 'Drama', 1996, 97);\n",
    "    COMMIT;\n",
    "\"\"\")\n",
    "\n",
    "cur.execute(\"SELECT * FROM movies\")\n",
    "rows = cur.fetchall()\n",
    "for row in rows:\n",
    "    print(f\"Title: {row[0]}, Genre: {row[1]}, Release: {row[2]}, RT Score: {row[3]}\")\n",
    "\n",
    "cur.close()\n",
    "movies_db.close()\n",
    "\n"
   ]
  },
  {
   "cell_type": "code",
   "execution_count": 7,
   "id": "b97c46ab-a368-4d41-914b-3a92a7179b7f",
   "metadata": {},
   "outputs": [
    {
     "name": "stdout",
     "output_type": "stream",
     "text": [
      "Title: Interstellar, Genre: Science Fiction, Release Year: 2014, Rotten Tomatoes Score: 73\n",
      "Title: Pride and Prejudice, Genre: Novel, Release Year: 2005, Rotten Tomatoes Score: 87\n",
      "Title: Inception, Genre: Science Fiction, Release Year: 2010, Rotten Tomatoes Score: 87\n",
      "Title: Barbie, Genre: Comedy, Release Year: 2023, Rotten Tomatoes Score: 88\n",
      "Title: Good Will Hunting, Genre: Drama, Release Year: 1996, Rotten Tomatoes Score: 97\n"
     ]
    }
   ],
   "source": [
    "# Read table data\n",
    "import sqlite3\n",
    "\n",
    "movies_db = sqlite3.connect('Movies.db')\n",
    "cur = movies_db.cursor()\n",
    "\n",
    "rows = cur.execute(\"SELECT * FROM movies\").fetchall()\n",
    "\n",
    "for row in rows:\n",
    "    print(f\"Title: {row[0]}, Genre: {row[1]}, Release Year: {row[2]}, Rotten Tomatoes Score: {row[3]}\")\n",
    "\n",
    "# Close\n",
    "cur.close()\n",
    "movies_db.close()\n",
    "\n"
   ]
  },
  {
   "cell_type": "code",
   "execution_count": 4,
   "id": "285b2ce9-4a96-414c-af40-438f40450d45",
   "metadata": {},
   "outputs": [
    {
     "name": "stdout",
     "output_type": "stream",
     "text": [
      "Updated Row: ('Good Will Hunting', 'Drama', 1997, 97)\n"
     ]
    }
   ],
   "source": [
    "# Update table data - There was a typo for the release year of Good Will Hunting, lets update this!\n",
    "import sqlite3\n",
    "\n",
    "# Connect to the SQLite database\n",
    "movies_db = sqlite3.connect('Movies.db')\n",
    "cur = movies_db.cursor()\n",
    "\n",
    "update_release_year = 1997\n",
    "movie_to_update = 'Good Will Hunting'\n",
    "cur.execute(\"UPDATE movies SET release = ? WHERE title = ?\", (update_release_year, movie_to_update))\n",
    "movies_db.commit()\n",
    "\n",
    "cur.execute(\"SELECT * FROM movies WHERE title = ?\", (movie_to_update,))\n",
    "updated_row = cur.fetchone()\n",
    "print(f\"Updated Row: {updated_row}\")\n",
    "\n",
    "# Close\n",
    "cur.close()\n",
    "movies_db.close()\n"
   ]
  },
  {
   "cell_type": "code",
   "execution_count": 72,
   "id": "e6d0b952-da72-4cfd-a395-7c8e8cdd03ec",
   "metadata": {},
   "outputs": [
    {
     "name": "stdout",
     "output_type": "stream",
     "text": [
      "Title: Interstellar, Genre: Science Fiction, Release Year: 2014, Rotten Tomatoes Score: 73\n",
      "Title: Pride and Prejudice, Genre: Novel, Release Year: 2005, Rotten Tomatoes Score: 87\n",
      "Title: Inception, Genre: Science Fiction, Release Year: 2010, Rotten Tomatoes Score: 87\n",
      "Title: Barbie, Genre: Comedy, Release Year: 2023, Rotten Tomatoes Score: 88\n",
      "Title: Good Will Hunting, Genre: Drama, Release Year: 1997, Rotten Tomatoes Score: 97\n"
     ]
    }
   ],
   "source": [
    "# # Verify Update\n",
    "import sqlite3\n",
    "\n",
    "movies_db = sqlite3.connect('Movies.db')\n",
    "cur = movies_db.cursor()\n",
    "\n",
    "rows = cur.execute(\"SELECT * FROM movies\").fetchall()\n",
    "\n",
    "for row in rows:\n",
    "    print(f\"Title: {row[0]}, Genre: {row[1]}, Release Year: {row[2]}, Rotten Tomatoes Score: {row[3]}\")\n",
    "\n",
    "# Close\n",
    "cur.close()\n",
    "movies_db.close()\n",
    "\n"
   ]
  },
  {
   "cell_type": "code",
   "execution_count": 74,
   "id": "1800d018-b0af-4179-9680-639398170d85",
   "metadata": {},
   "outputs": [
    {
     "name": "stdout",
     "output_type": "stream",
     "text": [
      "Title: Interstellar, Genre: Science Fiction, Release Year: 2014, Rotten Tomatoes Score: 73\n",
      "Title: Pride and Prejudice, Genre: Novel, Release Year: 2005, Rotten Tomatoes Score: 87\n",
      "Title: Barbie, Genre: Comedy, Release Year: 2023, Rotten Tomatoes Score: 88\n",
      "Title: Good Will Hunting, Genre: Drama, Release Year: 1997, Rotten Tomatoes Score: 97\n"
     ]
    }
   ],
   "source": [
    "import sqlite3\n",
    "\n",
    "movies_db = sqlite3.connect('Movies.db')\n",
    "cur = movies_db.cursor()\n",
    "\n",
    "movie_to_delete = 'Inception' # Too many sci fi movies!\n",
    "\n",
    "cur.execute(\"DELETE FROM movies WHERE title = ?\", (movie_to_delete,))\n",
    "\n",
    "movies_db.commit()\n",
    "\n",
    "cur.execute(\"SELECT * FROM movies\")\n",
    "rows = cur.fetchall()\n",
    "\n",
    "for row in rows:\n",
    "    print(f\"Title: {row[0]}, Genre: {row[1]}, Release Year: {row[2]}, Rotten Tomatoes Score: {row[3]}\")\n",
    "\n",
    "# Close\n",
    "cur.close()\n",
    "movies_db.close()\n"
   ]
  },
  {
   "cell_type": "code",
   "execution_count": 77,
   "id": "02fcbe24-3b12-4e50-b918-1ef347eda9ec",
   "metadata": {},
   "outputs": [
    {
     "name": "stdout",
     "output_type": "stream",
     "text": [
      "Title: Interstellar, Genre: Science Fiction, Release Year: 2014, Rotten Tomatoes Score: 73\n",
      "Title: Pride and Prejudice, Genre: Novel, Release Year: 2005, Rotten Tomatoes Score: 87\n",
      "Title: Barbie, Genre: Comedy, Release Year: 2023, Rotten Tomatoes Score: 88\n",
      "Title: Good Will Hunting, Genre: Drama, Release Year: 1997, Rotten Tomatoes Score: 97\n"
     ]
    }
   ],
   "source": [
    "# Confirm movie deleted!\n",
    "\n",
    "import sqlite3\n",
    "\n",
    "movies_db = sqlite3.connect('Movies.db')\n",
    "cur = movies_db.cursor()\n",
    "\n",
    "rows = cur.execute(\"SELECT * FROM movies\").fetchall()\n",
    "\n",
    "for row in rows:\n",
    "    print(f\"Title: {row[0]}, Genre: {row[1]}, Release Year: {row[2]}, Rotten Tomatoes Score: {row[3]}\")\n",
    "\n",
    "# Close\n",
    "cur.close()\n",
    "movies_db.close()\n",
    "\n"
   ]
  },
  {
   "cell_type": "code",
   "execution_count": 3,
   "id": "959adb19-fb1d-4d87-881e-f34e9d4ab793",
   "metadata": {},
   "outputs": [
    {
     "name": "stdout",
     "output_type": "stream",
     "text": [
      "('Interstellar',)\n",
      "('Pride and Prejudice',)\n",
      "('Barbie',)\n",
      "('Good Will Hunting',)\n"
     ]
    }
   ],
   "source": [
    "import sqlite3\n",
    "\n",
    "movies_db = sqlite3.connect('Movies.db')\n",
    "cur = movies_db.cursor()\n",
    "\n",
    "for row in cur.execute('SELECT title FROM movies'):\n",
    "    print(row) \n",
    "\n",
    "# Close\n",
    "cur.close()\n",
    "movies_db.close()\n",
    "\n",
    "\n"
   ]
  },
  {
   "cell_type": "code",
   "execution_count": 2,
   "id": "a688441c-8db9-4646-8041-bc125355ecff",
   "metadata": {},
   "outputs": [
    {
     "name": "stdout",
     "output_type": "stream",
     "text": [
      "Title: Interstellar, Genre: Science Fiction, Release Year: 2014, Rotten Tomatoes Score: 73\n",
      "Title: Pride and Prejudice, Genre: Novel, Release Year: 2005, Rotten Tomatoes Score: 87\n",
      "Title: Barbie, Genre: Comedy, Release Year: 2023, Rotten Tomatoes Score: 88\n",
      "Title: Good Will Hunting, Genre: Drama, Release Year: 1997, Rotten Tomatoes Score: 97\n",
      "Database Closed\n"
     ]
    }
   ],
   "source": [
    "# MAKE SURE to close the db connection when we're done with it.\n",
    "## Leaving open connections hanging around can cause our database to be locked \n",
    "\n",
    "import sqlite3\n",
    "\n",
    "movies_db = sqlite3.connect('Movies.db')\n",
    "cur = movies_db.cursor()\n",
    "\n",
    "rows = cur.execute('SELECT * FROM movies').fetchall()\n",
    "for row in rows:\n",
    "    print(f\"Title: {row[0]}, Genre: {row[1]}, Release Year: {row[2]}, Rotten Tomatoes Score: {row[3]}\")\n",
    "\n",
    "cur.close()\n",
    "\n",
    "# Database Closed\n",
    "movies_db.close()\n",
    "print(\"Database Closed\")\n"
   ]
  }
 ],
 "metadata": {
  "kernelspec": {
   "display_name": "Python 3 (ipykernel)",
   "language": "python",
   "name": "python3"
  },
  "language_info": {
   "codemirror_mode": {
    "name": "ipython",
    "version": 3
   },
   "file_extension": ".py",
   "mimetype": "text/x-python",
   "name": "python",
   "nbconvert_exporter": "python",
   "pygments_lexer": "ipython3",
   "version": "3.12.5"
  }
 },
 "nbformat": 4,
 "nbformat_minor": 5
}
