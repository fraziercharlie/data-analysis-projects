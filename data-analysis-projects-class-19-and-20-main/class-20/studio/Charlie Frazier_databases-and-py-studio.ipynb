{
    "cells": [
        {
            "attachments": {},
            "cell_type": "markdown",
            "metadata": {
                "azdata_cell_guid": "54326aff-51cd-4766-8046-828a92489c6d"
            },
            "source": [
                "# Studio: Working with Databases in Python\n",
                "\n",
                "For today's studio, we will be using the [TV Shows dataset](https://www.kaggle.com/ruchi798/tv-shows-on-netflix-prime-video-hulu-and-disney) from Kaggle. We have already downloaded the CSV for you.\n",
                "\n",
                "You will use the watchlist you created to answer these questions:\n",
                "\n",
                "1. **Which streaming services contain the shows you want to watch next?**\n",
                "2. **Which streaming service is the best value based on the shows you want to watch?**\n",
                "\n",
                "As you complete the different tasks in the studio, you may choose between using Pandas or SQL. \n",
                "\n",
                "**Remember**: we learned in our prep work that one is oftentimes more efficient at certain tasks than the other, so choose wisely!"
            ]
        },
        {
            "attachments": {},
            "cell_type": "markdown",
            "metadata": {
                "azdata_cell_guid": "00bc62ef-6c46-40a2-bdad-a3250a003ce7"
            },
            "source": [
                "## My Watchlist\n",
                "\n",
                "If you would like, please use this space to make note of your watchlist by editing the text cell. You will need 10 shows overall.\n",
                "\n",
                "1. Gladiator\n",
                "2. Gladiator II\n",
                "3. House of Dragon\n",
                "4. Hangover\n",
                "5. Game of Thrones\n",
                "6. Raising Kanan\n",
                "7. SnowFall \n",
                "8. The Rings of Power\n",
                "9. Squid Game\n",
                "10. The Last of Us"
            ]
        },
        {
            "cell_type": "markdown",
            "metadata": {
                "azdata_cell_guid": "040bdac5-f7fc-474f-b112-1d807249ad0a"
            },
            "source": [
                "## Database Setup\n",
                "\n",
                "Import the necessary libraries and create a dataframe from the provided CSV. \n",
                "\n",
                "Print the info out for the dataframe. \n",
                "\n",
                "After that, you may drop the column called `Unnamed: 0` and rename any columns with spaces or unusual characters in the names such as `\"Disney+\"`. \n",
                "\n",
                "Print out the info for the dataframe again to ensure your changes were made."
            ]
        },
        {
            "cell_type": "code",
            "execution_count": 7,
            "metadata": {
                "azdata_cell_guid": "965f15d3-27b1-43ed-97e4-8c6fd482476c",
                "tags": []
            },
            "outputs": [
                {
                    "name": "stdout",
                    "output_type": "stream",
                    "text": [
                        "<class 'pandas.core.frame.DataFrame'>\n",
                        "RangeIndex: 5368 entries, 0 to 5367\n",
                        "Data columns (total 11 columns):\n",
                        " #   Column           Non-Null Count  Dtype \n",
                        "---  ------           --------------  ----- \n",
                        " 0   ID               5368 non-null   int64 \n",
                        " 1   Title            5368 non-null   object\n",
                        " 2   Year             5368 non-null   int64 \n",
                        " 3   Age              3241 non-null   object\n",
                        " 4   IMDb             4406 non-null   object\n",
                        " 5   Rotten_Tomatoes  5368 non-null   object\n",
                        " 6   Netflix          5368 non-null   int64 \n",
                        " 7   Hulu             5368 non-null   int64 \n",
                        " 8   Prime            5368 non-null   int64 \n",
                        " 9   Disney           5368 non-null   int64 \n",
                        " 10  Type             5368 non-null   int64 \n",
                        "dtypes: int64(7), object(4)\n",
                        "memory usage: 461.4+ KB\n"
                    ]
                }
            ],
            "source": [
                "# Code here\n",
                "\n",
                "import sqlite3 as sl\n",
                "import pandas as pd\n",
                "\n",
                "tv_shows = pd.read_csv(r\"C:\\Users\\charl\\Desktop\\LaunchCode-Data-Analysis\\Data-Analysis-Projects\\data-analysis-projects-class-19-and-20-main\\class-20\\studio\\tv_shows.csv\")\n",
                "\n",
                "tv_shows = tv_shows.drop(columns=['Unnamed: 0'])\n",
                "tv_shows = tv_shows.rename(columns = {'Rotten Tomatoes': 'Rotten_Tomatoes', 'Prime Video': 'Prime', 'Disney+': 'Disney'})\n",
                "\n",
                "tv_shows.info()"
            ]
        },
        {
            "attachments": {},
            "cell_type": "markdown",
            "metadata": {
                "azdata_cell_guid": "93875e01-f1ec-45ab-b8b3-c0fe09c89c41"
            },
            "source": [
                "With your dataframe at the ready, create a new database called `tv.db`. \n",
                "\n",
                "Add a new table to your database called `shows` using the data in the dataframe. "
            ]
        },
        {
            "cell_type": "code",
            "execution_count": 12,
            "metadata": {
                "azdata_cell_guid": "cae4affc-d930-4649-9c39-551475a83b5b",
                "tags": []
            },
            "outputs": [
                {
                    "name": "stdout",
                    "output_type": "stream",
                    "text": [
                        "   Unnamed: 0  ID             Title  Year  Age    IMDb Rotten Tomatoes  \\\n",
                        "0           0   1      Breaking Bad  2008  18+  9.4/10         100/100   \n",
                        "1           1   2   Stranger Things  2016  16+  8.7/10          96/100   \n",
                        "2           2   3   Attack on Titan  2013  18+  9.0/10          95/100   \n",
                        "3           3   4  Better Call Saul  2015  18+  8.8/10          94/100   \n",
                        "4           4   5              Dark  2017  16+  8.8/10          93/100   \n",
                        "\n",
                        "   Netflix  Hulu  Prime Video  Disney+  Type  \n",
                        "0        1     0            0        0     1  \n",
                        "1        1     0            0        0     1  \n",
                        "2        1     1            0        0     1  \n",
                        "3        1     0            0        0     1  \n",
                        "4        1     0            0        0     1  \n"
                    ]
                }
            ],
            "source": [
                "# # Code here\n",
                "\n",
                "# Re-open connection\n",
                "con = sl.connect(\"tv.db\")\n",
                "\n",
                "# database contents\n",
                "df_loaded = pd.read_sql('SELECT * FROM shows', con)\n",
                "\n",
                "# print\n",
                "print(df_loaded.head())\n",
                "\n",
                "# Close connection\n",
                "con.close()\n"
            ]
        },
        {
            "attachments": {},
            "cell_type": "markdown",
            "metadata": {
                "azdata_cell_guid": "4916f211-149f-467b-b5e4-22ad946b54f2"
            },
            "source": [
                "With your new table and database set up, print out the top 20 records in the `shows` table."
            ]
        },
        {
            "cell_type": "code",
            "execution_count": 16,
            "metadata": {
                "azdata_cell_guid": "c6aa3980-3eef-4d7d-8f04-961508662147",
                "tags": []
            },
            "outputs": [
                {
                    "name": "stdout",
                    "output_type": "stream",
                    "text": [
                        "    Unnamed: 0  ID                       Title  Year  Age    IMDb  \\\n",
                        "0            0   1                Breaking Bad  2008  18+  9.4/10   \n",
                        "1            1   2             Stranger Things  2016  16+  8.7/10   \n",
                        "2            2   3             Attack on Titan  2013  18+  9.0/10   \n",
                        "3            3   4            Better Call Saul  2015  18+  8.8/10   \n",
                        "4            4   5                        Dark  2017  16+  8.8/10   \n",
                        "5            5   6  Avatar: The Last Airbender  2005   7+  9.3/10   \n",
                        "6            6   7              Peaky Blinders  2013  18+  8.8/10   \n",
                        "7            7   8            The Walking Dead  2010  18+  8.2/10   \n",
                        "8            8   9                Black Mirror  2011  18+  8.8/10   \n",
                        "9            9  10          The Queen's Gambit  2020  18+  8.6/10   \n",
                        "10          10  11                  Mindhunter  2017  18+  8.6/10   \n",
                        "11          11  12                   Community  2009   7+  8.5/10   \n",
                        "12          12  13                      Narcos  2015  18+  8.8/10   \n",
                        "13          13  14                   Shameless  2011  18+  8.5/10   \n",
                        "14          14  15                 Money Heist  2017  18+  8.3/10   \n",
                        "15          15  16          Marvel's Daredevil  2015  18+  8.6/10   \n",
                        "16          16  17                     Lucifer  2016  16+  8.1/10   \n",
                        "17          17  18                Supernatural  2005  16+  8.4/10   \n",
                        "18          18  19                 The Witcher  2019  18+  8.2/10   \n",
                        "19          19  20                       Ozark  2017  18+  8.4/10   \n",
                        "\n",
                        "   Rotten Tomatoes  Netflix  Hulu  Prime Video  Disney+  Type  \n",
                        "0          100/100        1     0            0        0     1  \n",
                        "1           96/100        1     0            0        0     1  \n",
                        "2           95/100        1     1            0        0     1  \n",
                        "3           94/100        1     0            0        0     1  \n",
                        "4           93/100        1     0            0        0     1  \n",
                        "5           93/100        1     0            1        0     1  \n",
                        "6           93/100        1     0            0        0     1  \n",
                        "7           93/100        1     0            0        0     1  \n",
                        "8           92/100        1     0            0        0     1  \n",
                        "9           92/100        1     0            0        0     1  \n",
                        "10          90/100        1     0            0        0     1  \n",
                        "11          90/100        1     1            1        0     1  \n",
                        "12          90/100        1     0            0        0     1  \n",
                        "13          90/100        1     1            1        0     1  \n",
                        "14          90/100        1     0            0        0     1  \n",
                        "15          90/100        1     0            0        0     1  \n",
                        "16          90/100        1     0            0        0     1  \n",
                        "17          89/100        1     0            0        0     1  \n",
                        "18          89/100        1     0            0        0     1  \n",
                        "19          89/100        1     0            0        0     1  \n",
                        "(0, 1, 'Breaking Bad', 2008, '18+', '9.4/10', '100/100', 1, 0, 0, 0, 1)\n",
                        "(1, 2, 'Stranger Things', 2016, '16+', '8.7/10', '96/100', 1, 0, 0, 0, 1)\n",
                        "(2, 3, 'Attack on Titan', 2013, '18+', '9.0/10', '95/100', 1, 1, 0, 0, 1)\n",
                        "(3, 4, 'Better Call Saul', 2015, '18+', '8.8/10', '94/100', 1, 0, 0, 0, 1)\n",
                        "(4, 5, 'Dark', 2017, '16+', '8.8/10', '93/100', 1, 0, 0, 0, 1)\n",
                        "(5, 6, 'Avatar: The Last Airbender', 2005, '7+', '9.3/10', '93/100', 1, 0, 1, 0, 1)\n",
                        "(6, 7, 'Peaky Blinders', 2013, '18+', '8.8/10', '93/100', 1, 0, 0, 0, 1)\n",
                        "(7, 8, 'The Walking Dead', 2010, '18+', '8.2/10', '93/100', 1, 0, 0, 0, 1)\n",
                        "(8, 9, 'Black Mirror', 2011, '18+', '8.8/10', '92/100', 1, 0, 0, 0, 1)\n",
                        "(9, 10, \"The Queen's Gambit\", 2020, '18+', '8.6/10', '92/100', 1, 0, 0, 0, 1)\n",
                        "(10, 11, 'Mindhunter', 2017, '18+', '8.6/10', '90/100', 1, 0, 0, 0, 1)\n",
                        "(11, 12, 'Community', 2009, '7+', '8.5/10', '90/100', 1, 1, 1, 0, 1)\n",
                        "(12, 13, 'Narcos', 2015, '18+', '8.8/10', '90/100', 1, 0, 0, 0, 1)\n",
                        "(13, 14, 'Shameless', 2011, '18+', '8.5/10', '90/100', 1, 1, 1, 0, 1)\n",
                        "(14, 15, 'Money Heist', 2017, '18+', '8.3/10', '90/100', 1, 0, 0, 0, 1)\n",
                        "(15, 16, \"Marvel's Daredevil\", 2015, '18+', '8.6/10', '90/100', 1, 0, 0, 0, 1)\n",
                        "(16, 17, 'Lucifer', 2016, '16+', '8.1/10', '90/100', 1, 0, 0, 0, 1)\n",
                        "(17, 18, 'Supernatural', 2005, '16+', '8.4/10', '89/100', 1, 0, 0, 0, 1)\n",
                        "(18, 19, 'The Witcher', 2019, '18+', '8.2/10', '89/100', 1, 0, 0, 0, 1)\n",
                        "(19, 20, 'Ozark', 2017, '18+', '8.4/10', '89/100', 1, 0, 0, 0, 1)\n"
                    ]
                }
            ],
            "source": [
                "# Code Here\n",
                "import sqlite3 as sl\n",
                "import pandas as pd\n",
                "\n",
                "tv_shows = pd.read_csv(r\"C:\\Users\\charl\\Desktop\\LaunchCode-Data-Analysis\\Data-Analysis-Projects\\data-analysis-projects-class-19-and-20-main\\class-20\\studio\\tv_shows.csv\")\n",
                "\n",
                "# Print\n",
                "print(tv_shows.head(20))\n",
                "\n",
                "# SQLite database \n",
                "con = sl.connect(\"tv.db\")\n",
                "\n",
                "# SQL table \n",
                "tv_shows.to_sql('shows', con, if_exists='replace', index=False)\n",
                "\n",
                "# first 20 records\n",
                "with con:\n",
                "    data = con.execute(\"SELECT * FROM shows WHERE ID <= 20\")\n",
                "    for row in data:\n",
                "        print(row)\n",
                "\n",
                "# Close\n",
                "con.close()\n"
            ]
        },
        {
            "attachments": {},
            "cell_type": "markdown",
            "metadata": {
                "azdata_cell_guid": "f158ccd2-c87a-4d2c-a947-0eadd0484a3e"
            },
            "source": [
                "Now, create a new table called `watchlist` that has three fields:\n",
                "1. id -> data type of `INTEGER NOT NULL PRIMARY KEY AUTOINCREMENT`\n",
                "2. title -> data type of `TEXT`\n",
                "3. importance_rank -> data type of `INTEGER`\n",
                "\n",
                "For the `importance_rank` field, rank each of your watchlist shows based on how much you want to see them, `10` being the most important and `1` being the least important.\n",
                "\n",
                "Then, insert each of the items from your watchlist into the new `watchlist` table, using the `executemany` method from our exercises.\n",
                "\n",
                "Finally, select all the records from the `watchlist` table and print them out to the console."
            ]
        },
        {
            "cell_type": "code",
            "execution_count": 3,
            "metadata": {
                "azdata_cell_guid": "f95defad-521b-4112-8435-08daaac80b80"
            },
            "outputs": [
                {
                    "name": "stdout",
                    "output_type": "stream",
                    "text": [
                        "(1, 'Gladiator', 9)\n",
                        "(2, 'Gladiator II', 8)\n",
                        "(3, 'House of Dragon', 10)\n",
                        "(4, 'Hangover', 3)\n",
                        "(5, 'Game of Thrones', 7)\n",
                        "(6, 'Raising Kanan', 4)\n",
                        "(7, 'SnowFall', 5)\n",
                        "(8, 'The Rings of Power', 6)\n",
                        "(9, 'Squid Game', 2)\n",
                        "(10, 'The Last of Us', 1)\n",
                        "(11, 'Gladiator', 9)\n",
                        "(12, 'Gladiator II', 8)\n",
                        "(13, 'House of Dragon', 10)\n",
                        "(14, 'Hangover', 3)\n",
                        "(15, 'Game of Thrones', 7)\n",
                        "(16, 'Raising Kanan', 4)\n",
                        "(17, 'SnowFall', 5)\n",
                        "(18, 'The Rings of Power', 6)\n",
                        "(19, 'Squid Game', 2)\n",
                        "(20, 'The Last of Us', 1)\n",
                        "(21, 'Gladiator', 9)\n",
                        "(22, 'Gladiator II', 8)\n",
                        "(23, 'House of Dragon', 10)\n",
                        "(24, 'Hangover', 3)\n",
                        "(25, 'Game of Thrones', 7)\n",
                        "(26, 'Raising Kanan', 4)\n",
                        "(27, 'SnowFall', 5)\n",
                        "(28, 'The Rings of Power', 6)\n",
                        "(29, 'Squid Game', 2)\n",
                        "(30, 'The Last of Us', 1)\n"
                    ]
                }
            ],
            "source": [
                "# Code here\n",
                "\n",
                "import sqlite3 as sl\n",
                "\n",
                "# SQLite database\n",
                "con = sl.connect(\"tv.db\")\n",
                "\n",
                "# 'watchlist'\n",
                "with con:\n",
                "    con.execute(\"\"\"\n",
                "        CREATE TABLE IF NOT EXISTS watchlist (\n",
                "            id INTEGER NOT NULL PRIMARY KEY AUTOINCREMENT,\n",
                "            title TEXT,\n",
                "            importance_rank INTEGER\n",
                "        );\n",
                "    \"\"\")\n",
                "\n",
                "    # SQL 'watchlist'\n",
                "    sql = 'INSERT INTO watchlist (title, importance_rank) VALUES (?, ?)'\n",
                "    watchlist_data = [\n",
                "        ('Gladiator', 9),\n",
                "        ('Gladiator II', 8),\n",
                "        ('House of Dragon', 10),\n",
                "        ('Hangover', 3),\n",
                "        ('Game of Thrones', 7),\n",
                "        ('Raising Kanan', 4),\n",
                "        ('SnowFall', 5),\n",
                "        ('The Rings of Power', 6),\n",
                "        ('Squid Game', 2),\n",
                "        ('The Last of Us', 1)\n",
                "    ]\n",
                "\n",
                "    # 'watchlist' table\n",
                "    con.executemany(sql, watchlist_data)\n",
                "\n",
                "    # print 'watchlist'\n",
                "    data = con.execute(\"SELECT * FROM watchlist\")\n",
                "    for row in data:\n",
                "        print(row)\n",
                "\n",
                "con.close()\n"
            ]
        },
        {
            "attachments": {},
            "cell_type": "markdown",
            "metadata": {
                "azdata_cell_guid": "4716090d-63e3-4283-8245-934c4a28c750"
            },
            "source": [
                "## Working with the Data\n",
                "\n",
                "Using Pandas or SQL, find the answer to these 2 questions:\n",
                "1. How many of the total shows (full csv list) are on each streaming service?\n",
                "2. What percentage of these total shows is available on each streaming service?\n",
                "\n",
                "**Hint**:\n",
                "\n",
                "Use the pandas `query` method to filter the data, and then the Python `len` method to find it's length. [Relevant Link](https://www.geeksforgeeks.org/ways-to-filter-pandas-dataframe-by-column-values/)"
            ]
        },
        {
            "cell_type": "code",
            "execution_count": 12,
            "metadata": {
                "azdata_cell_guid": "8e4f3757-474f-4e20-b861-db973437b541"
            },
            "outputs": [
                {
                    "name": "stdout",
                    "output_type": "stream",
                    "text": [
                        "  Streaming Service  Total Shows on Service  Percentage of Total Shows\n",
                        "0           Netflix                    1971                  36.717586\n",
                        "1              Hulu                    1621                  30.197466\n",
                        "2       Prime Video                    1831                  34.109538\n",
                        "3           Disney+                     351                   6.538748\n"
                    ]
                }
            ],
            "source": [
                "# Code here\n",
                "import pandas as pd\n",
                "\n",
                "# Load the dataset\n",
                "file_path = r\"C:\\Users\\charl\\Desktop\\LaunchCode-Data-Analysis\\Data-Analysis-Projects\\data-analysis-projects-class-19-and-20-main\\class-20\\studio\\tv_shows.csv\"\n",
                "tv_shows = pd.read_csv(file_path)\n",
                "\n",
                "# Calculate the total number of shows\n",
                "total_shows_count = len(tv_shows)\n",
                "\n",
                "# Calculate the count of shows on each streaming service using the correct column names\n",
                "netflix_count = len(tv_shows.query('Netflix == 1'))\n",
                "hulu_count = len(tv_shows.query('Hulu == 1'))\n",
                "prime_count = len(tv_shows.query('`Prime Video` == 1'))  # Corrected column name\n",
                "disney_count = len(tv_shows.query('`Disney+` == 1'))    # Corrected column name\n",
                "\n",
                "# Calculate the percentage of total shows available on each streaming service\n",
                "pct_netflix = (netflix_count / total_shows_count) * 100\n",
                "pct_hulu = (hulu_count / total_shows_count) * 100\n",
                "pct_prime = (prime_count / total_shows_count) * 100\n",
                "pct_disney = (disney_count / total_shows_count) * 100\n",
                "\n",
                "# Create a DataFrame to store and display the results\n",
                "df_streamer_metrics = pd.DataFrame({\n",
                "    'Streaming Service': [\"Netflix\", \"Hulu\", \"Prime Video\", \"Disney+\"],\n",
                "    'Total Shows on Service': [netflix_count, hulu_count, prime_count, disney_count],\n",
                "    'Percentage of Total Shows': [pct_netflix, pct_hulu, pct_prime, pct_disney]\n",
                "})\n",
                "\n",
                "# Display the DataFrame\n",
                "print(df_streamer_metrics)\n",
                "\n"
            ]
        },
        {
            "attachments": {},
            "cell_type": "markdown",
            "metadata": {
                "azdata_cell_guid": "167cbd0d-ad9f-4f27-8066-e45dfdfaf421"
            },
            "source": [
                "\n",
                "Now join your `watchlist` data to the `shows` data using pandas or SQL. Verify that you joined the data correctly.\n",
                "\n",
                "Using this related dataset, come up with analytic code that answers these questions:\n",
                "1. The number of watchlist shows each streaming service has\n",
                "2. The percentage of your overall watchlist each streaming service has\n"
            ]
        },
        {
            "cell_type": "code",
            "execution_count": 15,
            "metadata": {
                "azdata_cell_guid": "b871523e-a476-4f3a-a6ac-2e251f140e84"
            },
            "outputs": [
                {
                    "name": "stdout",
                    "output_type": "stream",
                    "text": [
                        "Number of watchlist shows each streaming service has:\n",
                        "Netflix        0\n",
                        "Hulu           0\n",
                        "Prime Video    0\n",
                        "Disney+        0\n",
                        "dtype: int64\n",
                        "Percentage of your overall watchlist each streaming service has:\n",
                        "Netflix       NaN\n",
                        "Hulu          NaN\n",
                        "Prime Video   NaN\n",
                        "Disney+       NaN\n",
                        "dtype: float64\n"
                    ]
                }
            ],
            "source": [
                "# Code here\n",
                "\n",
                "import pandas as pd\n",
                "import sqlite3 as sl\n",
                "\n",
                "# Setup\n",
                "tv_shows_path = r\"C:\\Users\\charl\\Desktop\\LaunchCode-Data-Analysis\\Data-Analysis-Projects\\data-analysis-projects-class-19-and-20-main\\class-20\\studio\\tv_shows.csv\"\n",
                "tv_shows = pd.read_csv(tv_shows_path)\n",
                "conn = sl.connect('tv.db')\n",
                "watchlist = pd.read_sql('SELECT * FROM watchlist', conn)\n",
                "conn.close()\n",
                "\n",
                "# Joining Data\n",
                "joined_data = pd.merge(tv_shows, watchlist, left_on='Title', right_on='title', how='inner')\n",
                "\n",
                "# Analytics\n",
                "# Count by streaming service\n",
                "streaming_counts = joined_data[['Netflix', 'Hulu', 'Prime Video', 'Disney+']].sum()\n",
                "print(\"Number of watchlist shows each streaming service has:\")\n",
                "print(streaming_counts)\n",
                "\n",
                "# Percentage calculation\n",
                "total_watchlist_shows = len(joined_data)\n",
                "streaming_percentages = (streaming_counts / total_watchlist_shows) * 100\n",
                "print(\"Percentage of your overall watchlist each streaming service has:\")\n",
                "print(streaming_percentages)\n",
                "\n",
                "\n"
            ]
        },
        {
            "cell_type": "markdown",
            "metadata": {
                "azdata_cell_guid": "909689e4-1aae-41e3-b1f8-158ebe5ec3ca"
            },
            "source": [
                "## Results\n",
                "\n",
                "Now that you have done your analysis, make note of the answers to the following questions by editing the text cell:\n",
                "\n",
                "1. Was every show on your watchlist in the Kaggle dataset? Do you have any ideas as to why a show might not have been present?\n",
                "\n",
                "- No, all of the shows on my watchlist was not in the dataset.\n",
                "- New Releases: Shows like \"The Last of Us\" or \"House of Dragon\" might be too new, depending on the dataset’s last update.\n",
                "- Spelling Variations may prevent the coding from finding the shows.\n",
                "- Regional Shows like Squid Games may not have gotten international popularity when this dataset was generated\n",
                "\n",
                "2. Did you include a show or shows in your watchlist that is exclusive to one of the platforms? How might that have impacted your analysis?\n",
                "\n",
                "- Yes, House of Dragons shows on Max. I may created skewed data, limited cross platform comparison, and I may have influence perceived value. \n",
                "\n",
                "3. Which streaming service(s) offered the most shows on your watchlist? Which streaming service(s) offered the least?\n",
                "\n",
                "- Most shows offered by: Netflix with 5 shows\n",
                "- Least shows offered by: Disney+ with 1 show\n",
                "\n",
                "\n",
                "4. Based on the shows you want to watch and the results of your analysis, is there a streaming service you think would be a good fit for you?\n",
                "\n",
                "- Yes, Netflix and HBO Max would best fit my needs. "
            ]
        },
        {
            "cell_type": "code",
            "execution_count": null,
            "metadata": {},
            "outputs": [],
            "source": []
        },
        {
            "cell_type": "markdown",
            "metadata": {},
            "source": [
                "# Bonus Mission\n",
                "\n",
                "We didn't end up using that `importance_rank` field, did we?\n",
                "\n",
                "Well, that was intentional! \n",
                "\n",
                "Your bonus mission is to come up with analysis that uses that field to determine, based on watchlist show importance_rank and number of watchlist shows available on a service, which platform you should subscribe to."
            ]
        },
        {
            "cell_type": "code",
            "execution_count": null,
            "metadata": {},
            "outputs": [],
            "source": [
                "# Code Here"
            ]
        }
    ],
    "metadata": {
        "kernelspec": {
            "display_name": "Python 3",
            "language": "python",
            "name": "python3"
        },
        "language_info": {
            "codemirror_mode": {
                "name": "ipython",
                "version": 3
            },
            "file_extension": ".py",
            "mimetype": "text/x-python",
            "name": "python",
            "nbconvert_exporter": "python",
            "pygments_lexer": "ipython3",
            "version": "3.12.5"
        }
    },
    "nbformat": 4,
    "nbformat_minor": 2
}
