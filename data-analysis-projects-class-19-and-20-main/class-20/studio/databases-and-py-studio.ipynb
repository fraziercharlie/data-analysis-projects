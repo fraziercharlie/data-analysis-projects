{
    "cells": [
        {
            "attachments": {},
            "cell_type": "markdown",
            "metadata": {
                "azdata_cell_guid": "54326aff-51cd-4766-8046-828a92489c6d"
            },
            "source": [
                "# Studio: Working with Databases in Python\n",
                "\n",
                "For today's studio, we will be using the [TV Shows dataset](https://www.kaggle.com/ruchi798/tv-shows-on-netflix-prime-video-hulu-and-disney) from Kaggle. We have already downloaded the CSV for you.\n",
                "\n",
                "You will use the watchlist you created to answer these questions:\n",
                "\n",
                "1. **Which streaming services contain the shows you want to watch next?**\n",
                "2. **Which streaming service is the best value based on the shows you want to watch?**\n",
                "\n",
                "As you complete the different tasks in the studio, you may choose between using Pandas or SQL. \n",
                "\n",
                "**Remember**: we learned in our prep work that one is oftentimes more efficient at certain tasks than the other, so choose wisely!"
            ]
        },
        {
            "attachments": {},
            "cell_type": "markdown",
            "metadata": {
                "azdata_cell_guid": "00bc62ef-6c46-40a2-bdad-a3250a003ce7"
            },
            "source": [
                "## My Watchlist\n",
                "\n",
                "If you would like, please use this space to make note of your watchlist by editing the text cell. You will need 10 shows overall.\n",
                "\n",
                "1. \n",
                "2. \n",
                "3. \n",
                "4. \n",
                "5. \n",
                "6. \n",
                "7. \n",
                "8. \n",
                "9. \n",
                "10. "
            ]
        },
        {
            "cell_type": "markdown",
            "metadata": {
                "azdata_cell_guid": "040bdac5-f7fc-474f-b112-1d807249ad0a"
            },
            "source": [
                "## Database Setup\n",
                "\n",
                "Import the necessary libraries and create a dataframe from the provided CSV. \n",
                "\n",
                "Print the info out for the dataframe. \n",
                "\n",
                "After that, you may drop the column called `Unnamed: 0` and rename any columns with spaces or unusual characters in the names such as `\"Disney+\"`. \n",
                "\n",
                "Print out the info for the dataframe again to ensure your changes were made."
            ]
        },
        {
            "cell_type": "code",
            "execution_count": null,
            "metadata": {
                "azdata_cell_guid": "965f15d3-27b1-43ed-97e4-8c6fd482476c",
                "tags": []
            },
            "outputs": [],
            "source": [
                "# Code here"
            ]
        },
        {
            "attachments": {},
            "cell_type": "markdown",
            "metadata": {
                "azdata_cell_guid": "93875e01-f1ec-45ab-b8b3-c0fe09c89c41"
            },
            "source": [
                "With your dataframe at the ready, create a new database called `tv.db`. \n",
                "\n",
                "Add a new table to your database called `shows` using the data in the dataframe. "
            ]
        },
        {
            "cell_type": "code",
            "execution_count": null,
            "metadata": {
                "azdata_cell_guid": "cae4affc-d930-4649-9c39-551475a83b5b",
                "tags": []
            },
            "outputs": [],
            "source": [
                "# Code here"
            ]
        },
        {
            "attachments": {},
            "cell_type": "markdown",
            "metadata": {
                "azdata_cell_guid": "4916f211-149f-467b-b5e4-22ad946b54f2"
            },
            "source": [
                "With your new table and database set up, print out the top 20 records in the `shows` table."
            ]
        },
        {
            "cell_type": "code",
            "execution_count": null,
            "metadata": {
                "azdata_cell_guid": "c6aa3980-3eef-4d7d-8f04-961508662147",
                "tags": []
            },
            "outputs": [],
            "source": [
                "# Code Here"
            ]
        },
        {
            "attachments": {},
            "cell_type": "markdown",
            "metadata": {
                "azdata_cell_guid": "f158ccd2-c87a-4d2c-a947-0eadd0484a3e"
            },
            "source": [
                "Now, create a new table called `watchlist` that has three fields:\n",
                "1. id -> data type of `INTEGER NOT NULL PRIMARY KEY AUTOINCREMENT`\n",
                "2. title -> data type of `TEXT`\n",
                "3. importance_rank -> data type of `INTEGER`\n",
                "\n",
                "For the `importance_rank` field, rank each of your watchlist shows based on how much you want to see them, `10` being the most important and `1` being the least important.\n",
                "\n",
                "Then, insert each of the items from your watchlist into the new `watchlist` table, using the `executemany` method from our exercises.\n",
                "\n",
                "Finally, select all the records from the `watchlist` table and print them out to the console."
            ]
        },
        {
            "cell_type": "code",
            "execution_count": null,
            "metadata": {
                "azdata_cell_guid": "f95defad-521b-4112-8435-08daaac80b80"
            },
            "outputs": [],
            "source": [
                "# Code here"
            ]
        },
        {
            "attachments": {},
            "cell_type": "markdown",
            "metadata": {
                "azdata_cell_guid": "4716090d-63e3-4283-8245-934c4a28c750"
            },
            "source": [
                "## Working with the Data\n",
                "\n",
                "Using Pandas or SQL, find the answer to these 2 questions:\n",
                "1. How many of the total shows (full csv list) are on each streaming service?\n",
                "2. What percentage of these total shows is available on each streaming service?\n",
                "\n",
                "**Hint**:\n",
                "\n",
                "Use the pandas `query` method to filter the data, and then the Python `len` method to find it's length. [Relevant Link](https://www.geeksforgeeks.org/ways-to-filter-pandas-dataframe-by-column-values/)"
            ]
        },
        {
            "cell_type": "code",
            "execution_count": null,
            "metadata": {
                "azdata_cell_guid": "8e4f3757-474f-4e20-b861-db973437b541"
            },
            "outputs": [],
            "source": [
                "# Code here"
            ]
        },
        {
            "attachments": {},
            "cell_type": "markdown",
            "metadata": {
                "azdata_cell_guid": "167cbd0d-ad9f-4f27-8066-e45dfdfaf421"
            },
            "source": [
                "\n",
                "Now join your `watchlist` data to the `shows` data using pandas or SQL. Verify that you joined the data correctly.\n",
                "\n",
                "Using this related dataset, come up with analytic code that answers these questions:\n",
                "1. The number of watchlist shows each streaming service has\n",
                "2. The percentage of your overall watchlist each streaming service has\n"
            ]
        },
        {
            "cell_type": "code",
            "execution_count": null,
            "metadata": {
                "azdata_cell_guid": "b871523e-a476-4f3a-a6ac-2e251f140e84"
            },
            "outputs": [],
            "source": [
                "# Code here"
            ]
        },
        {
            "cell_type": "markdown",
            "metadata": {
                "azdata_cell_guid": "909689e4-1aae-41e3-b1f8-158ebe5ec3ca"
            },
            "source": [
                "## Results\n",
                "\n",
                "Now that you have done your analysis, make note of the answers to the following questions by editing the text cell:\n",
                "\n",
                "1. Was every show on your watchlist in the Kaggle dataset? Do you have any ideas as to why a show might not have been present?\n",
                "\n",
                "- *your_answer*\n",
                "\n",
                "2. Did you include a show or shows in your watchlist that is exclusive to one of the platforms? How might that have impacted your analysis?\n",
                "\n",
                "- *your_answer*\n",
                "\n",
                "3. Which streaming service(s) offered the most shows on your watchlist? Which streaming service(s) offered the least?\n",
                "\n",
                "- *your_answer*\n",
                "\n",
                "4. Based on the shows you want to watch and the results of your analysis, is there a streaming service you think would be a good fit for you?\n",
                "\n",
                "- *your_answer*"
            ]
        },
        {
            "cell_type": "markdown",
            "metadata": {},
            "source": [
                "# Bonus Mission\n",
                "\n",
                "We didn't end up using that `importance_rank` field, did we?\n",
                "\n",
                "Well, that was intentional! \n",
                "\n",
                "Your bonus mission is to come up with analysis that uses that field to determine, based on watchlist show importance_rank and number of watchlist shows available on a service, which platform you should subscribe to."
            ]
        },
        {
            "cell_type": "code",
            "execution_count": null,
            "metadata": {},
            "outputs": [],
            "source": [
                "# Code Here"
            ]
        }
    ],
    "metadata": {
        "kernelspec": {
            "display_name": "Python 3",
            "language": "python",
            "name": "python3"
        },
        "language_info": {
            "codemirror_mode": {
                "name": "ipython",
                "version": 3
            },
            "file_extension": ".py",
            "mimetype": "text/x-python",
            "name": "python",
            "nbconvert_exporter": "python",
            "pygments_lexer": "ipython3",
            "version": "3.9.6"
        }
    },
    "nbformat": 4,
    "nbformat_minor": 2
}
