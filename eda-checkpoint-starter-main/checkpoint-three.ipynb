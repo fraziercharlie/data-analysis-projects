{
    "cells": [
        {
            "attachments": {},
            "cell_type": "markdown",
            "metadata": {
                "azdata_cell_guid": "26037d32-2047-4157-81ef-595916bd66a0"
            },
            "source": [
                "# Checkpoint Three: Cleaning Data\n",
                "\n",
                "Now you are ready to clean your data. Before starting coding, provide the link to your dataset below.\n",
                "\n",
                "My dataset:\n",
                "\n",
                "Import the necessary libraries and create your dataframe(s)."
            ]
        },
        {
            "cell_type": "code",
            "execution_count": 1,
            "metadata": {
                "azdata_cell_guid": "e8adef8e-d0f2-4640-a179-5997f11e82ca"
            },
            "outputs": [
                {
                    "data": {
                        "text/html": [
                            "<div>\n",
                            "<style scoped>\n",
                            "    .dataframe tbody tr th:only-of-type {\n",
                            "        vertical-align: middle;\n",
                            "    }\n",
                            "\n",
                            "    .dataframe tbody tr th {\n",
                            "        vertical-align: top;\n",
                            "    }\n",
                            "\n",
                            "    .dataframe thead th {\n",
                            "        text-align: right;\n",
                            "    }\n",
                            "</style>\n",
                            "<table border=\"1\" class=\"dataframe\">\n",
                            "  <thead>\n",
                            "    <tr style=\"text-align: right;\">\n",
                            "      <th></th>\n",
                            "      <th>satisfaction_level</th>\n",
                            "      <th>last_evaluation</th>\n",
                            "      <th>number_project</th>\n",
                            "      <th>average_montly_hours</th>\n",
                            "      <th>time_spend_company</th>\n",
                            "      <th>work_accident</th>\n",
                            "      <th>left</th>\n",
                            "      <th>promotion_last_5years</th>\n",
                            "      <th>is_smoker</th>\n",
                            "      <th>department</th>\n",
                            "      <th>salary</th>\n",
                            "    </tr>\n",
                            "  </thead>\n",
                            "  <tbody>\n",
                            "    <tr>\n",
                            "      <th>0</th>\n",
                            "      <td>0.38</td>\n",
                            "      <td>0.53</td>\n",
                            "      <td>2</td>\n",
                            "      <td>157.0</td>\n",
                            "      <td>3.0</td>\n",
                            "      <td>0</td>\n",
                            "      <td>yes</td>\n",
                            "      <td>0</td>\n",
                            "      <td>NaN</td>\n",
                            "      <td>sales</td>\n",
                            "      <td>low</td>\n",
                            "    </tr>\n",
                            "    <tr>\n",
                            "      <th>1</th>\n",
                            "      <td>0.80</td>\n",
                            "      <td>0.86</td>\n",
                            "      <td>5</td>\n",
                            "      <td>262.0</td>\n",
                            "      <td>6.0</td>\n",
                            "      <td>0</td>\n",
                            "      <td>yes</td>\n",
                            "      <td>0</td>\n",
                            "      <td>yes</td>\n",
                            "      <td>sales</td>\n",
                            "      <td>medium</td>\n",
                            "    </tr>\n",
                            "    <tr>\n",
                            "      <th>2</th>\n",
                            "      <td>0.11</td>\n",
                            "      <td>0.88</td>\n",
                            "      <td>7</td>\n",
                            "      <td>272.0</td>\n",
                            "      <td>4.0</td>\n",
                            "      <td>0</td>\n",
                            "      <td>yes</td>\n",
                            "      <td>0</td>\n",
                            "      <td>NaN</td>\n",
                            "      <td>sales</td>\n",
                            "      <td>medium</td>\n",
                            "    </tr>\n",
                            "    <tr>\n",
                            "      <th>3</th>\n",
                            "      <td>0.72</td>\n",
                            "      <td>0.87</td>\n",
                            "      <td>5</td>\n",
                            "      <td>223.0</td>\n",
                            "      <td>5.0</td>\n",
                            "      <td>0</td>\n",
                            "      <td>yes</td>\n",
                            "      <td>0</td>\n",
                            "      <td>NaN</td>\n",
                            "      <td>sales</td>\n",
                            "      <td>low</td>\n",
                            "    </tr>\n",
                            "    <tr>\n",
                            "      <th>4</th>\n",
                            "      <td>0.37</td>\n",
                            "      <td>0.52</td>\n",
                            "      <td>2</td>\n",
                            "      <td>NaN</td>\n",
                            "      <td>NaN</td>\n",
                            "      <td>0</td>\n",
                            "      <td>yes</td>\n",
                            "      <td>0</td>\n",
                            "      <td>no</td>\n",
                            "      <td>sales</td>\n",
                            "      <td>low</td>\n",
                            "    </tr>\n",
                            "    <tr>\n",
                            "      <th>...</th>\n",
                            "      <td>...</td>\n",
                            "      <td>...</td>\n",
                            "      <td>...</td>\n",
                            "      <td>...</td>\n",
                            "      <td>...</td>\n",
                            "      <td>...</td>\n",
                            "      <td>...</td>\n",
                            "      <td>...</td>\n",
                            "      <td>...</td>\n",
                            "      <td>...</td>\n",
                            "      <td>...</td>\n",
                            "    </tr>\n",
                            "    <tr>\n",
                            "      <th>14994</th>\n",
                            "      <td>0.40</td>\n",
                            "      <td>0.57</td>\n",
                            "      <td>2</td>\n",
                            "      <td>151.0</td>\n",
                            "      <td>3.0</td>\n",
                            "      <td>0</td>\n",
                            "      <td>yes</td>\n",
                            "      <td>0</td>\n",
                            "      <td>NaN</td>\n",
                            "      <td>support</td>\n",
                            "      <td>low</td>\n",
                            "    </tr>\n",
                            "    <tr>\n",
                            "      <th>14995</th>\n",
                            "      <td>0.37</td>\n",
                            "      <td>0.48</td>\n",
                            "      <td>2</td>\n",
                            "      <td>160.0</td>\n",
                            "      <td>3.0</td>\n",
                            "      <td>0</td>\n",
                            "      <td>yes</td>\n",
                            "      <td>0</td>\n",
                            "      <td>NaN</td>\n",
                            "      <td>support</td>\n",
                            "      <td>low</td>\n",
                            "    </tr>\n",
                            "    <tr>\n",
                            "      <th>14996</th>\n",
                            "      <td>0.37</td>\n",
                            "      <td>0.53</td>\n",
                            "      <td>2</td>\n",
                            "      <td>143.0</td>\n",
                            "      <td>3.0</td>\n",
                            "      <td>0</td>\n",
                            "      <td>yes</td>\n",
                            "      <td>0</td>\n",
                            "      <td>NaN</td>\n",
                            "      <td>support</td>\n",
                            "      <td>low</td>\n",
                            "    </tr>\n",
                            "    <tr>\n",
                            "      <th>14997</th>\n",
                            "      <td>0.11</td>\n",
                            "      <td>0.96</td>\n",
                            "      <td>6</td>\n",
                            "      <td>280.0</td>\n",
                            "      <td>4.0</td>\n",
                            "      <td>0</td>\n",
                            "      <td>yes</td>\n",
                            "      <td>0</td>\n",
                            "      <td>NaN</td>\n",
                            "      <td>support</td>\n",
                            "      <td>low</td>\n",
                            "    </tr>\n",
                            "    <tr>\n",
                            "      <th>14998</th>\n",
                            "      <td>0.37</td>\n",
                            "      <td>0.52</td>\n",
                            "      <td>2</td>\n",
                            "      <td>158.0</td>\n",
                            "      <td>3.0</td>\n",
                            "      <td>0</td>\n",
                            "      <td>yes</td>\n",
                            "      <td>0</td>\n",
                            "      <td>NaN</td>\n",
                            "      <td>support</td>\n",
                            "      <td>low</td>\n",
                            "    </tr>\n",
                            "  </tbody>\n",
                            "</table>\n",
                            "<p>14999 rows × 11 columns</p>\n",
                            "</div>"
                        ],
                        "text/plain": [
                            "       satisfaction_level  last_evaluation  number_project  \\\n",
                            "0                    0.38             0.53               2   \n",
                            "1                    0.80             0.86               5   \n",
                            "2                    0.11             0.88               7   \n",
                            "3                    0.72             0.87               5   \n",
                            "4                    0.37             0.52               2   \n",
                            "...                   ...              ...             ...   \n",
                            "14994                0.40             0.57               2   \n",
                            "14995                0.37             0.48               2   \n",
                            "14996                0.37             0.53               2   \n",
                            "14997                0.11             0.96               6   \n",
                            "14998                0.37             0.52               2   \n",
                            "\n",
                            "       average_montly_hours  time_spend_company  work_accident left  \\\n",
                            "0                     157.0                 3.0              0  yes   \n",
                            "1                     262.0                 6.0              0  yes   \n",
                            "2                     272.0                 4.0              0  yes   \n",
                            "3                     223.0                 5.0              0  yes   \n",
                            "4                       NaN                 NaN              0  yes   \n",
                            "...                     ...                 ...            ...  ...   \n",
                            "14994                 151.0                 3.0              0  yes   \n",
                            "14995                 160.0                 3.0              0  yes   \n",
                            "14996                 143.0                 3.0              0  yes   \n",
                            "14997                 280.0                 4.0              0  yes   \n",
                            "14998                 158.0                 3.0              0  yes   \n",
                            "\n",
                            "       promotion_last_5years is_smoker department  salary  \n",
                            "0                          0       NaN      sales     low  \n",
                            "1                          0       yes      sales  medium  \n",
                            "2                          0       NaN      sales  medium  \n",
                            "3                          0       NaN      sales     low  \n",
                            "4                          0        no      sales     low  \n",
                            "...                      ...       ...        ...     ...  \n",
                            "14994                      0       NaN    support     low  \n",
                            "14995                      0       NaN    support     low  \n",
                            "14996                      0       NaN    support     low  \n",
                            "14997                      0       NaN    support     low  \n",
                            "14998                      0       NaN    support     low  \n",
                            "\n",
                            "[14999 rows x 11 columns]"
                        ]
                    },
                    "execution_count": 1,
                    "metadata": {},
                    "output_type": "execute_result"
                }
            ],
            "source": [
                "# Import the necessary libraries and CSVs. Make some dataframes!\n",
                "import pandas as pd\n",
                "import numpy as np\n",
                "import matplotlib as plt\n",
                "\n",
                "HR_Data = pd.read_csv(r\"C:\\Users\\charl\\Desktop\\LaunchCode-Data-Analysis\\Data-Analysis-Projects\\eda-checkpoint-starter-main\\Human_Resources_Data.csv\")\n",
                "\n",
                "HR_Data"
            ]
        },
        {
            "cell_type": "markdown",
            "metadata": {
                "azdata_cell_guid": "e172475a-c4ee-414a-8367-9965355dbba6"
            },
            "source": [
                "## Missing Data\n",
                "\n",
                "Test your dataset for missing data and handle it as needed. Make notes in the form of code comments as to your thought process."
            ]
        },
        {
            "cell_type": "code",
            "execution_count": 6,
            "metadata": {
                "azdata_cell_guid": "e1dc66ef-e471-4c27-92e7-ee878c106eba"
            },
            "outputs": [
                {
                    "name": "stdout",
                    "output_type": "stream",
                    "text": [
                        "   satisfaction_level  last_evaluation  number_project  average_montly_hours  \\\n",
                        "0                0.38             0.53               2                 157.0   \n",
                        "1                0.80             0.86               5                 262.0   \n",
                        "2                0.11             0.88               7                 272.0   \n",
                        "3                0.72             0.87               5                 223.0   \n",
                        "4                0.37             0.52               2                   NaN   \n",
                        "\n",
                        "   time_spend_company  work_accident left  promotion_last_5years is_smoker  \\\n",
                        "0                 3.0              0  yes                      0       NaN   \n",
                        "1                 6.0              0  yes                      0       yes   \n",
                        "2                 4.0              0  yes                      0       NaN   \n",
                        "3                 5.0              0  yes                      0       NaN   \n",
                        "4                 NaN              0  yes                      0        no   \n",
                        "\n",
                        "  department  salary  \n",
                        "0      sales     low  \n",
                        "1      sales  medium  \n",
                        "2      sales  medium  \n",
                        "3      sales     low  \n",
                        "4      sales     low  \n",
                        "satisfaction_level           0\n",
                        "last_evaluation              0\n",
                        "number_project               0\n",
                        "average_montly_hours       368\n",
                        "time_spend_company         151\n",
                        "work_accident                0\n",
                        "left                         0\n",
                        "promotion_last_5years        0\n",
                        "is_smoker                14764\n",
                        "department                   0\n",
                        "salary                       0\n",
                        "dtype: int64\n"
                    ]
                }
            ],
            "source": [
                "import pandas as pd\n",
                "import numpy as np\n",
                "import matplotlib as plt\n",
                "\n",
                "HR_Data = pd.read_csv(r\"C:\\Users\\charl\\Desktop\\LaunchCode-Data-Analysis\\Data-Analysis-Projects\\eda-checkpoint-starter-main\\Human_Resources_Data.csv\")\n",
                "\n",
                "# 1st few rows to view the data's structure\n",
                "print(HR_Data.head())\n",
                "\n",
                "# Missing data\n",
                "missing_data = HR_Data.isnull().sum()\n",
                "print(missing_data)\n",
                "\n"
            ]
        },
        {
            "cell_type": "markdown",
            "metadata": {
                "azdata_cell_guid": "1233f543-e9a0-4f78-96f5-d7536554102e"
            },
            "source": [
                "## Irregular Data\n",
                "\n",
                "Detect outliers in your dataset and handle them as needed. Use code comments to make notes about your thought process."
            ]
        },
        {
            "cell_type": "code",
            "execution_count": 19,
            "metadata": {
                "azdata_cell_guid": "efed50ae-16f0-471d-98e2-632553a74c12"
            },
            "outputs": [
                {
                    "name": "stdout",
                    "output_type": "stream",
                    "text": [
                        "       satisfaction_level  last_evaluation  number_project  \\\n",
                        "count        14999.000000     14999.000000    14999.000000   \n",
                        "mean             0.612834         0.716102        3.803054   \n",
                        "std              0.248631         0.171169        1.232592   \n",
                        "min              0.090000         0.360000        2.000000   \n",
                        "25%              0.440000         0.560000        3.000000   \n",
                        "50%              0.640000         0.720000        4.000000   \n",
                        "75%              0.820000         0.870000        5.000000   \n",
                        "max              1.000000         1.000000        7.000000   \n",
                        "\n",
                        "       average_montly_hours  time_spend_company  work_accident  \\\n",
                        "count          14631.000000        14848.000000   14999.000000   \n",
                        "mean             200.958376            3.360688       0.144610   \n",
                        "std               50.002307            1.086111       0.351719   \n",
                        "min               96.000000            2.000000       0.000000   \n",
                        "25%              156.000000            3.000000       0.000000   \n",
                        "50%              200.000000            3.000000       0.000000   \n",
                        "75%              245.000000            4.000000       0.000000   \n",
                        "max              310.000000            5.500000       1.000000   \n",
                        "\n",
                        "       promotion_last_5years  \n",
                        "count           14999.000000  \n",
                        "mean                0.021268  \n",
                        "std                 0.144281  \n",
                        "min                 0.000000  \n",
                        "25%                 0.000000  \n",
                        "50%                 0.000000  \n",
                        "75%                 0.000000  \n",
                        "max                 1.000000  \n"
                    ]
                }
            ],
            "source": [
                "import matplotlib.pyplot as plt\n",
                "import seaborn as sns\n",
                "import pandas as pd\n",
                "import numpy as np\n",
                "\n",
                "HR_Data = pd.read_csv(r\"C:\\Users\\charl\\Desktop\\LaunchCode-Data-Analysis\\Data-Analysis-Projects\\eda-checkpoint-starter-main\\Human_Resources_Data.csv\")\n",
                "\n",
                "# IQR for average_montly_hours\n",
                "Q1_hours = HR_Data['average_montly_hours'].quantile(0.25)\n",
                "Q3_hours = HR_Data['average_montly_hours'].quantile(0.75)\n",
                "IQR_hours = Q3_hours - Q1_hours\n",
                "lower_bound_hours = Q1_hours - 1.5 * IQR_hours\n",
                "upper_bound_hours = Q3_hours + 1.5 * IQR_hours\n",
                "\n",
                "# outliers for average_montly_hours\n",
                "HR_Data['average_montly_hours'] = np.where(HR_Data['average_montly_hours'] < lower_bound_hours, lower_bound_hours, HR_Data['average_montly_hours'])\n",
                "HR_Data['average_montly_hours'] = np.where(HR_Data['average_montly_hours'] > upper_bound_hours, upper_bound_hours, HR_Data['average_montly_hours'])\n",
                "\n",
                "# IQR for time_spend_company\n",
                "Q1_time = HR_Data['time_spend_company'].quantile(0.25)\n",
                "Q3_time = HR_Data['time_spend_company'].quantile(0.75)\n",
                "IQR_time = Q3_time - Q1_time\n",
                "lower_bound_time = Q1_time - 1.5 * IQR_time\n",
                "upper_bound_time = Q3_time + 1.5 * IQR_time\n",
                "\n",
                "# outliers for time_spend_company\n",
                "HR_Data['time_spend_company'] = np.where(HR_Data['time_spend_company'] < lower_bound_time, lower_bound_time, HR_Data['time_spend_company'])\n",
                "HR_Data['time_spend_company'] = np.where(HR_Data['time_spend_company'] > upper_bound_time, upper_bound_time, HR_Data['time_spend_company'])\n",
                "\n",
                "# cleaned dataset\n",
                "HR_Data.to_csv('Cleaned_HR_Data.csv', index=False)\n",
                "\n",
                "# Print\n",
                "print(HR_Data.describe())\n",
                "\n"
            ]
        },
        {
            "cell_type": "markdown",
            "metadata": {
                "azdata_cell_guid": "6f5b8ee0-bab3-44bc-958a-67d1e4c0407f"
            },
            "source": [
                "## Unnecessary Data\n",
                "\n",
                "Look for the different types of unnecessary data in your dataset and address it as needed. Make sure to use code comments to illustrate your thought process."
            ]
        },
        {
            "cell_type": "code",
            "execution_count": 29,
            "metadata": {
                "azdata_cell_guid": "e788a239-2fbf-41de-9bd3-19e52e3b187c"
            },
            "outputs": [
                {
                    "name": "stdout",
                    "output_type": "stream",
                    "text": [
                        "Dropped promotion_last_5years due to low variance.\n"
                    ]
                }
            ],
            "source": [
                "import matplotlib.pyplot as plt\n",
                "import seaborn as sns\n",
                "import pandas as pd\n",
                "import numpy as np\n",
                "\n",
                "HR_Data = pd.read_csv(r\"C:\\Users\\charl\\Desktop\\LaunchCode-Data-Analysis\\Data-Analysis-Projects\\eda-checkpoint-starter-main\\Human_Resources_Data.csv\")\n",
                "\n",
                "# Identify and drop duplicates\n",
                "HR_Data = HR_Data.drop_duplicates()\n",
                "\n",
                "# Drop irrelevant\n",
                "if 'is_smoker' in HR_Data.columns:\n",
                "    HR_Data = HR_Data.drop(columns=['is_smoker'])\n",
                "\n",
                "# low variance\n",
                "for col in HR_Data.columns:\n",
                "    if HR_Data[col].nunique() < 2 or HR_Data[col].value_counts(normalize=True).iloc[0] > 0.95:\n",
                "        HR_Data = HR_Data.drop(columns=[col])\n",
                "        print(f\"Dropped {col} due to low variance.\")\n",
                "\n",
                "# date column, remove data before 2020\n",
                "if 'date' in HR_Data.columns:\n",
                "    HR_Data['date'] = pd.to_datetime(HR_Data['date'])\n",
                "    HR_Data = HR_Data[HR_Data['date'].dt.year >= 2020]\n",
                "\n",
                "\n",
                "# Bar Chart\n",
                "# sns.histplot(HR_Data['average_montly_hours'])\n",
                "# plt.show()\n",
                "\n"
            ]
        },
        {
            "cell_type": "markdown",
            "metadata": {
                "azdata_cell_guid": "53e0cf94-c68a-4fa0-9849-9505a66bcce6"
            },
            "source": [
                "## Inconsistent Data\n",
                "\n",
                "Check for inconsistent data and address any that arises. As always, use code comments to illustrate your thought process."
            ]
        },
        {
            "cell_type": "code",
            "execution_count": 35,
            "metadata": {
                "azdata_cell_guid": "e9de6624-812a-43f8-8e20-93b4a49b091f"
            },
            "outputs": [
                {
                    "name": "stdout",
                    "output_type": "stream",
                    "text": [
                        "['sales' 'accounting' 'hr' 'technical' 'support' 'management' 'it'\n",
                        " 'product_mng' 'marketing' 'randd']\n",
                        "['low' 'medium' 'high']\n"
                    ]
                },
                {
                    "data": {
                        "image/png": "[encoded data removed]",
                        "text/plain": [
                            "<Figure size 640x480 with 1 Axes>"
                        ]
                    },
                    "metadata": {},
                    "output_type": "display_data"
                },
                {
                    "data": {
                        "image/png": "[encoded data removed]",
                        "text/plain": [
                            "<Figure size 640x480 with 1 Axes>"
                        ]
                    },
                    "metadata": {},
                    "output_type": "display_data"
                }
            ],
            "source": [
                "import matplotlib.pyplot as plt\n",
                "import seaborn as sns\n",
                "import pandas as pd\n",
                "import numpy as np\n",
                "\n",
                "HR_Data = pd.read_csv(r\"C:\\Users\\charl\\Desktop\\LaunchCode-Data-Analysis\\Data-Analysis-Projects\\eda-checkpoint-starter-main\\Human_Resources_Data.csv\")\n",
                "\n",
                "# Standardizing department\n",
                "HR_Data['department'] = HR_Data['department'].str.lower().str.strip()\n",
                "\n",
                "# check for inconsistencies\n",
                "print(HR_Data['department'].unique())\n",
                "print(HR_Data['salary'].unique())\n",
                "\n",
                "# salary categorical data\n",
                "HR_Data['salary'] = pd.Categorical(HR_Data['salary'])\n",
                "\n",
                "# yes/no boolean\n",
                "HR_Data['left'] = HR_Data['left'].map({'yes': True, 'no': False})\n",
                "\n",
                "# date format\n",
                "if 'date' in HR_Data.columns:\n",
                "    HR_Data['date'] = pd.to_datetime(HR_Data['date'], format='%Y-%m-%d')\n",
                "\n",
                "# histograms plot\n",
                "sns.countplot(x='department', data=HR_Data)\n",
                "plt.title('Department Distribution')\n",
                "plt.xticks(rotation=45)\n",
                "plt.show()\n",
                "\n",
                "sns.countplot(x='salary', data=HR_Data)\n",
                "plt.title('Salary Distribution')\n",
                "plt.show()\n"
            ]
        },
        {
            "cell_type": "markdown",
            "metadata": {
                "azdata_cell_guid": "dedc0bfe-17d0-40b2-914f-2ddb54f9ce0d"
            },
            "source": [
                "## Summarize Your Results\n",
                "\n",
                "Make note of your answers to the following questions.\n",
                "\n",
                "1. Did you find all four types of dirty data in your dataset?\n",
                "2. Did the process of cleaning your data give you new insights into your dataset?\n",
                "3. Is there anything you would like to make note of when it comes to manipulating the data and making visualizations?"
            ]
        },
        {
            "cell_type": "code",
            "execution_count": null,
            "metadata": {},
            "outputs": [],
            "source": [
                "# 1. Did you find all four types of dirty data in your dataset?\n",
                "\n",
                "#  Missing Data: was identified in my dataset \n",
                "#  Duplicate Data: was removed to ensure data uniqueness \n",
                "#  Unnecessary Data: was identified and reduced to streamline the data\n",
                "# for a more focus analysis\n",
                "# Inconsistent Data: was standardized and corrected. This is critical for\n",
                "# accurate data analysis and modeling"
            ]
        },
        {
            "cell_type": "code",
            "execution_count": null,
            "metadata": {},
            "outputs": [],
            "source": [
                "# 2. Did the process of cleaning your data give you new insights into your dataset?\n"
            ]
        }
    ],
    "metadata": {
        "kernelspec": {
            "display_name": "Python 3",
            "language": "python",
            "name": "python3"
        },
        "language_info": {
            "codemirror_mode": {
                "name": "ipython",
                "version": 3
            },
            "file_extension": ".py",
            "mimetype": "text/x-python",
            "name": "python",
            "nbconvert_exporter": "python",
            "pygments_lexer": "ipython3",
            "version": "3.12.5"
        }
    },
    "nbformat": 4,
    "nbformat_minor": 2
}
