{
 "cells": [
  {
   "cell_type": "code",
<<<<<<< HEAD
   "execution_count": 4,
=======
   "execution_count": null,
>>>>>>> upstream/main
   "id": "2ea67098",
   "metadata": {},
   "outputs": [
    {
     "data": {
      "text/html": [
       "<div>\n",
       "<style scoped>\n",
       "    .dataframe tbody tr th:only-of-type {\n",
       "        vertical-align: middle;\n",
       "    }\n",
       "\n",
       "    .dataframe tbody tr th {\n",
       "        vertical-align: top;\n",
       "    }\n",
       "\n",
       "    .dataframe thead th {\n",
       "        text-align: right;\n",
       "    }\n",
       "</style>\n",
       "<table border=\"1\" class=\"dataframe\">\n",
       "  <thead>\n",
       "    <tr style=\"text-align: right;\">\n",
       "      <th></th>\n",
       "      <th>survived</th>\n",
       "      <th>pclass</th>\n",
       "      <th>sex</th>\n",
       "      <th>age</th>\n",
       "      <th>sibsp</th>\n",
       "      <th>parch</th>\n",
       "      <th>fare</th>\n",
       "      <th>embarked</th>\n",
       "      <th>class</th>\n",
       "      <th>who</th>\n",
       "      <th>adult_male</th>\n",
       "      <th>deck</th>\n",
       "      <th>embark_town</th>\n",
       "      <th>alive</th>\n",
       "      <th>alone</th>\n",
       "    </tr>\n",
       "  </thead>\n",
       "  <tbody>\n",
       "    <tr>\n",
       "      <th>0</th>\n",
       "      <td>0</td>\n",
       "      <td>3</td>\n",
       "      <td>male</td>\n",
       "      <td>22.0</td>\n",
       "      <td>1</td>\n",
       "      <td>0</td>\n",
       "      <td>7.2500</td>\n",
       "      <td>S</td>\n",
       "      <td>Third</td>\n",
       "      <td>man</td>\n",
       "      <td>True</td>\n",
       "      <td>NaN</td>\n",
       "      <td>Southampton</td>\n",
       "      <td>no</td>\n",
       "      <td>False</td>\n",
       "    </tr>\n",
       "    <tr>\n",
       "      <th>1</th>\n",
       "      <td>1</td>\n",
       "      <td>1</td>\n",
       "      <td>female</td>\n",
       "      <td>38.0</td>\n",
       "      <td>1</td>\n",
       "      <td>0</td>\n",
       "      <td>71.2833</td>\n",
       "      <td>C</td>\n",
       "      <td>First</td>\n",
       "      <td>woman</td>\n",
       "      <td>False</td>\n",
       "      <td>C</td>\n",
       "      <td>Cherbourg</td>\n",
       "      <td>yes</td>\n",
       "      <td>False</td>\n",
       "    </tr>\n",
       "    <tr>\n",
       "      <th>2</th>\n",
       "      <td>1</td>\n",
       "      <td>3</td>\n",
       "      <td>female</td>\n",
       "      <td>26.0</td>\n",
       "      <td>0</td>\n",
       "      <td>0</td>\n",
       "      <td>7.9250</td>\n",
       "      <td>S</td>\n",
       "      <td>Third</td>\n",
       "      <td>woman</td>\n",
       "      <td>False</td>\n",
       "      <td>NaN</td>\n",
       "      <td>Southampton</td>\n",
       "      <td>yes</td>\n",
       "      <td>True</td>\n",
       "    </tr>\n",
       "    <tr>\n",
       "      <th>3</th>\n",
       "      <td>1</td>\n",
       "      <td>1</td>\n",
       "      <td>female</td>\n",
       "      <td>35.0</td>\n",
       "      <td>1</td>\n",
       "      <td>0</td>\n",
       "      <td>53.1000</td>\n",
       "      <td>S</td>\n",
       "      <td>First</td>\n",
       "      <td>woman</td>\n",
       "      <td>False</td>\n",
       "      <td>C</td>\n",
       "      <td>Southampton</td>\n",
       "      <td>yes</td>\n",
       "      <td>False</td>\n",
       "    </tr>\n",
       "    <tr>\n",
       "      <th>4</th>\n",
       "      <td>0</td>\n",
       "      <td>3</td>\n",
       "      <td>male</td>\n",
       "      <td>35.0</td>\n",
       "      <td>0</td>\n",
       "      <td>0</td>\n",
       "      <td>8.0500</td>\n",
       "      <td>S</td>\n",
       "      <td>Third</td>\n",
       "      <td>man</td>\n",
       "      <td>True</td>\n",
       "      <td>NaN</td>\n",
       "      <td>Southampton</td>\n",
       "      <td>no</td>\n",
       "      <td>True</td>\n",
       "    </tr>\n",
       "    <tr>\n",
       "      <th>...</th>\n",
       "      <td>...</td>\n",
       "      <td>...</td>\n",
       "      <td>...</td>\n",
       "      <td>...</td>\n",
       "      <td>...</td>\n",
       "      <td>...</td>\n",
       "      <td>...</td>\n",
       "      <td>...</td>\n",
       "      <td>...</td>\n",
       "      <td>...</td>\n",
       "      <td>...</td>\n",
       "      <td>...</td>\n",
       "      <td>...</td>\n",
       "      <td>...</td>\n",
       "      <td>...</td>\n",
       "    </tr>\n",
       "    <tr>\n",
       "      <th>886</th>\n",
       "      <td>0</td>\n",
       "      <td>2</td>\n",
       "      <td>male</td>\n",
       "      <td>27.0</td>\n",
       "      <td>0</td>\n",
       "      <td>0</td>\n",
       "      <td>13.0000</td>\n",
       "      <td>S</td>\n",
       "      <td>Second</td>\n",
       "      <td>man</td>\n",
       "      <td>True</td>\n",
       "      <td>NaN</td>\n",
       "      <td>Southampton</td>\n",
       "      <td>no</td>\n",
       "      <td>True</td>\n",
       "    </tr>\n",
       "    <tr>\n",
       "      <th>887</th>\n",
       "      <td>1</td>\n",
       "      <td>1</td>\n",
       "      <td>female</td>\n",
       "      <td>19.0</td>\n",
       "      <td>0</td>\n",
       "      <td>0</td>\n",
       "      <td>30.0000</td>\n",
       "      <td>S</td>\n",
       "      <td>First</td>\n",
       "      <td>woman</td>\n",
       "      <td>False</td>\n",
       "      <td>B</td>\n",
       "      <td>Southampton</td>\n",
       "      <td>yes</td>\n",
       "      <td>True</td>\n",
       "    </tr>\n",
       "    <tr>\n",
       "      <th>888</th>\n",
       "      <td>0</td>\n",
       "      <td>3</td>\n",
       "      <td>female</td>\n",
       "      <td>NaN</td>\n",
       "      <td>1</td>\n",
       "      <td>2</td>\n",
       "      <td>23.4500</td>\n",
       "      <td>S</td>\n",
       "      <td>Third</td>\n",
       "      <td>woman</td>\n",
       "      <td>False</td>\n",
       "      <td>NaN</td>\n",
       "      <td>Southampton</td>\n",
       "      <td>no</td>\n",
       "      <td>False</td>\n",
       "    </tr>\n",
       "    <tr>\n",
       "      <th>889</th>\n",
       "      <td>1</td>\n",
       "      <td>1</td>\n",
       "      <td>male</td>\n",
       "      <td>26.0</td>\n",
       "      <td>0</td>\n",
       "      <td>0</td>\n",
       "      <td>30.0000</td>\n",
       "      <td>C</td>\n",
       "      <td>First</td>\n",
       "      <td>man</td>\n",
       "      <td>True</td>\n",
       "      <td>C</td>\n",
       "      <td>Cherbourg</td>\n",
       "      <td>yes</td>\n",
       "      <td>True</td>\n",
       "    </tr>\n",
       "    <tr>\n",
       "      <th>890</th>\n",
       "      <td>0</td>\n",
       "      <td>3</td>\n",
       "      <td>male</td>\n",
       "      <td>32.0</td>\n",
       "      <td>0</td>\n",
       "      <td>0</td>\n",
       "      <td>7.7500</td>\n",
       "      <td>Q</td>\n",
       "      <td>Third</td>\n",
       "      <td>man</td>\n",
       "      <td>True</td>\n",
       "      <td>NaN</td>\n",
       "      <td>Queenstown</td>\n",
       "      <td>no</td>\n",
       "      <td>True</td>\n",
       "    </tr>\n",
       "  </tbody>\n",
       "</table>\n",
       "<p>891 rows × 15 columns</p>\n",
       "</div>"
      ],
      "text/plain": [
       "     survived  pclass     sex   age  sibsp  parch     fare embarked   class  \\\n",
       "0           0       3    male  22.0      1      0   7.2500        S   Third   \n",
       "1           1       1  female  38.0      1      0  71.2833        C   First   \n",
       "2           1       3  female  26.0      0      0   7.9250        S   Third   \n",
       "3           1       1  female  35.0      1      0  53.1000        S   First   \n",
       "4           0       3    male  35.0      0      0   8.0500        S   Third   \n",
       "..        ...     ...     ...   ...    ...    ...      ...      ...     ...   \n",
       "886         0       2    male  27.0      0      0  13.0000        S  Second   \n",
       "887         1       1  female  19.0      0      0  30.0000        S   First   \n",
       "888         0       3  female   NaN      1      2  23.4500        S   Third   \n",
       "889         1       1    male  26.0      0      0  30.0000        C   First   \n",
       "890         0       3    male  32.0      0      0   7.7500        Q   Third   \n",
       "\n",
       "       who  adult_male deck  embark_town alive  alone  \n",
       "0      man        True  NaN  Southampton    no  False  \n",
       "1    woman       False    C    Cherbourg   yes  False  \n",
       "2    woman       False  NaN  Southampton   yes   True  \n",
       "3    woman       False    C  Southampton   yes  False  \n",
       "4      man        True  NaN  Southampton    no   True  \n",
       "..     ...         ...  ...          ...   ...    ...  \n",
       "886    man        True  NaN  Southampton    no   True  \n",
       "887  woman       False    B  Southampton   yes   True  \n",
       "888  woman       False  NaN  Southampton    no  False  \n",
       "889    man        True    C    Cherbourg   yes   True  \n",
       "890    man        True  NaN   Queenstown    no   True  \n",
       "\n",
       "[891 rows x 15 columns]"
      ]
     },
     "execution_count": 4,
     "metadata": {},
     "output_type": "execute_result"
    }
   ],
   "source": [
    "import pandas as pd\n",
    "\n",
    "import numpy as np\n",
    "\n",
    "data= pd.read_csv(\"titanic.csv\")\n",
    "\n",
    "data"
   ]
  },
  {
   "cell_type": "markdown",
   "id": "2cb2eb77",
   "metadata": {},
   "source": [
    "Note about the data sets.  Context is contained within the README page which is in this same folder as this notebook."
   ]
  },
  {
   "cell_type": "markdown",
   "id": "61e60715",
   "metadata": {},
   "source": [
    "# *Data Manipulation Notebook 2:*  Appending, Concatinating, Merging, and Joining Tables"
   ]
  },
  {
   "cell_type": "code",
<<<<<<< HEAD
   "execution_count": 8,
=======
   "execution_count": null,
>>>>>>> upstream/main
   "id": "91da9073",
   "metadata": {},
   "outputs": [],
   "source": [
    "flowers = pd.DataFrame({\n",
    "    \"Name\" : [\"Iris\", \"Peony\", \"Daisy\", \"Petunia\", \"Impatiens\", \"Creeping Myrtle\"], \n",
    "    \"Plant_Type\" : [\"Perennial\", \"Perennial\",\"Annual\", \"Annual\", \"Annual\", \"Perennial\"],\n",
    "    \"Sun_Shade\": [\"Full Sun\", \"Full Sun\", \"Partial Sun\", \"Partial Sun\", \"Partial Shade\", \"Full Shade\" ]\n",
    "    \n",
    "})\n",
    "\n",
    "garden_supply = pd.DataFrame({\n",
    "    \"Flower\" : [\"Daylily\",\"Iris\", \"Peony\",\"Petunia\", \"Petunia\", \"Impatiens\", \"Coneflower\"],\n",
    "    \"Sold_As\" : [\"Container\", \"Bulb Pack\", \"Root Pack\",\"Container Pack\", \"Mixed Container\", \"Container Pack\", \"Container\"],\n",
    "    \"Amt_Package\" : [1, 25, 5, 4, 1, 4, 1]\n",
    "})\n",
    "\n",
    "shrubs = pd.DataFrame({\n",
    "    \"Name\" : [\"Boxwood\", \"Hydrangea\", \"Dipladenia\", \"Gardenia\"], \n",
    "    \"Plant_Type\" : [\"Evergreen\", \"Flowering\", \"Flowering\", \"Flowering\"],\n",
    "    \"Sun_Shade\": [\"Partial Sun\", \"Partial Sun\", \"Partial Shade\", \"Full Sun\" ]\n",
    "})\n",
    "\n",
    "import pandas as pd\n",
    "\n"
   ]
  },
  {
   "cell_type": "code",
<<<<<<< HEAD
   "execution_count": 14,
=======
   "execution_count": null,
>>>>>>> upstream/main
   "id": "265c75dd",
   "metadata": {},
   "outputs": [
    {
     "name": "stdout",
     "output_type": "stream",
     "text": [
      "Flowers DF:\n",
      "              Name Plant_Type      Sun_Shade\n",
      "0             Iris  Perennial       Full Sun\n",
      "1            Peony  Perennial       Full Sun\n",
      "2            Daisy     Annual    Partial Sun\n",
      "3          Petunia     Annual    Partial Sun\n",
      "4        Impatiens     Annual  Partial Shade\n",
      "5  Creeping Myrtle  Perennial     Full Shade\n",
      "\n",
      "DF Summary:\n",
      "<class 'pandas.core.frame.DataFrame'>\n",
      "RangeIndex: 6 entries, 0 to 5\n",
      "Data columns (total 3 columns):\n",
      " #   Column      Non-Null Count  Dtype \n",
      "---  ------      --------------  ----- \n",
      " 0   Name        6 non-null      object\n",
      " 1   Plant_Type  6 non-null      object\n",
      " 2   Sun_Shade   6 non-null      object\n",
      "dtypes: object(3)\n",
      "memory usage: 276.0+ bytes\n",
      "None\n",
      "\n",
      "Data Type:\n",
      "Name          object\n",
      "Plant_Type    object\n",
      "Sun_Shade     object\n",
      "dtype: object\n",
      "\n",
      "Statistical DF:\n",
      "        Name Plant_Type Sun_Shade\n",
      "count      6          6         6\n",
      "unique     6          2         4\n",
      "top     Iris  Perennial  Full Sun\n",
      "freq       1          3         2\n"
     ]
    }
   ],
   "source": [
    "#1. Examine the flowers table here:\n",
    "import pandas as pd\n",
    "\n",
    "flowers = pd.DataFrame({\n",
    "    \"Name\" : [\"Iris\", \"Peony\", \"Daisy\", \"Petunia\", \"Impatiens\", \"Creeping Myrtle\"], \n",
    "    \"Plant_Type\" : [\"Perennial\", \"Perennial\",\"Annual\", \"Annual\", \"Annual\", \"Perennial\"],\n",
    "    \"Sun_Shade\": [\"Full Sun\", \"Full Sun\", \"Partial Sun\", \"Partial Sun\", \"Partial Shade\", \"Full Shade\" ]\n",
    "    \n",
    "})\n",
    "\n",
    "print(\"Flowers DF:\")\n",
    "print(flowers)\n",
    "\n",
    "print(\"\\nDF Summary:\")\n",
    "print(flowers.info())\n",
    "\n",
    "print(\"\\nData Type:\")\n",
    "print(flowers.dtypes)\n",
    "\n",
    "print(\"\\nStatistical DF:\")\n",
    "print(flowers.describe(include='all'))\n"
   ]
  },
  {
   "cell_type": "code",
<<<<<<< HEAD
   "execution_count": 15,
=======
   "execution_count": null,
>>>>>>> upstream/main
   "id": "8fa98431",
   "metadata": {},
   "outputs": [
    {
     "name": "stdout",
     "output_type": "stream",
     "text": [
      "Garden DF:\n",
      "       Flower          Sold_As  Amt_Package\n",
      "0     Daylily        Container            1\n",
      "1        Iris        Bulb Pack           25\n",
      "2       Peony        Root Pack            5\n",
      "3     Petunia   Container Pack            4\n",
      "4     Petunia  Mixed Container            1\n",
      "5   Impatiens   Container Pack            4\n",
      "6  Coneflower        Container            1\n",
      "\n",
      "DF Summary:\n",
      "<class 'pandas.core.frame.DataFrame'>\n",
      "RangeIndex: 7 entries, 0 to 6\n",
      "Data columns (total 3 columns):\n",
      " #   Column       Non-Null Count  Dtype \n",
      "---  ------       --------------  ----- \n",
      " 0   Flower       7 non-null      object\n",
      " 1   Sold_As      7 non-null      object\n",
      " 2   Amt_Package  7 non-null      int64 \n",
      "dtypes: int64(1), object(2)\n",
      "memory usage: 300.0+ bytes\n",
      "None\n",
      "\n",
      "Data Type:\n",
      "Flower         object\n",
      "Sold_As        object\n",
      "Amt_Package     int64\n",
      "dtype: object\n",
      "\n",
      "Statistical DF:\n",
      "         Flower    Sold_As  Amt_Package\n",
      "count         7          7     7.000000\n",
      "unique        6          5          NaN\n",
      "top     Petunia  Container          NaN\n",
      "freq          2          2          NaN\n",
      "mean        NaN        NaN     5.857143\n",
      "std         NaN        NaN     8.610625\n",
      "min         NaN        NaN     1.000000\n",
      "25%         NaN        NaN     1.000000\n",
      "50%         NaN        NaN     4.000000\n",
      "75%         NaN        NaN     4.500000\n",
      "max         NaN        NaN    25.000000\n"
     ]
    }
   ],
   "source": [
    "# 2. Examine the garden_supply table here:\n",
    "\n",
    "import pandas as pd\n",
    "\n",
    "garden_supply = pd.DataFrame({\n",
    "    \"Flower\" : [\"Daylily\",\"Iris\", \"Peony\",\"Petunia\", \"Petunia\", \"Impatiens\", \"Coneflower\"],\n",
    "    \"Sold_As\" : [\"Container\", \"Bulb Pack\", \"Root Pack\",\"Container Pack\", \"Mixed Container\", \"Container Pack\", \"Container\"],\n",
    "    \"Amt_Package\" : [1, 25, 5, 4, 1, 4, 1]\n",
    "})\n",
    "\n",
    "print(\"Garden DF:\")\n",
    "print(garden_supply)\n",
    "\n",
    "print(\"\\nDF Summary:\")\n",
    "print(garden_supply.info())\n",
    "\n",
    "print(\"\\nData Type:\")\n",
    "print(garden_supply.dtypes)\n",
    "\n",
    "print(\"\\nStatistical DF:\")\n",
    "print(garden_supply.describe(include='all'))"
   ]
  },
  {
   "cell_type": "code",
<<<<<<< HEAD
   "execution_count": 16,
=======
   "execution_count": null,
>>>>>>> upstream/main
   "id": "c8e82436",
   "metadata": {},
   "outputs": [
    {
     "name": "stdout",
     "output_type": "stream",
     "text": [
      "Shrubs DF:\n",
      "         Name Plant_Type      Sun_Shade\n",
      "0     Boxwood  Evergreen    Partial Sun\n",
      "1   Hydrangea  Flowering    Partial Sun\n",
      "2  Dipladenia  Flowering  Partial Shade\n",
      "3    Gardenia  Flowering       Full Sun\n",
      "\n",
      "DF Summary:\n",
      "<class 'pandas.core.frame.DataFrame'>\n",
      "RangeIndex: 4 entries, 0 to 3\n",
      "Data columns (total 3 columns):\n",
      " #   Column      Non-Null Count  Dtype \n",
      "---  ------      --------------  ----- \n",
      " 0   Name        4 non-null      object\n",
      " 1   Plant_Type  4 non-null      object\n",
      " 2   Sun_Shade   4 non-null      object\n",
      "dtypes: object(3)\n",
      "memory usage: 228.0+ bytes\n",
      "None\n",
      "\n",
      "Data Type:\n",
      "Name          object\n",
      "Plant_Type    object\n",
      "Sun_Shade     object\n",
      "dtype: object\n",
      "\n",
      "Statistical DF:\n",
      "           Name Plant_Type    Sun_Shade\n",
      "count         4          4            4\n",
      "unique        4          2            3\n",
      "top     Boxwood  Flowering  Partial Sun\n",
      "freq          1          3            2\n"
     ]
    }
   ],
   "source": [
    "# 3. Examine the shrubs table here:\n",
    "\n",
    "import pandas as pd\n",
    "\n",
    "shrubs = pd.DataFrame({\n",
    "    \"Name\" : [\"Boxwood\", \"Hydrangea\", \"Dipladenia\", \"Gardenia\"], \n",
    "    \"Plant_Type\" : [\"Evergreen\", \"Flowering\", \"Flowering\", \"Flowering\"],\n",
    "    \"Sun_Shade\": [\"Partial Sun\", \"Partial Sun\", \"Partial Shade\", \"Full Sun\" ]\n",
    "})\n",
    "\n",
    "print(\"Shrubs DF:\")\n",
    "print(shrubs)\n",
    "\n",
    "print(\"\\nDF Summary:\")\n",
    "print(shrubs.info())\n",
    "\n",
    "print(\"\\nData Type:\")\n",
    "print(shrubs.dtypes)\n",
    "\n",
    "print(\"\\nStatistical DF:\")\n",
    "print(shrubs.describe(include='all'))"
   ]
  },
  {
   "cell_type": "markdown",
   "id": "03c6e4ad",
   "metadata": {},
   "source": [
    "<span style=\"background-color:dodgerblue; color:dodgerblue;\">- - - - - - - - - - - - - - - - - - - - - - - - - - - - - - - - - - - - - - - - - - - - - - - - - - - - - - - - - - - - - - - - - - - - - - - - - - - - - - - - - - - - - - - - -</span> "
   ]
  },
  {
   "cell_type": "markdown",
   "id": "e20a8607",
   "metadata": {},
   "source": [
    "# Part 1: Append \n",
    "\n",
    "Reading:\n",
    "1. [Python – Pandas dataframe.append()](https://www.geeksforgeeks.org/python-pandas-dataframe-append/)"
   ]
  },
  {
   "cell_type": "markdown",
   "id": "2cade0d6",
   "metadata": {},
   "source": [
    "**Append** is a method that allows you to add additional rows to a dataset.\n",
    "\n",
    "NOTE (from the reading above): As of Pandas version 2.0, the Pandas append() method is no longer in use. It is important to keep this in mind while working with Pandas. More efficient alternatives for concatenating DataFrames are the .concat() function from the pandas.DataFrame module.\n",
    "\n",
<<<<<<< HEAD
    "As we manipulate the table, be sure that you are creating variables to store you new tables. This keeps the original tables intact."
   ]
  },
  {
   "cell_type": "code",
   "execution_count": 21,
   "id": "d3ec2af0",
   "metadata": {},
   "outputs": [
    {
     "name": "stdout",
     "output_type": "stream",
     "text": [
      "              Name Plant_Type      Sun_Shade\n",
      "0             Iris  Perennial       Full Sun\n",
      "1            Peony  Perennial       Full Sun\n",
      "2            Daisy     Annual    Partial Sun\n",
      "3          Petunia     Annual    Partial Sun\n",
      "4        Impatiens     Annual  Partial Shade\n",
      "5  Creeping Myrtle  Perennial     Full Shade\n",
      "6          Boxwood  Evergreen    Partial Sun\n",
      "7        Hydrangea  Flowering    Partial Sun\n",
      "8       Dipladenia  Flowering  Partial Shade\n",
      "9         Gardenia  Flowering       Full Sun\n"
     ]
    }
   ],
   "source": [
    "# Append shrubs to the flowers table here.  Be sure to create a new variable for your new table.\n",
    "\n",
    "import pandas as pd\n",
    "\n",
    "flowers = pd.DataFrame({\n",
    "    \"Name\": [\"Iris\", \"Peony\", \"Daisy\", \"Petunia\", \"Impatiens\", \"Creeping Myrtle\"],\n",
    "    \"Plant_Type\": [\"Perennial\", \"Perennial\", \"Annual\", \"Annual\", \"Annual\", \"Perennial\"],\n",
    "    \"Sun_Shade\": [\"Full Sun\", \"Full Sun\", \"Partial Sun\", \"Partial Sun\", \"Partial Shade\", \"Full Shade\"]\n",
    "})\n",
    "\n",
    "shrubs = pd.DataFrame({\n",
    "    \"Name\": [\"Boxwood\", \"Hydrangea\", \"Dipladenia\", \"Gardenia\"],\n",
    "    \"Plant_Type\": [\"Evergreen\", \"Flowering\", \"Flowering\", \"Flowering\"],\n",
    "    \"Sun_Shade\": [\"Partial Sun\", \"Partial Sun\", \"Partial Shade\", \"Full Sun\"]\n",
    "})\n",
    "\n",
    "append_table = pd.concat([flowers, shrubs], ignore_index=True)\n",
    "\n",
    "print(append_table)\n",
    "\n",
    "\n",
    "\n"
   ]
  },
  {
   "cell_type": "code",
   "execution_count": 24,
   "id": "899b1b3c",
   "metadata": {},
   "outputs": [
    {
     "name": "stdout",
     "output_type": "stream",
     "text": [
      "              Name Plant_Type      Sun_Shade\n",
      "0             Iris  Perennial       Full Sun\n",
      "1            Peony  Perennial       Full Sun\n",
      "2            Daisy     Annual    Partial Sun\n",
      "3          Petunia     Annual    Partial Sun\n",
      "4        Impatiens     Annual  Partial Shade\n",
      "5  Creeping Myrtle  Perennial     Full Shade\n",
      "0          Boxwood  Evergreen    Partial Sun\n",
      "1        Hydrangea  Flowering    Partial Sun\n",
      "2       Dipladenia  Flowering  Partial Shade\n",
      "3         Gardenia  Flowering       Full Sun\n"
     ]
    }
   ],
   "source": [
    "# Append shrubs to the flowers table here.  This time ignore the index.\n",
    "\n",
    "import pandas as pd\n",
    "\n",
    "flowers = pd.DataFrame({\n",
    "    \"Name\": [\"Iris\", \"Peony\", \"Daisy\", \"Petunia\", \"Impatiens\", \"Creeping Myrtle\"],\n",
    "    \"Plant_Type\": [\"Perennial\", \"Perennial\", \"Annual\", \"Annual\", \"Annual\", \"Perennial\"],\n",
    "    \"Sun_Shade\": [\"Full Sun\", \"Full Sun\", \"Partial Sun\", \"Partial Sun\", \"Partial Shade\", \"Full Shade\"]\n",
    "})\n",
    "\n",
    "shrubs = pd.DataFrame({\n",
    "    \"Name\": [\"Boxwood\", \"Hydrangea\", \"Dipladenia\", \"Gardenia\"],\n",
    "    \"Plant_Type\": [\"Evergreen\", \"Flowering\", \"Flowering\", \"Flowering\"],\n",
    "    \"Sun_Shade\": [\"Partial Sun\", \"Partial Sun\", \"Partial Shade\", \"Full Sun\"]\n",
    "})\n",
    "\n",
    "append_table_2 = pd.concat([flowers, shrubs], ignore_index=False)\n",
    "\n",
    "print(append_table_2)\n",
    "\n"
=======
    "Because of append() being deprecated, please skip to Part 2"
>>>>>>> upstream/main
   ]
  },
  {
   "cell_type": "markdown",
   "id": "fd457c92",
   "metadata": {},
   "source": [
    "<span style=\"background-color:dodgerblue; color:dodgerblue;\">- - - - - - - - - - - - - - - - - - - - - - - - - - - - - - - - - - - - - - - - - - - - - - - - - - - - - - - - - - - - - - - - - - - - - - - - - - - - - - - - - - - - - - - - -</span> "
   ]
  },
  {
   "cell_type": "markdown",
   "id": "869b81e3",
   "metadata": {},
   "source": [
    "# Part 2: Concatenation\n",
    "\n",
    "Reading:\n",
    "1. [pandas.concat() function in Python](https://www.geeksforgeeks.org/pandas-concat-function-in-python/)"
   ]
  },
  {
   "cell_type": "markdown",
   "id": "c0b19be7",
   "metadata": {},
   "source": [
    "**Concatenation** means to chain or link things together.  The **concat()** method is very similar to **append()**.\n",
    "Like with **append()**, **concat()** can add rows to a table, or add to the 0 axis.  However, **concat()** can also add horizontally on the 1 axis, and by assigning **keys**.\n",
    "\n",
    "To **concat()** more rows to a table, the syntax is similar to **append()**:   \n",
    "Syntax:  **table_1_name.concat(table_2_name)**\n",
    "\n"
   ]
  },
  {
   "cell_type": "code",
<<<<<<< HEAD
   "execution_count": 25,
=======
   "execution_count": null,
>>>>>>> upstream/main
   "id": "98ca31ae",
   "metadata": {},
   "outputs": [],
   "source": [
    "# Concatenate with flowers\n",
    "\n",
    "# Look at the code below, in your own words what are the\"keys\" and how do they work?\n",
    "\n",
    "flowers_shrubs = pd.concat([flowers, shrubs], keys=[\"Flowers\", \"Shrubs\"])\n",
    "\n",
    "# the keys assigns a new outer index label to each DF being concatenated. "
   ]
  },
  {
   "cell_type": "code",
<<<<<<< HEAD
   "execution_count": 26,
=======
   "execution_count": null,
>>>>>>> upstream/main
   "id": "71c5fe1d",
   "metadata": {},
   "outputs": [
    {
     "name": "stdout",
     "output_type": "stream",
     "text": [
      "              Name Plant_Type      Sun_Shade        Name Plant_Type  \\\n",
      "0             Iris  Perennial       Full Sun     Boxwood  Evergreen   \n",
      "1            Peony  Perennial       Full Sun   Hydrangea  Flowering   \n",
      "2            Daisy     Annual    Partial Sun  Dipladenia  Flowering   \n",
      "3          Petunia     Annual    Partial Sun    Gardenia  Flowering   \n",
      "4        Impatiens     Annual  Partial Shade         NaN        NaN   \n",
      "5  Creeping Myrtle  Perennial     Full Shade         NaN        NaN   \n",
      "\n",
      "       Sun_Shade  \n",
      "0    Partial Sun  \n",
      "1    Partial Sun  \n",
      "2  Partial Shade  \n",
      "3       Full Sun  \n",
      "4            NaN  \n",
      "5            NaN  \n"
     ]
    }
   ],
   "source": [
<<<<<<< HEAD
    "# Concatenate flowers and shrubs horizontally here:\n",
    "\n",
    "import pandas as pd\n",
    "\n",
    "flowers = pd.DataFrame({\n",
    "    \"Name\": [\"Iris\", \"Peony\", \"Daisy\", \"Petunia\", \"Impatiens\", \"Creeping Myrtle\"],\n",
    "    \"Plant_Type\": [\"Perennial\", \"Perennial\", \"Annual\", \"Annual\", \"Annual\", \"Perennial\"],\n",
    "    \"Sun_Shade\": [\"Full Sun\", \"Full Sun\", \"Partial Sun\", \"Partial Sun\", \"Partial Shade\", \"Full Shade\"]\n",
    "})\n",
    "\n",
    "shrubs = pd.DataFrame({\n",
    "    \"Name\": [\"Boxwood\", \"Hydrangea\", \"Dipladenia\", \"Gardenia\"],\n",
    "    \"Plant_Type\": [\"Evergreen\", \"Flowering\", \"Flowering\", \"Flowering\"],\n",
    "    \"Sun_Shade\": [\"Partial Sun\", \"Partial Sun\", \"Partial Shade\", \"Full Sun\"]\n",
    "})\n",
    "\n",
    "flowers_shrubs = pd.concat([flowers, shrubs], axis=1)\n",
    "\n",
    "print(flowers_shrubs)\n",
    "\n",
    "\n"
=======
    "# Concatenate flowers and shrubs horizontally here:\n"
>>>>>>> upstream/main
   ]
  },
  {
   "cell_type": "markdown",
   "id": "5646ff5f",
   "metadata": {},
   "source": [
    "<span style=\"background-color:dodgerblue; color:dodgerblue;\">- - - - - - - - - - - - - - - - - - - - - - - - - - - - - - - - - - - - - - - - - - - - - - - - - - - - - - - - - - - - - - - - - - - - - - - - - - - - - - - - - - - - - - - - -</span> "
   ]
  },
  {
   "cell_type": "markdown",
   "id": "a67ac6ea",
   "metadata": {},
   "source": [
    "# Part 3:  Merge \n",
    "\n",
    "Reading for Parts 3 and 4\n",
    "1. [Pandas Merge (Join Data) | pd.DataFrame.merge()](https://www.youtube.com/watch?v=xcN3s3Kij_8)\n",
    "    1. 5 minute YouTube video\n",
    "1. [Why and How to Use Merge with Pandas in Python](https://towardsdatascience.com/why-and-how-to-use-merge-with-pandas-in-python-548600f7e738)"
   ]
  },
  {
   "cell_type": "code",
<<<<<<< HEAD
   "execution_count": 27,
=======
   "execution_count": null,
>>>>>>> upstream/main
   "id": "0b0f427f",
   "metadata": {},
   "outputs": [
    {
     "ename": "MergeError",
     "evalue": "No common columns to perform merge on. Merge options: left_on=None, right_on=None, left_index=False, right_index=False",
     "output_type": "error",
     "traceback": [
      "\u001b[1;31m---------------------------------------------------------------------------\u001b[0m",
      "\u001b[1;31mMergeError\u001b[0m                                Traceback (most recent call last)",
      "Cell \u001b[1;32mIn[27], line 2\u001b[0m\n\u001b[0;32m      1\u001b[0m \u001b[38;5;66;03m# Run this code: (uncomment)\u001b[39;00m\n\u001b[1;32m----> 2\u001b[0m \u001b[43mflowers\u001b[49m\u001b[38;5;241;43m.\u001b[39;49m\u001b[43mmerge\u001b[49m\u001b[43m(\u001b[49m\u001b[43mgarden_supply\u001b[49m\u001b[43m)\u001b[49m\n\u001b[0;32m      4\u001b[0m \u001b[38;5;66;03m#Why isn't this working?\u001b[39;00m\n",
      "File \u001b[1;32mc:\\Users\\charl\\AppData\\Local\\Programs\\Python\\Python312\\Lib\\site-packages\\pandas\\core\\frame.py:10832\u001b[0m, in \u001b[0;36mDataFrame.merge\u001b[1;34m(self, right, how, on, left_on, right_on, left_index, right_index, sort, suffixes, copy, indicator, validate)\u001b[0m\n\u001b[0;32m  10813\u001b[0m \u001b[38;5;129m@Substitution\u001b[39m(\u001b[38;5;124m\"\u001b[39m\u001b[38;5;124m\"\u001b[39m)\n\u001b[0;32m  10814\u001b[0m \u001b[38;5;129m@Appender\u001b[39m(_merge_doc, indents\u001b[38;5;241m=\u001b[39m\u001b[38;5;241m2\u001b[39m)\n\u001b[0;32m  10815\u001b[0m \u001b[38;5;28;01mdef\u001b[39;00m \u001b[38;5;21mmerge\u001b[39m(\n\u001b[1;32m   (...)\u001b[0m\n\u001b[0;32m  10828\u001b[0m     validate: MergeValidate \u001b[38;5;241m|\u001b[39m \u001b[38;5;28;01mNone\u001b[39;00m \u001b[38;5;241m=\u001b[39m \u001b[38;5;28;01mNone\u001b[39;00m,\n\u001b[0;32m  10829\u001b[0m ) \u001b[38;5;241m-\u001b[39m\u001b[38;5;241m>\u001b[39m DataFrame:\n\u001b[0;32m  10830\u001b[0m     \u001b[38;5;28;01mfrom\u001b[39;00m \u001b[38;5;21;01mpandas\u001b[39;00m\u001b[38;5;21;01m.\u001b[39;00m\u001b[38;5;21;01mcore\u001b[39;00m\u001b[38;5;21;01m.\u001b[39;00m\u001b[38;5;21;01mreshape\u001b[39;00m\u001b[38;5;21;01m.\u001b[39;00m\u001b[38;5;21;01mmerge\u001b[39;00m \u001b[38;5;28;01mimport\u001b[39;00m merge\n\u001b[1;32m> 10832\u001b[0m     \u001b[38;5;28;01mreturn\u001b[39;00m \u001b[43mmerge\u001b[49m\u001b[43m(\u001b[49m\n\u001b[0;32m  10833\u001b[0m \u001b[43m        \u001b[49m\u001b[38;5;28;43mself\u001b[39;49m\u001b[43m,\u001b[49m\n\u001b[0;32m  10834\u001b[0m \u001b[43m        \u001b[49m\u001b[43mright\u001b[49m\u001b[43m,\u001b[49m\n\u001b[0;32m  10835\u001b[0m \u001b[43m        \u001b[49m\u001b[43mhow\u001b[49m\u001b[38;5;241;43m=\u001b[39;49m\u001b[43mhow\u001b[49m\u001b[43m,\u001b[49m\n\u001b[0;32m  10836\u001b[0m \u001b[43m        \u001b[49m\u001b[43mon\u001b[49m\u001b[38;5;241;43m=\u001b[39;49m\u001b[43mon\u001b[49m\u001b[43m,\u001b[49m\n\u001b[0;32m  10837\u001b[0m \u001b[43m        \u001b[49m\u001b[43mleft_on\u001b[49m\u001b[38;5;241;43m=\u001b[39;49m\u001b[43mleft_on\u001b[49m\u001b[43m,\u001b[49m\n\u001b[0;32m  10838\u001b[0m \u001b[43m        \u001b[49m\u001b[43mright_on\u001b[49m\u001b[38;5;241;43m=\u001b[39;49m\u001b[43mright_on\u001b[49m\u001b[43m,\u001b[49m\n\u001b[0;32m  10839\u001b[0m \u001b[43m        \u001b[49m\u001b[43mleft_index\u001b[49m\u001b[38;5;241;43m=\u001b[39;49m\u001b[43mleft_index\u001b[49m\u001b[43m,\u001b[49m\n\u001b[0;32m  10840\u001b[0m \u001b[43m        \u001b[49m\u001b[43mright_index\u001b[49m\u001b[38;5;241;43m=\u001b[39;49m\u001b[43mright_index\u001b[49m\u001b[43m,\u001b[49m\n\u001b[0;32m  10841\u001b[0m \u001b[43m        \u001b[49m\u001b[43msort\u001b[49m\u001b[38;5;241;43m=\u001b[39;49m\u001b[43msort\u001b[49m\u001b[43m,\u001b[49m\n\u001b[0;32m  10842\u001b[0m \u001b[43m        \u001b[49m\u001b[43msuffixes\u001b[49m\u001b[38;5;241;43m=\u001b[39;49m\u001b[43msuffixes\u001b[49m\u001b[43m,\u001b[49m\n\u001b[0;32m  10843\u001b[0m \u001b[43m        \u001b[49m\u001b[43mcopy\u001b[49m\u001b[38;5;241;43m=\u001b[39;49m\u001b[43mcopy\u001b[49m\u001b[43m,\u001b[49m\n\u001b[0;32m  10844\u001b[0m \u001b[43m        \u001b[49m\u001b[43mindicator\u001b[49m\u001b[38;5;241;43m=\u001b[39;49m\u001b[43mindicator\u001b[49m\u001b[43m,\u001b[49m\n\u001b[0;32m  10845\u001b[0m \u001b[43m        \u001b[49m\u001b[43mvalidate\u001b[49m\u001b[38;5;241;43m=\u001b[39;49m\u001b[43mvalidate\u001b[49m\u001b[43m,\u001b[49m\n\u001b[0;32m  10846\u001b[0m \u001b[43m    \u001b[49m\u001b[43m)\u001b[49m\n",
      "File \u001b[1;32mc:\\Users\\charl\\AppData\\Local\\Programs\\Python\\Python312\\Lib\\site-packages\\pandas\\core\\reshape\\merge.py:170\u001b[0m, in \u001b[0;36mmerge\u001b[1;34m(left, right, how, on, left_on, right_on, left_index, right_index, sort, suffixes, copy, indicator, validate)\u001b[0m\n\u001b[0;32m    155\u001b[0m     \u001b[38;5;28;01mreturn\u001b[39;00m _cross_merge(\n\u001b[0;32m    156\u001b[0m         left_df,\n\u001b[0;32m    157\u001b[0m         right_df,\n\u001b[1;32m   (...)\u001b[0m\n\u001b[0;32m    167\u001b[0m         copy\u001b[38;5;241m=\u001b[39mcopy,\n\u001b[0;32m    168\u001b[0m     )\n\u001b[0;32m    169\u001b[0m \u001b[38;5;28;01melse\u001b[39;00m:\n\u001b[1;32m--> 170\u001b[0m     op \u001b[38;5;241m=\u001b[39m \u001b[43m_MergeOperation\u001b[49m\u001b[43m(\u001b[49m\n\u001b[0;32m    171\u001b[0m \u001b[43m        \u001b[49m\u001b[43mleft_df\u001b[49m\u001b[43m,\u001b[49m\n\u001b[0;32m    172\u001b[0m \u001b[43m        \u001b[49m\u001b[43mright_df\u001b[49m\u001b[43m,\u001b[49m\n\u001b[0;32m    173\u001b[0m \u001b[43m        \u001b[49m\u001b[43mhow\u001b[49m\u001b[38;5;241;43m=\u001b[39;49m\u001b[43mhow\u001b[49m\u001b[43m,\u001b[49m\n\u001b[0;32m    174\u001b[0m \u001b[43m        \u001b[49m\u001b[43mon\u001b[49m\u001b[38;5;241;43m=\u001b[39;49m\u001b[43mon\u001b[49m\u001b[43m,\u001b[49m\n\u001b[0;32m    175\u001b[0m \u001b[43m        \u001b[49m\u001b[43mleft_on\u001b[49m\u001b[38;5;241;43m=\u001b[39;49m\u001b[43mleft_on\u001b[49m\u001b[43m,\u001b[49m\n\u001b[0;32m    176\u001b[0m \u001b[43m        \u001b[49m\u001b[43mright_on\u001b[49m\u001b[38;5;241;43m=\u001b[39;49m\u001b[43mright_on\u001b[49m\u001b[43m,\u001b[49m\n\u001b[0;32m    177\u001b[0m \u001b[43m        \u001b[49m\u001b[43mleft_index\u001b[49m\u001b[38;5;241;43m=\u001b[39;49m\u001b[43mleft_index\u001b[49m\u001b[43m,\u001b[49m\n\u001b[0;32m    178\u001b[0m \u001b[43m        \u001b[49m\u001b[43mright_index\u001b[49m\u001b[38;5;241;43m=\u001b[39;49m\u001b[43mright_index\u001b[49m\u001b[43m,\u001b[49m\n\u001b[0;32m    179\u001b[0m \u001b[43m        \u001b[49m\u001b[43msort\u001b[49m\u001b[38;5;241;43m=\u001b[39;49m\u001b[43msort\u001b[49m\u001b[43m,\u001b[49m\n\u001b[0;32m    180\u001b[0m \u001b[43m        \u001b[49m\u001b[43msuffixes\u001b[49m\u001b[38;5;241;43m=\u001b[39;49m\u001b[43msuffixes\u001b[49m\u001b[43m,\u001b[49m\n\u001b[0;32m    181\u001b[0m \u001b[43m        \u001b[49m\u001b[43mindicator\u001b[49m\u001b[38;5;241;43m=\u001b[39;49m\u001b[43mindicator\u001b[49m\u001b[43m,\u001b[49m\n\u001b[0;32m    182\u001b[0m \u001b[43m        \u001b[49m\u001b[43mvalidate\u001b[49m\u001b[38;5;241;43m=\u001b[39;49m\u001b[43mvalidate\u001b[49m\u001b[43m,\u001b[49m\n\u001b[0;32m    183\u001b[0m \u001b[43m    \u001b[49m\u001b[43m)\u001b[49m\n\u001b[0;32m    184\u001b[0m     \u001b[38;5;28;01mreturn\u001b[39;00m op\u001b[38;5;241m.\u001b[39mget_result(copy\u001b[38;5;241m=\u001b[39mcopy)\n",
      "File \u001b[1;32mc:\\Users\\charl\\AppData\\Local\\Programs\\Python\\Python312\\Lib\\site-packages\\pandas\\core\\reshape\\merge.py:786\u001b[0m, in \u001b[0;36m_MergeOperation.__init__\u001b[1;34m(self, left, right, how, on, left_on, right_on, left_index, right_index, sort, suffixes, indicator, validate)\u001b[0m\n\u001b[0;32m    779\u001b[0m     msg \u001b[38;5;241m=\u001b[39m (\n\u001b[0;32m    780\u001b[0m         \u001b[38;5;124m\"\u001b[39m\u001b[38;5;124mNot allowed to merge between different levels. \u001b[39m\u001b[38;5;124m\"\u001b[39m\n\u001b[0;32m    781\u001b[0m         \u001b[38;5;124mf\u001b[39m\u001b[38;5;124m\"\u001b[39m\u001b[38;5;124m(\u001b[39m\u001b[38;5;132;01m{\u001b[39;00m_left\u001b[38;5;241m.\u001b[39mcolumns\u001b[38;5;241m.\u001b[39mnlevels\u001b[38;5;132;01m}\u001b[39;00m\u001b[38;5;124m levels on the left, \u001b[39m\u001b[38;5;124m\"\u001b[39m\n\u001b[0;32m    782\u001b[0m         \u001b[38;5;124mf\u001b[39m\u001b[38;5;124m\"\u001b[39m\u001b[38;5;132;01m{\u001b[39;00m_right\u001b[38;5;241m.\u001b[39mcolumns\u001b[38;5;241m.\u001b[39mnlevels\u001b[38;5;132;01m}\u001b[39;00m\u001b[38;5;124m on the right)\u001b[39m\u001b[38;5;124m\"\u001b[39m\n\u001b[0;32m    783\u001b[0m     )\n\u001b[0;32m    784\u001b[0m     \u001b[38;5;28;01mraise\u001b[39;00m MergeError(msg)\n\u001b[1;32m--> 786\u001b[0m \u001b[38;5;28mself\u001b[39m\u001b[38;5;241m.\u001b[39mleft_on, \u001b[38;5;28mself\u001b[39m\u001b[38;5;241m.\u001b[39mright_on \u001b[38;5;241m=\u001b[39m \u001b[38;5;28;43mself\u001b[39;49m\u001b[38;5;241;43m.\u001b[39;49m\u001b[43m_validate_left_right_on\u001b[49m\u001b[43m(\u001b[49m\u001b[43mleft_on\u001b[49m\u001b[43m,\u001b[49m\u001b[43m \u001b[49m\u001b[43mright_on\u001b[49m\u001b[43m)\u001b[49m\n\u001b[0;32m    788\u001b[0m (\n\u001b[0;32m    789\u001b[0m     \u001b[38;5;28mself\u001b[39m\u001b[38;5;241m.\u001b[39mleft_join_keys,\n\u001b[0;32m    790\u001b[0m     \u001b[38;5;28mself\u001b[39m\u001b[38;5;241m.\u001b[39mright_join_keys,\n\u001b[1;32m   (...)\u001b[0m\n\u001b[0;32m    793\u001b[0m     right_drop,\n\u001b[0;32m    794\u001b[0m ) \u001b[38;5;241m=\u001b[39m \u001b[38;5;28mself\u001b[39m\u001b[38;5;241m.\u001b[39m_get_merge_keys()\n\u001b[0;32m    796\u001b[0m \u001b[38;5;28;01mif\u001b[39;00m left_drop:\n",
      "File \u001b[1;32mc:\\Users\\charl\\AppData\\Local\\Programs\\Python\\Python312\\Lib\\site-packages\\pandas\\core\\reshape\\merge.py:1572\u001b[0m, in \u001b[0;36m_MergeOperation._validate_left_right_on\u001b[1;34m(self, left_on, right_on)\u001b[0m\n\u001b[0;32m   1570\u001b[0m common_cols \u001b[38;5;241m=\u001b[39m left_cols\u001b[38;5;241m.\u001b[39mintersection(right_cols)\n\u001b[0;32m   1571\u001b[0m \u001b[38;5;28;01mif\u001b[39;00m \u001b[38;5;28mlen\u001b[39m(common_cols) \u001b[38;5;241m==\u001b[39m \u001b[38;5;241m0\u001b[39m:\n\u001b[1;32m-> 1572\u001b[0m     \u001b[38;5;28;01mraise\u001b[39;00m MergeError(\n\u001b[0;32m   1573\u001b[0m         \u001b[38;5;124m\"\u001b[39m\u001b[38;5;124mNo common columns to perform merge on. \u001b[39m\u001b[38;5;124m\"\u001b[39m\n\u001b[0;32m   1574\u001b[0m         \u001b[38;5;124mf\u001b[39m\u001b[38;5;124m\"\u001b[39m\u001b[38;5;124mMerge options: left_on=\u001b[39m\u001b[38;5;132;01m{\u001b[39;00mleft_on\u001b[38;5;132;01m}\u001b[39;00m\u001b[38;5;124m, \u001b[39m\u001b[38;5;124m\"\u001b[39m\n\u001b[0;32m   1575\u001b[0m         \u001b[38;5;124mf\u001b[39m\u001b[38;5;124m\"\u001b[39m\u001b[38;5;124mright_on=\u001b[39m\u001b[38;5;132;01m{\u001b[39;00mright_on\u001b[38;5;132;01m}\u001b[39;00m\u001b[38;5;124m, \u001b[39m\u001b[38;5;124m\"\u001b[39m\n\u001b[0;32m   1576\u001b[0m         \u001b[38;5;124mf\u001b[39m\u001b[38;5;124m\"\u001b[39m\u001b[38;5;124mleft_index=\u001b[39m\u001b[38;5;132;01m{\u001b[39;00m\u001b[38;5;28mself\u001b[39m\u001b[38;5;241m.\u001b[39mleft_index\u001b[38;5;132;01m}\u001b[39;00m\u001b[38;5;124m, \u001b[39m\u001b[38;5;124m\"\u001b[39m\n\u001b[0;32m   1577\u001b[0m         \u001b[38;5;124mf\u001b[39m\u001b[38;5;124m\"\u001b[39m\u001b[38;5;124mright_index=\u001b[39m\u001b[38;5;132;01m{\u001b[39;00m\u001b[38;5;28mself\u001b[39m\u001b[38;5;241m.\u001b[39mright_index\u001b[38;5;132;01m}\u001b[39;00m\u001b[38;5;124m\"\u001b[39m\n\u001b[0;32m   1578\u001b[0m     )\n\u001b[0;32m   1579\u001b[0m \u001b[38;5;28;01mif\u001b[39;00m (\n\u001b[0;32m   1580\u001b[0m     \u001b[38;5;129;01mnot\u001b[39;00m left_cols\u001b[38;5;241m.\u001b[39mjoin(common_cols, how\u001b[38;5;241m=\u001b[39m\u001b[38;5;124m\"\u001b[39m\u001b[38;5;124minner\u001b[39m\u001b[38;5;124m\"\u001b[39m)\u001b[38;5;241m.\u001b[39mis_unique\n\u001b[0;32m   1581\u001b[0m     \u001b[38;5;129;01mor\u001b[39;00m \u001b[38;5;129;01mnot\u001b[39;00m right_cols\u001b[38;5;241m.\u001b[39mjoin(common_cols, how\u001b[38;5;241m=\u001b[39m\u001b[38;5;124m\"\u001b[39m\u001b[38;5;124minner\u001b[39m\u001b[38;5;124m\"\u001b[39m)\u001b[38;5;241m.\u001b[39mis_unique\n\u001b[0;32m   1582\u001b[0m ):\n\u001b[0;32m   1583\u001b[0m     \u001b[38;5;28;01mraise\u001b[39;00m MergeError(\u001b[38;5;124mf\u001b[39m\u001b[38;5;124m\"\u001b[39m\u001b[38;5;124mData columns not unique: \u001b[39m\u001b[38;5;132;01m{\u001b[39;00m\u001b[38;5;28mrepr\u001b[39m(common_cols)\u001b[38;5;132;01m}\u001b[39;00m\u001b[38;5;124m\"\u001b[39m)\n",
      "\u001b[1;31mMergeError\u001b[0m: No common columns to perform merge on. Merge options: left_on=None, right_on=None, left_index=False, right_index=False"
     ]
    }
   ],
   "source": [
    "# Run this code: (uncomment)\n",
    "flowers.merge(garden_supply)\n",
    "\n",
<<<<<<< HEAD
    "#Why isn't this working?\n",
    "# Because we should call out the left_on and right_on parameters\n"
=======
    "# Using the error information given to us, why isn't this code working?\n",
    "\n"
>>>>>>> upstream/main
   ]
  },
  {
   "cell_type": "markdown",
   "id": "ab35b607",
   "metadata": {},
   "source": [
    "In order to merge a table, you need to identify a shared column between the tables.  This is often referred to as a **\"key\"**.\n",
    "\n",
    "Our tables both have a column of flower names.  However, the names of the columns are not the same.\n",
    "There are two options we can take in order to use the names of the flower as the key.\n",
    "\n",
    "Option 1 is to **rename** one of the columns.  \n",
    "\n",
    "Option 2 is to inform the **merge** method which columns to use as the key.\n",
    "\n",
    "We are going to try both."
   ]
  },
  {
   "cell_type": "markdown",
   "id": "396593ce",
   "metadata": {},
   "source": [
    "### Option 1:  Rename a column in the flowers table.\n",
    "\n",
    "Create a variable to hold your updated table.  \n",
    "apply the following syntax to update your column names: **table_name.rename(columns={\"original_name\": \"new_name\"})**"
   ]
  },
  {
   "cell_type": "code",
<<<<<<< HEAD
   "execution_count": 28,
=======
   "execution_count": null,
>>>>>>> upstream/main
   "id": "f275d8c6",
   "metadata": {},
   "outputs": [
    {
     "name": "stdout",
     "output_type": "stream",
     "text": [
      "            Flower Plant_Type      Sun_Shade\n",
      "0             Iris  Perennial       Full Sun\n",
      "1            Peony  Perennial       Full Sun\n",
      "2            Daisy     Annual    Partial Sun\n",
      "3          Petunia     Annual    Partial Sun\n",
      "4        Impatiens     Annual  Partial Shade\n",
      "5  Creeping Myrtle  Perennial     Full Shade\n"
     ]
    }
   ],
   "source": [
<<<<<<< HEAD
    "# Code Option 1 here.  Be sure to run your table before moving on to option 2.\n",
    "import pandas as pd\n",
    "\n",
    "flowers = pd.DataFrame({\n",
    "    \"Name\": [\"Iris\", \"Peony\", \"Daisy\", \"Petunia\", \"Impatiens\", \"Creeping Myrtle\"],\n",
    "    \"Plant_Type\": [\"Perennial\", \"Perennial\", \"Annual\", \"Annual\", \"Annual\", \"Perennial\"],\n",
    "    \"Sun_Shade\": [\"Full Sun\", \"Full Sun\", \"Partial Sun\", \"Partial Sun\", \"Partial Shade\", \"Full Shade\"]\n",
    "})\n",
    "\n",
    "flowers_table = flowers.rename(columns={\"Name\": \"Flower\"})\n",
    "\n",
    "print(flowers_table)\n"
=======
    "# Code Option 1 here.  Be sure to run your table before moving on to option 2."
>>>>>>> upstream/main
   ]
  },
  {
   "cell_type": "markdown",
   "id": "240fd2d4",
   "metadata": {},
   "source": [
    "#### Test Option 1 results:\n",
    "Merge garden_supply with the updated table you created above and store it in a new variable.\n",
    "Run your newly merged table and examine it."
   ]
  },
  {
   "cell_type": "code",
<<<<<<< HEAD
   "execution_count": 29,
=======
   "execution_count": null,
>>>>>>> upstream/main
   "id": "9d5ddf17",
   "metadata": {},
   "outputs": [
    {
     "name": "stdout",
     "output_type": "stream",
     "text": [
      "      Flower Plant_Type      Sun_Shade          Sold_As  Amt_Package\n",
      "0       Iris  Perennial       Full Sun        Bulb Pack           25\n",
      "1      Peony  Perennial       Full Sun        Root Pack            5\n",
      "2    Petunia     Annual    Partial Sun   Container Pack            4\n",
      "3    Petunia     Annual    Partial Sun  Mixed Container            1\n",
      "4  Impatiens     Annual  Partial Shade   Container Pack            4\n"
     ]
    }
   ],
   "source": [
<<<<<<< HEAD
    "# Test Option 1 here:\n",
    "\n",
    "import pandas as pd\n",
    "\n",
    "garden_supply = pd.DataFrame({\n",
    "    \"Flower\": [\"Daylily\", \"Iris\", \"Peony\", \"Petunia\", \"Petunia\", \"Impatiens\", \"Coneflower\"],\n",
    "    \"Sold_As\": [\"Container\", \"Bulb Pack\", \"Root Pack\", \"Container Pack\", \"Mixed Container\", \"Container Pack\", \"Container\"],\n",
    "    \"Amt_Package\": [1, 25, 5, 4, 1, 4, 1]\n",
    "})\n",
    "\n",
    "flowers_renamed = pd.DataFrame({\n",
    "    \"Flower\": [\"Iris\", \"Peony\", \"Daisy\", \"Petunia\", \"Impatiens\", \"Creeping Myrtle\"],\n",
    "    \"Plant_Type\": [\"Perennial\", \"Perennial\", \"Annual\", \"Annual\", \"Annual\", \"Perennial\"],\n",
    "    \"Sun_Shade\": [\"Full Sun\", \"Full Sun\", \"Partial Sun\", \"Partial Sun\", \"Partial Shade\", \"Full Shade\"]\n",
    "})\n",
    "\n",
    "merged_garden = flowers_renamed.merge(garden_supply, on=\"Flower\")\n",
    "\n",
    "print(merged_garden)\n",
    "\n"
=======
    "# Test Option 1 here:"
>>>>>>> upstream/main
   ]
  },
  {
   "cell_type": "markdown",
   "id": "7c9200d0",
   "metadata": {},
   "source": [
    "### Option 2: Using the merge method's parameters \"left_on\" & \"right_on\"\n",
    "\n",
    "Option 2 can be used if you would rather not rename any columns.\n",
    "Using the syntax below as a guide, create a table where you merge the *flowers* table on the \"Name\" column and the *garden_supply* on the \"Flower\" column.  Set your tables up where *flowers* is on the left and *garden_supply* on the right\n",
    "    \n",
    "Syntax:  **left_table.merge(right_table, left_on=\"column_name\", right_on=\"column_name\")**"
   ]
  },
  {
   "cell_type": "code",
<<<<<<< HEAD
   "execution_count": 30,
=======
   "execution_count": null,
>>>>>>> upstream/main
   "id": "c13290b3",
   "metadata": {},
   "outputs": [
    {
     "name": "stdout",
     "output_type": "stream",
     "text": [
      "        Name Plant_Type      Sun_Shade     Flower          Sold_As  \\\n",
      "0       Iris  Perennial       Full Sun       Iris        Bulb Pack   \n",
      "1      Peony  Perennial       Full Sun      Peony        Root Pack   \n",
      "2    Petunia     Annual    Partial Sun    Petunia   Container Pack   \n",
      "3    Petunia     Annual    Partial Sun    Petunia  Mixed Container   \n",
      "4  Impatiens     Annual  Partial Shade  Impatiens   Container Pack   \n",
      "\n",
      "   Amt_Package  \n",
      "0           25  \n",
      "1            5  \n",
      "2            4  \n",
      "3            1  \n",
      "4            4  \n"
     ]
    }
   ],
   "source": [
    "# Code Option 2 here:\n",
    "\n",
    "import pandas as pd\n",
    "\n",
    "flowers = pd.DataFrame({\n",
    "    \"Name\": [\"Iris\", \"Peony\", \"Daisy\", \"Petunia\", \"Impatiens\", \"Creeping Myrtle\"],\n",
    "    \"Plant_Type\": [\"Perennial\", \"Perennial\", \"Annual\", \"Annual\", \"Annual\", \"Perennial\"],\n",
    "    \"Sun_Shade\": [\"Full Sun\", \"Full Sun\", \"Partial Sun\", \"Partial Sun\", \"Partial Shade\", \"Full Shade\"]\n",
    "})\n",
    "\n",
    "garden_supply = pd.DataFrame({\n",
    "    \"Flower\": [\"Daylily\", \"Iris\", \"Peony\", \"Petunia\", \"Petunia\", \"Impatiens\", \"Coneflower\"],\n",
    "    \"Sold_As\": [\"Container\", \"Bulb Pack\", \"Root Pack\", \"Container Pack\", \"Mixed Container\", \"Container Pack\", \"Container\"],\n",
    "    \"Amt_Package\": [1, 25, 5, 4, 1, 4, 1]\n",
    "})\n",
    "\n",
    "table_merge = flowers.merge(garden_supply, left_on=\"Name\", right_on=\"Flower\")\n",
    "\n",
    "print(table_merge)"
   ]
  },
  {
   "cell_type": "markdown",
   "id": "7badc6e0",
   "metadata": {},
   "source": [
    "### Sytnax Exploring:\n",
    "Using the syntax in Option 2, perform the same merge, but this time *garden_supply* on the left and *flowers* on the right.  What do you notice?"
   ]
  },
  {
   "cell_type": "code",
<<<<<<< HEAD
   "execution_count": 31,
=======
   "execution_count": null,
>>>>>>> upstream/main
   "id": "0e3dc0da",
   "metadata": {},
   "outputs": [
    {
     "name": "stdout",
     "output_type": "stream",
     "text": [
      "      Flower          Sold_As  Amt_Package       Name Plant_Type  \\\n",
      "0       Iris        Bulb Pack           25       Iris  Perennial   \n",
      "1      Peony        Root Pack            5      Peony  Perennial   \n",
      "2    Petunia   Container Pack            4    Petunia     Annual   \n",
      "3    Petunia  Mixed Container            1    Petunia     Annual   \n",
      "4  Impatiens   Container Pack            4  Impatiens     Annual   \n",
      "\n",
      "       Sun_Shade  \n",
      "0       Full Sun  \n",
      "1       Full Sun  \n",
      "2    Partial Sun  \n",
      "3    Partial Sun  \n",
      "4  Partial Shade  \n"
     ]
    }
   ],
   "source": [
    "#  Code your Syntax Exploration here:\n",
    "\n",
    "import pandas as pd\n",
    "\n",
    "garden_supply = pd.DataFrame({\n",
    "    \"Flower\": [\"Daylily\", \"Iris\", \"Peony\", \"Petunia\", \"Petunia\", \"Impatiens\", \"Coneflower\"],\n",
    "    \"Sold_As\": [\"Container\", \"Bulb Pack\", \"Root Pack\", \"Container Pack\", \"Mixed Container\", \"Container Pack\", \"Container\"],\n",
    "    \"Amt_Package\": [1, 25, 5, 4, 1, 4, 1]\n",
    "})\n",
    "\n",
    "flowers = pd.DataFrame({\n",
    "    \"Name\": [\"Iris\", \"Peony\", \"Daisy\", \"Petunia\", \"Impatiens\", \"Creeping Myrtle\"],\n",
    "    \"Plant_Type\": [\"Perennial\", \"Perennial\", \"Annual\", \"Annual\", \"Annual\", \"Perennial\"],\n",
    "    \"Sun_Shade\": [\"Full Sun\", \"Full Sun\", \"Partial Sun\", \"Partial Sun\", \"Partial Shade\", \"Full Shade\"]\n",
    "})\n",
    "\n",
    "syntax_option = garden_supply.merge(flowers, left_on=\"Flower\", right_on=\"Name\")\n",
    "\n",
    "print(syntax_option)"
   ]
  },
  {
   "cell_type": "markdown",
   "id": "d653bc84",
   "metadata": {},
   "source": [
    "<span style=\"background-color:dodgerblue; color:dodgerblue;\">- - - - - - - - - - - - - - - - - - - - - - - - - - - - - - - - - - - - - - - - - - - - - - - - - - - - - - - - - - - - - - - - - - - - - - - - - - - - - - - - - - - - - - - - -</span> "
   ]
  },
  {
   "cell_type": "markdown",
   "id": "518b0605",
   "metadata": {},
   "source": [
    "# Part 4:  Types of Merges \n",
    "\n",
    "Merging is another way of providing you with ways to explore and understand your data.  Merging the entire table is great if the table is small, like our current example.  But think back to the data sets you have worked with so far.  Some have over a dozen columns.  \n",
    "\n",
    "Merging works by creating a new table from related items.  There are 4 main types of merges that we are going to begin exploring: *inner, left, right, outer.* \n",
    "\n",
    "The syntax for merge(): **DataFrame.merge(right, how='inner', on=None, left_on=None, right_on=None, left_index=False, right_index=False, sort=False, suffixes=('_x', '_y'), copy=True, indicator=False, validate=None)** [source](https://pandas.pydata.org/pandas-docs/stable/reference/api/pandas.DataFrame.merge.html)\n",
    "\n",
    "As we explore the types of merges, we are going to focus on the following parameters: **how**, **left_on**, **right_on**.  \n",
    "\n",
    "Pandas documentation for **how**:\n",
    "> **how : {‘left’, ‘right’, ‘outer’, ‘inner’, ‘cross’}, default ‘inner’**\n",
    ">> Type of merge to be performed.\n",
    ">> - **left**: use only keys from left frame, similar to a SQL left outer join; preserve key order.\n",
    ">> - **right**: use only keys from right frame, similar to a SQL right outer join; preserve key order.\n",
    ">> - **outer**: use union of keys from both frames, similar to a SQL full outer join; sort keys lexicographically.\n",
    ">> - **inner**: use intersection of keys from both frames, similar to a SQL inner join; preserve the order of the left keys.\n",
    "\n",
    "[source](https://pandas.pydata.org/pandas-docs/stable/reference/api/pandas.DataFrame.merge.html)\n",
    "\n",
    "*Note*: SQL is a language designed for working with databases.  Depending on the lesson order for this cohort, you will have already become familiar with SQL. Otherwise, it will be covered in-depth in upcoming lessons.\n",
    "\n",
    "Pandas documentation for **left_on** and **right_on**:\n",
    ">**left_on**: label or list, or array-like\n",
    ">>Column or index level names to join on in the left DataFrame. Can also be an array or list of arrays of the length of the left DataFrame. These arrays are treated as if they are columns.\n",
    "\n",
    ">**right_on**: label or list, or array-like\n",
    ">>Column or index level names to join on in the right DataFrame. Can also be an array or list of arrays of the length of the right DataFrame. These arrays are treated as if they are columns.\n",
    "\n",
    "[source](https://pandas.pydata.org/pandas-docs/stable/reference/api/pandas.DataFrame.merge.html)\n",
    "\n",
    "*Note*:  We will add the following parameter, **indicator**, to help us visualize how the tables are being merged together.  You will see a new column added because of this parameter, **_merge**.  "
   ]
  },
  {
   "cell_type": "markdown",
   "id": "bb99662c",
   "metadata": {},
   "source": [
    "### Before you begin merging  \n",
    "You can decide which way you want them to merge **on**.  You can decide to use the table where you renamed your columns, or you can keep your tables as they are and use the **left_on** and **right_on** parameters.  If you are not sure, try both options and see which you like best."
   ]
  },
  {
   "cell_type": "markdown",
   "id": "d3caac1e",
   "metadata": {},
   "source": [
    "## 4a: Inner Merge"
   ]
  },
  {
   "cell_type": "code",
<<<<<<< HEAD
   "execution_count": 32,
   "id": "3f868d9a",
   "metadata": {},
   "outputs": [
    {
     "data": {
      "text/html": [
       "<div>\n",
       "<style scoped>\n",
       "    .dataframe tbody tr th:only-of-type {\n",
       "        vertical-align: middle;\n",
       "    }\n",
       "\n",
       "    .dataframe tbody tr th {\n",
       "        vertical-align: top;\n",
       "    }\n",
       "\n",
       "    .dataframe thead th {\n",
       "        text-align: right;\n",
       "    }\n",
       "</style>\n",
       "<table border=\"1\" class=\"dataframe\">\n",
       "  <thead>\n",
       "    <tr style=\"text-align: right;\">\n",
       "      <th></th>\n",
       "      <th>Name</th>\n",
       "      <th>Plant_Type</th>\n",
       "      <th>Sun_Shade</th>\n",
       "      <th>Flower</th>\n",
       "      <th>Sold_As</th>\n",
       "      <th>Amt_Package</th>\n",
       "      <th>_merge</th>\n",
       "    </tr>\n",
       "  </thead>\n",
       "  <tbody>\n",
       "    <tr>\n",
       "      <th>0</th>\n",
       "      <td>Iris</td>\n",
       "      <td>Perennial</td>\n",
       "      <td>Full Sun</td>\n",
       "      <td>Iris</td>\n",
       "      <td>Bulb Pack</td>\n",
       "      <td>25</td>\n",
       "      <td>both</td>\n",
       "    </tr>\n",
       "    <tr>\n",
       "      <th>1</th>\n",
       "      <td>Peony</td>\n",
       "      <td>Perennial</td>\n",
       "      <td>Full Sun</td>\n",
       "      <td>Peony</td>\n",
       "      <td>Root Pack</td>\n",
       "      <td>5</td>\n",
       "      <td>both</td>\n",
       "    </tr>\n",
       "    <tr>\n",
       "      <th>2</th>\n",
       "      <td>Petunia</td>\n",
       "      <td>Annual</td>\n",
       "      <td>Partial Sun</td>\n",
       "      <td>Petunia</td>\n",
       "      <td>Container Pack</td>\n",
       "      <td>4</td>\n",
       "      <td>both</td>\n",
       "    </tr>\n",
       "    <tr>\n",
       "      <th>3</th>\n",
       "      <td>Petunia</td>\n",
       "      <td>Annual</td>\n",
       "      <td>Partial Sun</td>\n",
       "      <td>Petunia</td>\n",
       "      <td>Mixed Container</td>\n",
       "      <td>1</td>\n",
       "      <td>both</td>\n",
       "    </tr>\n",
       "    <tr>\n",
       "      <th>4</th>\n",
       "      <td>Impatiens</td>\n",
       "      <td>Annual</td>\n",
       "      <td>Partial Shade</td>\n",
       "      <td>Impatiens</td>\n",
       "      <td>Container Pack</td>\n",
       "      <td>4</td>\n",
       "      <td>both</td>\n",
       "    </tr>\n",
       "  </tbody>\n",
       "</table>\n",
       "</div>"
      ],
      "text/plain": [
       "        Name Plant_Type      Sun_Shade     Flower          Sold_As  \\\n",
       "0       Iris  Perennial       Full Sun       Iris        Bulb Pack   \n",
       "1      Peony  Perennial       Full Sun      Peony        Root Pack   \n",
       "2    Petunia     Annual    Partial Sun    Petunia   Container Pack   \n",
       "3    Petunia     Annual    Partial Sun    Petunia  Mixed Container   \n",
       "4  Impatiens     Annual  Partial Shade  Impatiens   Container Pack   \n",
       "\n",
       "   Amt_Package _merge  \n",
       "0           25   both  \n",
       "1            5   both  \n",
       "2            4   both  \n",
       "3            1   both  \n",
       "4            4   both  "
      ]
     },
     "execution_count": 32,
     "metadata": {},
     "output_type": "execute_result"
    }
   ],
=======
   "execution_count": null,
   "id": "3f868d9a",
   "metadata": {},
   "outputs": [],
>>>>>>> upstream/main
   "source": [
    "inner = pd.merge(flowers, garden_supply, how=\"inner\", left_on=\"Name\", right_on=\"Flower\", indicator=True)\n",
    "inner"
   ]
  },
  {
   "cell_type": "code",
   "execution_count": null,
   "id": "1033af35",
   "metadata": {},
   "outputs": [],
   "source": [
    "# Explain this table.  Why these values, when \n",
    "\n",
    "# this table is a result from a inner merge between flower and garden supply DF. The table intersect\n",
    "# datasets where data is common. "
   ]
  },
  {
   "cell_type": "markdown",
   "id": "80a2e0cb",
   "metadata": {},
   "source": [
    "## 4b: Left Merge"
   ]
  },
  {
   "cell_type": "code",
<<<<<<< HEAD
   "execution_count": 38,
=======
   "execution_count": null,
>>>>>>> upstream/main
   "id": "e6eabfbc",
   "metadata": {},
   "outputs": [
    {
     "name": "stdout",
     "output_type": "stream",
     "text": [
      "            Flower Plant_Type      Sun_Shade          Sold_As  Amt_Package  \\\n",
      "0             Iris  Perennial       Full Sun        Bulb Pack         25.0   \n",
      "1            Peony  Perennial       Full Sun        Root Pack          5.0   \n",
      "2            Daisy     Annual    Partial Sun              NaN          NaN   \n",
      "3          Petunia     Annual    Partial Sun   Container Pack          4.0   \n",
      "4          Petunia     Annual    Partial Sun  Mixed Container          1.0   \n",
      "5        Impatiens     Annual  Partial Shade   Container Pack          4.0   \n",
      "6  Creeping Myrtle  Perennial     Full Shade              NaN          NaN   \n",
      "\n",
      "      _merge  \n",
      "0       both  \n",
      "1       both  \n",
      "2  left_only  \n",
      "3       both  \n",
      "4       both  \n",
      "5       both  \n",
      "6  left_only  \n"
     ]
    },
    {
     "data": {
      "text/html": [
       "<div>\n",
       "<style scoped>\n",
       "    .dataframe tbody tr th:only-of-type {\n",
       "        vertical-align: middle;\n",
       "    }\n",
       "\n",
       "    .dataframe tbody tr th {\n",
       "        vertical-align: top;\n",
       "    }\n",
       "\n",
       "    .dataframe thead th {\n",
       "        text-align: right;\n",
       "    }\n",
       "</style>\n",
       "<table border=\"1\" class=\"dataframe\">\n",
       "  <thead>\n",
       "    <tr style=\"text-align: right;\">\n",
       "      <th></th>\n",
       "      <th>Flower</th>\n",
       "      <th>Plant_Type</th>\n",
       "      <th>Sun_Shade</th>\n",
       "      <th>Sold_As</th>\n",
       "      <th>Amt_Package</th>\n",
       "      <th>_merge</th>\n",
       "    </tr>\n",
       "  </thead>\n",
       "  <tbody>\n",
       "    <tr>\n",
       "      <th>0</th>\n",
       "      <td>Iris</td>\n",
       "      <td>Perennial</td>\n",
       "      <td>Full Sun</td>\n",
       "      <td>Bulb Pack</td>\n",
       "      <td>25.0</td>\n",
       "      <td>both</td>\n",
       "    </tr>\n",
       "    <tr>\n",
       "      <th>1</th>\n",
       "      <td>Peony</td>\n",
       "      <td>Perennial</td>\n",
       "      <td>Full Sun</td>\n",
       "      <td>Root Pack</td>\n",
       "      <td>5.0</td>\n",
       "      <td>both</td>\n",
       "    </tr>\n",
       "    <tr>\n",
       "      <th>2</th>\n",
       "      <td>Daisy</td>\n",
       "      <td>Annual</td>\n",
       "      <td>Partial Sun</td>\n",
       "      <td>NaN</td>\n",
       "      <td>NaN</td>\n",
       "      <td>left_only</td>\n",
       "    </tr>\n",
       "    <tr>\n",
       "      <th>3</th>\n",
       "      <td>Petunia</td>\n",
       "      <td>Annual</td>\n",
       "      <td>Partial Sun</td>\n",
       "      <td>Container Pack</td>\n",
       "      <td>4.0</td>\n",
       "      <td>both</td>\n",
       "    </tr>\n",
       "    <tr>\n",
       "      <th>4</th>\n",
       "      <td>Petunia</td>\n",
       "      <td>Annual</td>\n",
       "      <td>Partial Sun</td>\n",
       "      <td>Mixed Container</td>\n",
       "      <td>1.0</td>\n",
       "      <td>both</td>\n",
       "    </tr>\n",
       "    <tr>\n",
       "      <th>5</th>\n",
       "      <td>Impatiens</td>\n",
       "      <td>Annual</td>\n",
       "      <td>Partial Shade</td>\n",
       "      <td>Container Pack</td>\n",
       "      <td>4.0</td>\n",
       "      <td>both</td>\n",
       "    </tr>\n",
       "    <tr>\n",
       "      <th>6</th>\n",
       "      <td>Creeping Myrtle</td>\n",
       "      <td>Perennial</td>\n",
       "      <td>Full Shade</td>\n",
       "      <td>NaN</td>\n",
       "      <td>NaN</td>\n",
       "      <td>left_only</td>\n",
       "    </tr>\n",
       "  </tbody>\n",
       "</table>\n",
       "</div>"
      ],
      "text/plain": [
       "            Flower Plant_Type      Sun_Shade          Sold_As  Amt_Package  \\\n",
       "0             Iris  Perennial       Full Sun        Bulb Pack         25.0   \n",
       "1            Peony  Perennial       Full Sun        Root Pack          5.0   \n",
       "2            Daisy     Annual    Partial Sun              NaN          NaN   \n",
       "3          Petunia     Annual    Partial Sun   Container Pack          4.0   \n",
       "4          Petunia     Annual    Partial Sun  Mixed Container          1.0   \n",
       "5        Impatiens     Annual  Partial Shade   Container Pack          4.0   \n",
       "6  Creeping Myrtle  Perennial     Full Shade              NaN          NaN   \n",
       "\n",
       "      _merge  \n",
       "0       both  \n",
       "1       both  \n",
       "2  left_only  \n",
       "3       both  \n",
       "4       both  \n",
       "5       both  \n",
       "6  left_only  "
      ]
     },
     "execution_count": 38,
     "metadata": {},
     "output_type": "execute_result"
    }
   ],
   "source": [
    "# Create a left merge table:\n",
    "\n",
    "flowers = pd.DataFrame({\n",
    "    \"Flower\": [\"Iris\", \"Peony\", \"Daisy\", \"Petunia\", \"Impatiens\", \"Creeping Myrtle\"],\n",
    "    \"Plant_Type\": [\"Perennial\", \"Perennial\", \"Annual\", \"Annual\", \"Annual\", \"Perennial\"],\n",
    "    \"Sun_Shade\": [\"Full Sun\", \"Full Sun\", \"Partial Sun\", \"Partial Sun\", \"Partial Shade\", \"Full Shade\"]\n",
    "})\n",
    "\n",
    "garden_supply = pd.DataFrame({\n",
    "    \"Flower\": [\"Daylily\", \"Iris\", \"Peony\", \"Petunia\", \"Petunia\", \"Impatiens\", \"Coneflower\"],\n",
    "    \"Sold_As\": [\"Container\", \"Bulb Pack\", \"Root Pack\", \"Container Pack\", \"Mixed Container\", \"Container Pack\", \"Container\"],\n",
    "    \"Amt_Package\": [1, 25, 5, 4, 1, 4, 1]\n",
    "})\n",
    "\n",
    "left_merge = flowers.merge(garden_supply, how=\"left\", on=\"Flower\", indicator=True)\n",
    "\n",
    "left_merge"
   ]
  },
  {
   "cell_type": "markdown",
   "id": "fd4dc955",
   "metadata": {},
   "source": [
    "## 4c: Right Merge"
   ]
  },
  {
   "cell_type": "code",
   "execution_count": null,
   "id": "48eac82a",
   "metadata": {},
   "outputs": [],
   "source": [
    "right = pd.merge(flowers, garden_supply, how=\"right\", left_on=\"Name\", right_on=\"Flower\", indicator=True)\n",
    "right"
   ]
  },
  {
   "cell_type": "code",
   "execution_count": null,
   "id": "18f4c32b",
   "metadata": {},
   "outputs": [],
   "source": [
    "# The syntax for right merge has been provided.\n",
    "# In your own words, explain how it is different from the left merge in 4b:\n",
    "\n",
    "# right merge ensures that the data from the right DF is included in the results of the merged table\n",
    "# left merge emphasized on thte lefe DF in the resulting table\n",
    "# if either the left or right merge have corresponding matches are merged and if not they resulting table\n",
    "# will still record with NaN values for missing data. "
   ]
  },
  {
   "cell_type": "markdown",
   "id": "62702b32",
   "metadata": {},
   "source": [
    "## Outer Merge"
   ]
  },
  {
   "cell_type": "code",
<<<<<<< HEAD
   "execution_count": 40,
=======
   "execution_count": null,
>>>>>>> upstream/main
   "id": "23599c22",
   "metadata": {},
   "outputs": [],
   "source": [
    "# Create an outer merge table here:\n",
    "\n",
    "outer_merge = pd.merge(flowers, garden_supply, how=\"outer\", left_on=\"Name\", right_on=\"Flower\", indicator=True)\n",
    "print(outer_merge)"
   ]
  },
  {
   "cell_type": "markdown",
   "id": "d304c06a",
   "metadata": {},
   "source": [
    "## Anti_Merge\n",
    "\n",
    "An **Anti Merge** is a merge based on what is leftout.  This is not an actual table, but you can create one with a little code and logic.  Read through the code below to see one way to create an anti-table."
   ]
  },
  {
   "cell_type": "code",
<<<<<<< HEAD
   "execution_count": 46,
   "id": "20502209",
   "metadata": {},
   "outputs": [
    {
     "name": "stdout",
     "output_type": "stream",
     "text": [
      "  key  value_x\n",
      "0   A        1\n",
      "2   C        3\n"
     ]
    }
   ],
=======
   "execution_count": null,
   "id": "20502209",
   "metadata": {},
   "outputs": [],
>>>>>>> upstream/main
   "source": [
    "# left_join = flowers.merge(garden_supply, how=\"left\", left_on=\"Name\", right_on=\"Flower\", indicator=True)\n",
    "# left_join\n",
    "\n",
    "import pandas as pd\n",
    "\n",
    "df1 = pd.DataFrame({\n",
    "    'key': ['A', 'B', 'C', 'D'],\n",
    "    'value': [1, 2, 3, 4]\n",
    "})\n",
    "\n",
    "df2 = pd.DataFrame({\n",
    "    'key': ['B', 'D', 'E', 'F'],\n",
    "    'value': [2, 4, 6, 8]\n",
    "})\n",
    "\n",
    "left_join = df1.merge(df2, on='key', how='left', indicator=True)\n",
    "\n",
    "anti_merge = left_join[left_join['_merge'] == 'left_only']\n",
    "\n",
    "print(anti_merge[['key', 'value_x']])"
   ]
  },
  {
   "cell_type": "code",
<<<<<<< HEAD
   "execution_count": 50,
   "id": "187fe03d",
   "metadata": {},
   "outputs": [
    {
     "name": "stdout",
     "output_type": "stream",
     "text": [
      "2              Daisy\n",
      "6    Creeping Myrtle\n",
      "Name: Name, dtype: object\n"
     ]
    }
   ],
=======
   "execution_count": null,
   "id": "187fe03d",
   "metadata": {},
   "outputs": [],
>>>>>>> upstream/main
   "source": [
    "# left_only = left_join.loc[left_join[\"_merge\"] ==\"left_only\", \"Name\"]\n",
    "# left_only\n",
    "\n",
    "import pandas as pd\n",
    "\n",
    "flowers = pd.DataFrame({\n",
    "    \"Name\": [\"Iris\", \"Peony\", \"Daisy\", \"Petunia\", \"Impatiens\", \"Creeping Myrtle\"], \n",
    "    \"Plant_Type\": [\"Perennial\", \"Perennial\", \"Annual\", \"Annual\", \"Annual\", \"Perennial\"],\n",
    "    \"Sun_Shade\": [\"Full Sun\", \"Full Sun\", \"Partial Sun\", \"Partial Sun\", \"Partial Shade\", \"Full Shade\"]\n",
    "})\n",
    "\n",
    "garden_supply = pd.DataFrame({\n",
    "    \"Flower\": [\"Daylily\", \"Iris\", \"Peony\", \"Petunia\", \"Petunia\", \"Impatiens\", \"Coneflower\"],\n",
    "    \"Sold_As\": [\"Container\", \"Bulb Pack\", \"Root Pack\", \"Container Pack\", \"Mixed Container\", \"Container Pack\", \"Container\"],\n",
    "    \"Amt_Package\": [1, 25, 5, 4, 1, 4, 1]\n",
    "})\n",
    "\n",
    "left_join = flowers.merge(garden_supply, how=\"left\", left_on=\"Name\", right_on=\"Flower\", indicator=True)\n",
    "\n",
    "left_only = left_join[left_join['_merge'] == 'left_only']\n",
    "\n",
    "\n",
    "print(left_only['Name'])\n",
    "\n"
   ]
  },
  {
   "cell_type": "code",
<<<<<<< HEAD
   "execution_count": 51,
   "id": "a71c3a6a",
   "metadata": {},
   "outputs": [
    {
     "name": "stdout",
     "output_type": "stream",
     "text": [
      "              Name Plant_Type    Sun_Shade\n",
      "2            Daisy     Annual  Partial Sun\n",
      "5  Creeping Myrtle  Perennial   Full Shade\n"
     ]
    }
   ],
=======
   "execution_count": null,
   "id": "a71c3a6a",
   "metadata": {},
   "outputs": [],
>>>>>>> upstream/main
   "source": [
    "# left_only_flowers=flowers[flowers[\"Name\"].isin(left_only)]\n",
    "# left_only_flowers\n",
    "\n",
    "import pandas as pd\n",
    "\n",
    "left_join = flowers.merge(garden_supply, how=\"left\", left_on=\"Name\", right_on=\"Flower\", indicator=True)\n",
    "left_only = left_join[left_join['_merge'] == 'left_only']\n",
    "\n",
    "left_only_flowers = flowers[flowers[\"Name\"].isin(left_only['Name'])]\n",
    "\n",
    "print(left_only_flowers)"
   ]
  },
  {
   "cell_type": "code",
   "execution_count": null,
   "id": "ec84d2db",
   "metadata": {},
   "outputs": [],
   "source": [
    "# In your own words, how did we create the \"left_only_flowers\" table?  \n",
    "# How does the syntax work?  \n",
    "\n",
    "# To create the left only flowers table, we merged two data tables and filtered one table based on the \n",
    "# results of the merge. So we just used merge functions and perform filtering based on the relationship \n",
    "# between the two datasets"
   ]
  },
  {
   "cell_type": "markdown",
   "id": "e4e74e53",
   "metadata": {},
   "source": [
    "<span style=\"background-color:dodgerblue; color:dodgerblue;\">- - - - - - - - - - - - - - - - - - - - - - - - - - - - - - - - - - - - - - - - - - - - - - - - - - - - - - - - - - - - - - - - - - - - - - - - - - - - - - - - - - - - - - - - -</span> "
   ]
  },
  {
   "cell_type": "markdown",
   "id": "c08565e0",
   "metadata": {},
   "source": [
    "# Part 5: Join\n",
    "\n",
    "Reading List:\n",
    "1. [Pandas Join vs. Merge](https://towardsdatascience.com/pandas-join-vs-merge-c365fd4fbf49)\n",
    "1. [pandas.DataFrame.join](https://pandas.pydata.org/docs/reference/api/pandas.DataFrame.join.html)"
   ]
  },
  {
   "cell_type": "markdown",
   "id": "14c4a89a",
   "metadata": {},
   "source": [
    "The pandas library also contains a join method.  It has fewer parameters than merge, but can still be useful.\n",
    "\n",
    "The parameter that we are going to look at in this last section is **how**.\n",
    "\n",
    "From the pandas documentation:\n",
    "\n",
    "> **how : {‘left’, ‘right’, ‘outer’, ‘inner’}, default ‘left’:**\n",
    ">> How to handle the operation of the two objects.\n",
    ">> - **left**: use calling frame’s index (or column if on is specified)\n",
    ">> - **right**: use other frame's index.\n",
    ">> - **outer**: form union of calling frame’s index (or column if **on** is specified) with other frame's index, and sort it lexicographically.\n",
    ">> - **inner**: form intersection of calling frame’s index (or column if **on** is specified) with other frame's index, preserving the order of the returned data using the calling frame's order.\n",
    "\n"
   ]
  },
  {
   "cell_type": "code",
   "execution_count": 52,
   "id": "d21a3d0b",
   "metadata": {},
   "outputs": [
    {
     "data": {
      "text/html": [
       "<div>\n",
       "<style scoped>\n",
       "    .dataframe tbody tr th:only-of-type {\n",
       "        vertical-align: middle;\n",
       "    }\n",
       "\n",
       "    .dataframe tbody tr th {\n",
       "        vertical-align: top;\n",
       "    }\n",
       "\n",
       "    .dataframe thead th {\n",
       "        text-align: right;\n",
       "    }\n",
       "</style>\n",
       "<table border=\"1\" class=\"dataframe\">\n",
       "  <thead>\n",
       "    <tr style=\"text-align: right;\">\n",
       "      <th></th>\n",
       "      <th>Name</th>\n",
       "      <th>Plant_Type</th>\n",
       "      <th>Sun_Shade</th>\n",
       "      <th>Flower</th>\n",
       "      <th>Sold_As</th>\n",
       "      <th>Amt_Package</th>\n",
       "    </tr>\n",
       "  </thead>\n",
       "  <tbody>\n",
       "    <tr>\n",
       "      <th>0</th>\n",
       "      <td>Iris</td>\n",
       "      <td>Perennial</td>\n",
       "      <td>Full Sun</td>\n",
       "      <td>Daylily</td>\n",
       "      <td>Container</td>\n",
       "      <td>1</td>\n",
       "    </tr>\n",
       "    <tr>\n",
       "      <th>1</th>\n",
       "      <td>Peony</td>\n",
       "      <td>Perennial</td>\n",
       "      <td>Full Sun</td>\n",
       "      <td>Iris</td>\n",
       "      <td>Bulb Pack</td>\n",
       "      <td>25</td>\n",
       "    </tr>\n",
       "    <tr>\n",
       "      <th>2</th>\n",
       "      <td>Daisy</td>\n",
       "      <td>Annual</td>\n",
       "      <td>Partial Sun</td>\n",
       "      <td>Peony</td>\n",
       "      <td>Root Pack</td>\n",
       "      <td>5</td>\n",
       "    </tr>\n",
       "    <tr>\n",
       "      <th>3</th>\n",
       "      <td>Petunia</td>\n",
       "      <td>Annual</td>\n",
       "      <td>Partial Sun</td>\n",
       "      <td>Petunia</td>\n",
       "      <td>Container Pack</td>\n",
       "      <td>4</td>\n",
       "    </tr>\n",
       "    <tr>\n",
       "      <th>4</th>\n",
       "      <td>Impatiens</td>\n",
       "      <td>Annual</td>\n",
       "      <td>Partial Shade</td>\n",
       "      <td>Petunia</td>\n",
       "      <td>Mixed Container</td>\n",
       "      <td>1</td>\n",
       "    </tr>\n",
       "    <tr>\n",
       "      <th>5</th>\n",
       "      <td>Creeping Myrtle</td>\n",
       "      <td>Perennial</td>\n",
       "      <td>Full Shade</td>\n",
       "      <td>Impatiens</td>\n",
       "      <td>Container Pack</td>\n",
       "      <td>4</td>\n",
       "    </tr>\n",
       "  </tbody>\n",
       "</table>\n",
       "</div>"
      ],
      "text/plain": [
       "              Name Plant_Type      Sun_Shade     Flower          Sold_As  \\\n",
       "0             Iris  Perennial       Full Sun    Daylily        Container   \n",
       "1            Peony  Perennial       Full Sun       Iris        Bulb Pack   \n",
       "2            Daisy     Annual    Partial Sun      Peony        Root Pack   \n",
       "3          Petunia     Annual    Partial Sun    Petunia   Container Pack   \n",
       "4        Impatiens     Annual  Partial Shade    Petunia  Mixed Container   \n",
       "5  Creeping Myrtle  Perennial     Full Shade  Impatiens   Container Pack   \n",
       "\n",
       "   Amt_Package  \n",
       "0            1  \n",
       "1           25  \n",
       "2            5  \n",
       "3            4  \n",
       "4            1  \n",
       "5            4  "
      ]
     },
     "execution_count": 52,
     "metadata": {},
     "output_type": "execute_result"
    }
   ],
   "source": [
    "join = flowers.join(garden_supply)\n",
    "join"
   ]
  },
  {
   "cell_type": "code",
   "execution_count": 55,
   "id": "a7cfda58",
   "metadata": {},
   "outputs": [],
   "source": [
    "# create a \"join_outer\" table that outer joins garden_supply and flowers:\n",
    "\n",
    "# run you table:\n"
   ]
  },
  {
   "cell_type": "code",
   "execution_count": 53,
   "id": "713b4362",
   "metadata": {},
   "outputs": [
    {
     "data": {
      "text/html": [
       "<div>\n",
       "<style scoped>\n",
       "    .dataframe tbody tr th:only-of-type {\n",
       "        vertical-align: middle;\n",
       "    }\n",
       "\n",
       "    .dataframe tbody tr th {\n",
       "        vertical-align: top;\n",
       "    }\n",
       "\n",
       "    .dataframe thead th {\n",
       "        text-align: right;\n",
       "    }\n",
       "</style>\n",
       "<table border=\"1\" class=\"dataframe\">\n",
       "  <thead>\n",
       "    <tr style=\"text-align: right;\">\n",
       "      <th></th>\n",
       "      <th>Flower</th>\n",
       "      <th>Sold_As</th>\n",
       "      <th>Amt_Package</th>\n",
       "      <th>Name</th>\n",
       "      <th>Plant_Type</th>\n",
       "      <th>Sun_Shade</th>\n",
       "    </tr>\n",
       "  </thead>\n",
       "  <tbody>\n",
       "    <tr>\n",
       "      <th>0</th>\n",
       "      <td>Daylily</td>\n",
       "      <td>Container</td>\n",
       "      <td>1</td>\n",
       "      <td>Iris</td>\n",
       "      <td>Perennial</td>\n",
       "      <td>Full Sun</td>\n",
       "    </tr>\n",
       "    <tr>\n",
       "      <th>1</th>\n",
       "      <td>Iris</td>\n",
       "      <td>Bulb Pack</td>\n",
       "      <td>25</td>\n",
       "      <td>Peony</td>\n",
       "      <td>Perennial</td>\n",
       "      <td>Full Sun</td>\n",
       "    </tr>\n",
       "    <tr>\n",
       "      <th>2</th>\n",
       "      <td>Peony</td>\n",
       "      <td>Root Pack</td>\n",
       "      <td>5</td>\n",
       "      <td>Daisy</td>\n",
       "      <td>Annual</td>\n",
       "      <td>Partial Sun</td>\n",
       "    </tr>\n",
       "    <tr>\n",
       "      <th>3</th>\n",
       "      <td>Petunia</td>\n",
       "      <td>Container Pack</td>\n",
       "      <td>4</td>\n",
       "      <td>Petunia</td>\n",
       "      <td>Annual</td>\n",
       "      <td>Partial Sun</td>\n",
       "    </tr>\n",
       "    <tr>\n",
       "      <th>4</th>\n",
       "      <td>Petunia</td>\n",
       "      <td>Mixed Container</td>\n",
       "      <td>1</td>\n",
       "      <td>Impatiens</td>\n",
       "      <td>Annual</td>\n",
       "      <td>Partial Shade</td>\n",
       "    </tr>\n",
       "    <tr>\n",
       "      <th>5</th>\n",
       "      <td>Impatiens</td>\n",
       "      <td>Container Pack</td>\n",
       "      <td>4</td>\n",
       "      <td>Creeping Myrtle</td>\n",
       "      <td>Perennial</td>\n",
       "      <td>Full Shade</td>\n",
       "    </tr>\n",
       "    <tr>\n",
       "      <th>6</th>\n",
       "      <td>Coneflower</td>\n",
       "      <td>Container</td>\n",
       "      <td>1</td>\n",
       "      <td>NaN</td>\n",
       "      <td>NaN</td>\n",
       "      <td>NaN</td>\n",
       "    </tr>\n",
       "  </tbody>\n",
       "</table>\n",
       "</div>"
      ],
      "text/plain": [
       "       Flower          Sold_As  Amt_Package             Name Plant_Type  \\\n",
       "0     Daylily        Container            1             Iris  Perennial   \n",
       "1        Iris        Bulb Pack           25            Peony  Perennial   \n",
       "2       Peony        Root Pack            5            Daisy     Annual   \n",
       "3     Petunia   Container Pack            4          Petunia     Annual   \n",
       "4     Petunia  Mixed Container            1        Impatiens     Annual   \n",
       "5   Impatiens   Container Pack            4  Creeping Myrtle  Perennial   \n",
       "6  Coneflower        Container            1              NaN        NaN   \n",
       "\n",
       "       Sun_Shade  \n",
       "0       Full Sun  \n",
       "1       Full Sun  \n",
       "2    Partial Sun  \n",
       "3    Partial Sun  \n",
       "4  Partial Shade  \n",
       "5     Full Shade  \n",
       "6            NaN  "
      ]
     },
     "execution_count": 53,
     "metadata": {},
     "output_type": "execute_result"
    }
   ],
   "source": [
    "# SOLUTION\n",
    "join_outer = garden_supply.join(flowers, how=\"outer\")\n",
    "join_outer"
   ]
  },
  {
   "cell_type": "code",
   "execution_count": null,
   "id": "46081c3c",
   "metadata": {},
   "outputs": [],
   "source": [
    "# Based on what an outer join does, look closely at the table \"join_outer\".  \n",
    "# Explain how these table elements are indexed.\n",
    "\n",
    "# They are indexed by rows with matching entries and rows without a matching entry"
   ]
  }
 ],
 "metadata": {
  "kernelspec": {
   "display_name": "Python 3",
   "language": "python",
   "name": "python3"
  },
  "language_info": {
   "codemirror_mode": {
    "name": "ipython",
    "version": 3
   },
   "file_extension": ".py",
   "mimetype": "text/x-python",
   "name": "python",
   "nbconvert_exporter": "python",
   "pygments_lexer": "ipython3",
<<<<<<< HEAD
   "version": "3.12.5"
=======
   "version": "3.9.6"
>>>>>>> upstream/main
  }
 },
 "nbformat": 4,
 "nbformat_minor": 5
}
