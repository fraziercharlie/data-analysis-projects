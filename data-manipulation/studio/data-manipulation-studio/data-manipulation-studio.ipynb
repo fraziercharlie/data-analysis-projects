{
 "cells": [
  {
   "cell_type": "markdown",
   "id": "1894ccac",
   "metadata": {},
   "source": [
    "# Data Manipulation Studio\n",
    "\n",
    "For this studio, we will revisit the data set from our last studio. If you recall, California farmers were looking for advice on growing pumpkins. We will use the same [pumpkins dataset](https://www.kaggle.com/usda/a-year-of-pumpkin-prices) as provided by the U.S. Department of Agriculture. You may have to clean data in the process of data manipulation, so feel free to pull up your notebook from the last class's studio.\n",
    "\n",
    "We will now be focusing our attention on a different region in the United States, the Northeast. When you open up the `dataset` folder, you will have 13 CSVs, including the San Francisco and Los Angeles data from the last lesson. The 13 CSVs are each a different terminal market in the United States.\n",
    "\n",
    "A **terminal market** is a central site, often in a metropolitan area, that serves as an assembly and trading place for commodities. Terminal markets for agricultural commodities are usually at or near major transportation hubs. [Definition Source](https://en.wikipedia.org/wiki/Terminal_market#:~:text=A%20terminal%20market%20is%20a,or%20near%20major%20transportation%20hubs)\n",
    "\n",
    "## Getting Started\n",
    "\n",
    "Import the CSVs for each of the following cities: Baltimore, Boston, New York, and Philadelphia. Set up a dataframe for each city."
   ]
  },
  {
   "cell_type": "code",
   "execution_count": 30,
   "id": "66c9a7e7",
   "metadata": {},
   "outputs": [
    {
     "data": {
      "text/plain": [
       "[    Commodity Name  City Name  Type             Package      Variety  \\\n",
       " 0         PUMPKINS  BALTIMORE   NaN        24 inch bins          NaN   \n",
       " 1         PUMPKINS  BALTIMORE   NaN        24 inch bins          NaN   \n",
       " 2         PUMPKINS  BALTIMORE   NaN        24 inch bins  HOWDEN TYPE   \n",
       " 3         PUMPKINS  BALTIMORE   NaN        24 inch bins  HOWDEN TYPE   \n",
       " 4         PUMPKINS  BALTIMORE   NaN        24 inch bins  HOWDEN TYPE   \n",
       " ..             ...        ...   ...                 ...          ...   \n",
       " 148       PUMPKINS  BALTIMORE   NaN  1/2 bushel cartons    MINIATURE   \n",
       " 149       PUMPKINS  BALTIMORE   NaN  1/2 bushel cartons    MINIATURE   \n",
       " 150       PUMPKINS  BALTIMORE   NaN  1/2 bushel cartons    MINIATURE   \n",
       " 151       PUMPKINS  BALTIMORE   NaN  1/2 bushel cartons    MINIATURE   \n",
       " 152       PUMPKINS  BALTIMORE   NaN  1/2 bushel cartons    MINIATURE   \n",
       " \n",
       "     Sub Variety  Grade        Date  Low Price  High Price  ...   Color  \\\n",
       " 0           NaN    NaN  04/29/2017        270       280.0  ...     NaN   \n",
       " 1           NaN    NaN  05/06/2017        270       280.0  ...     NaN   \n",
       " 2           NaN    NaN  09/24/2016        160       160.0  ...     NaN   \n",
       " 3           NaN    NaN  09/24/2016        160       160.0  ...     NaN   \n",
       " 4           NaN    NaN  11/05/2016         90       100.0  ...     NaN   \n",
       " ..          ...    ...         ...        ...         ...  ...     ...   \n",
       " 148         NaN    NaN  09/30/2017         18        18.0  ...  ORANGE   \n",
       " 149         NaN    NaN  09/30/2017         18        18.0  ...  ORANGE   \n",
       " 150  ROUND TYPE    NaN  09/24/2016         15        15.0  ...     NaN   \n",
       " 151  ROUND TYPE    NaN  10/01/2016         15        15.0  ...     NaN   \n",
       " 152  ROUND TYPE    NaN  10/08/2016         15        15.0  ...     NaN   \n",
       " \n",
       "      Environment Unit of Sale  Quality Condition Appearance  Storage Crop  \\\n",
       " 0            NaN          NaN      NaN       NaN        NaN      NaN  NaN   \n",
       " 1            NaN          NaN      NaN       NaN        NaN      NaN  NaN   \n",
       " 2            NaN          NaN      NaN       NaN        NaN      NaN  NaN   \n",
       " 3            NaN          NaN      NaN       NaN        NaN      NaN  NaN   \n",
       " 4            NaN          NaN      NaN       NaN        NaN      NaN  NaN   \n",
       " ..           ...          ...      ...       ...        ...      ...  ...   \n",
       " 148          NaN          NaN      NaN       NaN        NaN      NaN  NaN   \n",
       " 149          NaN          NaN      NaN       NaN        NaN      NaN  NaN   \n",
       " 150          NaN          NaN      NaN       NaN        NaN      NaN  NaN   \n",
       " 151          NaN          NaN      NaN       NaN        NaN      NaN  NaN   \n",
       " 152          NaN          NaN      NaN       NaN        NaN      NaN  NaN   \n",
       " \n",
       "      Repack  Trans Mode  \n",
       " 0         E         NaN  \n",
       " 1         E         NaN  \n",
       " 2         N         NaN  \n",
       " 3         N         NaN  \n",
       " 4         N         NaN  \n",
       " ..      ...         ...  \n",
       " 148       N         NaN  \n",
       " 149       N         NaN  \n",
       " 150       N         NaN  \n",
       " 151       N         NaN  \n",
       " 152       N         NaN  \n",
       " \n",
       " [153 rows x 25 columns],\n",
       "     Commodity Name City Name  Type             Package      Variety  \\\n",
       " 0         PUMPKINS    BOSTON   NaN        36 inch bins  HOWDEN TYPE   \n",
       " 1         PUMPKINS    BOSTON   NaN        36 inch bins  HOWDEN TYPE   \n",
       " 2         PUMPKINS    BOSTON   NaN        36 inch bins  HOWDEN TYPE   \n",
       " 3         PUMPKINS    BOSTON   NaN        36 inch bins  HOWDEN TYPE   \n",
       " 4         PUMPKINS    BOSTON   NaN        36 inch bins  HOWDEN TYPE   \n",
       " ..             ...       ...   ...                 ...          ...   \n",
       " 347       PUMPKINS    BOSTON   NaN  1/2 bushel cartons    MINIATURE   \n",
       " 348       PUMPKINS    BOSTON   NaN  1/2 bushel cartons    MINIATURE   \n",
       " 349       PUMPKINS    BOSTON   NaN  1/2 bushel cartons    MINIATURE   \n",
       " 350       PUMPKINS    BOSTON   NaN  1/2 bushel cartons    MINIATURE   \n",
       " 351       PUMPKINS    BOSTON   NaN  1/2 bushel cartons    MINIATURE   \n",
       " \n",
       "     Sub Variety  Grade        Date  Low Price  High Price  ...   Color  \\\n",
       " 0           NaN    NaN  09/24/2016        160         200  ...  ORANGE   \n",
       " 1           NaN    NaN  09/24/2016        160         200  ...  ORANGE   \n",
       " 2           NaN    NaN  09/24/2016        160         200  ...  ORANGE   \n",
       " 3           NaN    NaN  09/24/2016        160         200  ...  ORANGE   \n",
       " 4           NaN    NaN  09/24/2016        160         180  ...  ORANGE   \n",
       " ..          ...    ...         ...        ...         ...  ...     ...   \n",
       " 347  ROUND TYPE    NaN  10/22/2016         15          18  ...  ORANGE   \n",
       " 348  ROUND TYPE    NaN  10/29/2016         15          18  ...   WHITE   \n",
       " 349  ROUND TYPE    NaN  10/29/2016         15          18  ...  ORANGE   \n",
       " 350  ROUND TYPE    NaN  11/05/2016         15          18  ...   WHITE   \n",
       " 351  ROUND TYPE    NaN  11/05/2016         15          18  ...  ORANGE   \n",
       " \n",
       "      Environment Unit of Sale Quality Condition Appearance  Storage Crop  \\\n",
       " 0            NaN          NaN     NaN       NaN        NaN      NaN  NaN   \n",
       " 1            NaN          NaN     NaN       NaN        NaN      NaN  NaN   \n",
       " 2            NaN          NaN     NaN       NaN        NaN      NaN  NaN   \n",
       " 3            NaN          NaN     NaN       NaN        NaN      NaN  NaN   \n",
       " 4            NaN          NaN     NaN       NaN        NaN      NaN  NaN   \n",
       " ..           ...          ...     ...       ...        ...      ...  ...   \n",
       " 347          NaN          NaN     NaN       NaN        NaN      NaN  NaN   \n",
       " 348          NaN          NaN     NaN       NaN        NaN      NaN  NaN   \n",
       " 349          NaN          NaN     NaN       NaN        NaN      NaN  NaN   \n",
       " 350          NaN          NaN     NaN       NaN        NaN      NaN  NaN   \n",
       " 351          NaN          NaN     NaN       NaN        NaN      NaN  NaN   \n",
       " \n",
       "      Repack  Trans Mode  \n",
       " 0         N         NaN  \n",
       " 1         N         NaN  \n",
       " 2         N         NaN  \n",
       " 3         N         NaN  \n",
       " 4         N         NaN  \n",
       " ..      ...         ...  \n",
       " 347       N         NaN  \n",
       " 348       N         NaN  \n",
       " 349       N         NaN  \n",
       " 350       N         NaN  \n",
       " 351       N         NaN  \n",
       " \n",
       " [352 rows x 25 columns]]"
      ]
     },
     "execution_count": 30,
     "metadata": {},
     "output_type": "execute_result"
    }
   ],
   "source": [
    "# Import the necessary libraries and CSVs. Make some dataframes!\n",
    "import pandas as pd\n",
    "\n",
    "baltimore_data = pd.read_csv(r\"C:\\Users\\charl\\Desktop\\LaunchCode-Data-Analysis\\Data-Analysis-Projects\\data-manipulation\\studio\\data-manipulation-studio\\dataset\\baltimore_data.csv\")\n",
    "boston_data = pd.read_csv(r\"C:\\Users\\charl\\Desktop\\LaunchCode-Data-Analysis\\Data-Analysis-Projects\\data-manipulation\\studio\\data-manipulation-studio\\dataset\\boston_data.csv\")\n",
    "new_york_data = pd.read_csv(r\"C:\\Users\\charl\\Desktop\\LaunchCode-Data-Analysis\\Data-Analysis-Projects\\data-manipulation\\studio\\data-manipulation-studio\\dataset\\new-york_data.csv\")\n",
    "philadelphia_data = pd.read_csv(r\"C:\\Users\\charl\\Desktop\\LaunchCode-Data-Analysis\\Data-Analysis-Projects\\data-manipulation\\studio\\data-manipulation-studio\\dataset\\philadelphia_data.csv\")\n",
    "\n",
    "\n",
    "            "
   ]
  },
  {
   "cell_type": "markdown",
   "id": "6cfda42f",
   "metadata": {},
   "source": [
    "## Clean Your Data\n",
    "\n",
    "In the last lesson, we cleaned the data related to San Francisco. Pull up your notebook from the last lesson and use it as a reference to clean up these new dataframes."
   ]
  },
  {
   "cell_type": "code",
   "execution_count": 55,
   "id": "98abc290",
   "metadata": {},
   "outputs": [],
   "source": [
    "# Clean your data here!\n"
   ]
  },
  {
   "cell_type": "markdown",
   "id": "e70b01b9",
   "metadata": {},
   "source": [
    "## Combine Your Data\n",
    "\n",
    "Now that you have four clean sets of data, combine all four into one dataframe that represents the entire Northeast region."
   ]
  },
  {
   "cell_type": "code",
   "execution_count": 56,
   "id": "da059f8a",
   "metadata": {},
   "outputs": [],
   "source": [
    "# Combine the four dataframes into one!\n"
   ]
  },
  {
   "cell_type": "markdown",
   "id": "8590082f",
   "metadata": {},
   "source": [
    "## Answer Some Questions\n",
    "\n",
    "Use `groupby()` and `agg()` to answer the following two questions:\n",
    "\n",
    "1. What is the mean low and high prices for each type of **unit of sale** in the Northeast region? \n",
    "2. For each region, what is the average number of pumpkins per variety that came into terminal markets for the year? "
   ]
  },
  {
   "cell_type": "code",
   "execution_count": 57,
   "id": "c839639a",
   "metadata": {},
   "outputs": [],
   "source": [
    "# Put your code here to find the mean low and high prices in the Northeast region for each type of unit of sale.\n"
   ]
  },
  {
   "cell_type": "code",
   "execution_count": 58,
   "id": "b4b23352",
   "metadata": {},
   "outputs": [],
   "source": [
    "# Put your code here to find the average number of pumpkins coming into terminal markets of each variety.\n"
   ]
  },
  {
   "cell_type": "markdown",
   "id": "a2e5cff4",
   "metadata": {},
   "source": [
    "## Bonus Mission\n",
    "\n",
    "Try answering the same questions for the Midwest (Chicago, Detroit, and St. Louis) or the Southeast (Atlanta, Columbia, and Miami) regions."
   ]
  },
  {
   "cell_type": "code",
   "execution_count": 59,
   "id": "1d22b7fd",
   "metadata": {},
   "outputs": [],
   "source": [
    "# Try the bonus mission if you have time!"
   ]
  },
  {
   "cell_type": "code",
   "execution_count": null,
   "id": "09dbc152",
   "metadata": {},
   "outputs": [],
   "source": []
  }
 ],
 "metadata": {
  "kernelspec": {
   "display_name": "Python 3",
   "language": "python",
   "name": "python3"
  },
  "language_info": {
   "codemirror_mode": {
    "name": "ipython",
    "version": 3
   },
   "file_extension": ".py",
   "mimetype": "text/x-python",
   "name": "python",
   "nbconvert_exporter": "python",
   "pygments_lexer": "ipython3",
   "version": "3.12.5"
  }
 },
 "nbformat": 4,
 "nbformat_minor": 5
}
